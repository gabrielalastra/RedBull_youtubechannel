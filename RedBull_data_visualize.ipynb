{
  "nbformat": 4,
  "nbformat_minor": 0,
  "metadata": {
    "colab": {
      "name": "RedBull_data_visualize.ipynb",
      "provenance": [],
      "mount_file_id": "1IRCC0Yv55P4rmTG65ZzpWOUVO5qCtv9r",
      "authorship_tag": "ABX9TyM4CD2D89fnaZK+X0xc9YeU"
    },
    "kernelspec": {
      "name": "python3",
      "display_name": "Python 3"
    },
    "language_info": {
      "name": "python"
    }
  },
  "cells": [
    {
      "cell_type": "code",
      "execution_count": null,
      "metadata": {
        "id": "GmTPp-4Xfaxx"
      },
      "outputs": [],
      "source": [
        "path ='/content/drive/MyDrive/Colab Notebooks/video_data_clean.xlsx'"
      ]
    },
    {
      "cell_type": "code",
      "source": [
        "import pandas as pd\n",
        "import matplotlib.pyplot as plt\n",
        "import numpy as np\n",
        "import seaborn as sns"
      ],
      "metadata": {
        "id": "ruRi6d3ufkgx"
      },
      "execution_count": null,
      "outputs": []
    },
    {
      "cell_type": "code",
      "source": [
        "df = pd.read_excel(path)"
      ],
      "metadata": {
        "id": "rZh5t4krflc1"
      },
      "execution_count": null,
      "outputs": []
    },
    {
      "cell_type": "code",
      "source": [
        "df.head()"
      ],
      "metadata": {
        "colab": {
          "base_uri": "https://localhost:8080/",
          "height": 548
        },
        "id": "fKRrpAFOfqjy",
        "outputId": "9813dc4e-7600-4510-e105-a8dff8f45905"
      },
      "execution_count": null,
      "outputs": [
        {
          "output_type": "execute_result",
          "data": {
            "text/html": [
              "\n",
              "  <div id=\"df-be0cc536-97b2-4f4a-8595-c2380939da3a\">\n",
              "    <div class=\"colab-df-container\">\n",
              "      <div>\n",
              "<style scoped>\n",
              "    .dataframe tbody tr th:only-of-type {\n",
              "        vertical-align: middle;\n",
              "    }\n",
              "\n",
              "    .dataframe tbody tr th {\n",
              "        vertical-align: top;\n",
              "    }\n",
              "\n",
              "    .dataframe thead th {\n",
              "        text-align: right;\n",
              "    }\n",
              "</style>\n",
              "<table border=\"1\" class=\"dataframe\">\n",
              "  <thead>\n",
              "    <tr style=\"text-align: right;\">\n",
              "      <th></th>\n",
              "      <th>id</th>\n",
              "      <th>defaultAudioLanguage</th>\n",
              "      <th>title</th>\n",
              "      <th>publishedAt</th>\n",
              "      <th>tags</th>\n",
              "      <th>tagsCount</th>\n",
              "      <th>commentCount</th>\n",
              "      <th>likeCount</th>\n",
              "      <th>viewCount</th>\n",
              "      <th>definition</th>\n",
              "      <th>duration</th>\n",
              "      <th>YearMonth</th>\n",
              "      <th>Year</th>\n",
              "      <th>reaction</th>\n",
              "    </tr>\n",
              "  </thead>\n",
              "  <tbody>\n",
              "    <tr>\n",
              "      <th>0</th>\n",
              "      <td>xsPlB4WAmRc</td>\n",
              "      <td>en</td>\n",
              "      <td>timbersports training is wild 🪚 🪓</td>\n",
              "      <td>2022-02-09 17:15:40</td>\n",
              "      <td>None</td>\n",
              "      <td>1</td>\n",
              "      <td>16</td>\n",
              "      <td>1345</td>\n",
              "      <td>46110</td>\n",
              "      <td>hd</td>\n",
              "      <td>PT22S</td>\n",
              "      <td>2022</td>\n",
              "      <td>2022</td>\n",
              "      <td>1361</td>\n",
              "    </tr>\n",
              "    <tr>\n",
              "      <th>1</th>\n",
              "      <td>q-r6V_PgtcY</td>\n",
              "      <td>en</td>\n",
              "      <td>Huge Mountain Sends On Snowmobiles &amp; Skis | Re...</td>\n",
              "      <td>2022-02-07 15:00:36</td>\n",
              "      <td>['red bull', 'redbull', 'action sports', 'extr...</td>\n",
              "      <td>63</td>\n",
              "      <td>85</td>\n",
              "      <td>1935</td>\n",
              "      <td>60964</td>\n",
              "      <td>hd</td>\n",
              "      <td>PT6M56S</td>\n",
              "      <td>2022</td>\n",
              "      <td>2022</td>\n",
              "      <td>2020</td>\n",
              "    </tr>\n",
              "    <tr>\n",
              "      <th>2</th>\n",
              "      <td>jxe870HmYBE</td>\n",
              "      <td>en</td>\n",
              "      <td>Max Verstappen’s Icy Pre-Season Fun: Driving A...</td>\n",
              "      <td>2022-02-03 13:29:23</td>\n",
              "      <td>['red bull', 'redbull', 'action sports', 'extr...</td>\n",
              "      <td>80</td>\n",
              "      <td>1071</td>\n",
              "      <td>26752</td>\n",
              "      <td>742990</td>\n",
              "      <td>hd</td>\n",
              "      <td>PT2M6S</td>\n",
              "      <td>2022</td>\n",
              "      <td>2022</td>\n",
              "      <td>27823</td>\n",
              "    </tr>\n",
              "    <tr>\n",
              "      <th>3</th>\n",
              "      <td>yxVOownOSRs</td>\n",
              "      <td>en</td>\n",
              "      <td>which runner are you? 🏃‍♀️</td>\n",
              "      <td>2022-02-01 17:09:05</td>\n",
              "      <td>None</td>\n",
              "      <td>1</td>\n",
              "      <td>62</td>\n",
              "      <td>1539</td>\n",
              "      <td>52319</td>\n",
              "      <td>hd</td>\n",
              "      <td>PT25S</td>\n",
              "      <td>2022</td>\n",
              "      <td>2022</td>\n",
              "      <td>1601</td>\n",
              "    </tr>\n",
              "    <tr>\n",
              "      <th>4</th>\n",
              "      <td>3-yglCSCPng</td>\n",
              "      <td>en</td>\n",
              "      <td>incredible skiing skills that just look ✨ casu...</td>\n",
              "      <td>2022-01-14 13:00:01</td>\n",
              "      <td>None</td>\n",
              "      <td>1</td>\n",
              "      <td>46</td>\n",
              "      <td>5895</td>\n",
              "      <td>238147</td>\n",
              "      <td>hd</td>\n",
              "      <td>PT22S</td>\n",
              "      <td>2022</td>\n",
              "      <td>2022</td>\n",
              "      <td>5941</td>\n",
              "    </tr>\n",
              "  </tbody>\n",
              "</table>\n",
              "</div>\n",
              "      <button class=\"colab-df-convert\" onclick=\"convertToInteractive('df-be0cc536-97b2-4f4a-8595-c2380939da3a')\"\n",
              "              title=\"Convert this dataframe to an interactive table.\"\n",
              "              style=\"display:none;\">\n",
              "        \n",
              "  <svg xmlns=\"http://www.w3.org/2000/svg\" height=\"24px\"viewBox=\"0 0 24 24\"\n",
              "       width=\"24px\">\n",
              "    <path d=\"M0 0h24v24H0V0z\" fill=\"none\"/>\n",
              "    <path d=\"M18.56 5.44l.94 2.06.94-2.06 2.06-.94-2.06-.94-.94-2.06-.94 2.06-2.06.94zm-11 1L8.5 8.5l.94-2.06 2.06-.94-2.06-.94L8.5 2.5l-.94 2.06-2.06.94zm10 10l.94 2.06.94-2.06 2.06-.94-2.06-.94-.94-2.06-.94 2.06-2.06.94z\"/><path d=\"M17.41 7.96l-1.37-1.37c-.4-.4-.92-.59-1.43-.59-.52 0-1.04.2-1.43.59L10.3 9.45l-7.72 7.72c-.78.78-.78 2.05 0 2.83L4 21.41c.39.39.9.59 1.41.59.51 0 1.02-.2 1.41-.59l7.78-7.78 2.81-2.81c.8-.78.8-2.07 0-2.86zM5.41 20L4 18.59l7.72-7.72 1.47 1.35L5.41 20z\"/>\n",
              "  </svg>\n",
              "      </button>\n",
              "      \n",
              "  <style>\n",
              "    .colab-df-container {\n",
              "      display:flex;\n",
              "      flex-wrap:wrap;\n",
              "      gap: 12px;\n",
              "    }\n",
              "\n",
              "    .colab-df-convert {\n",
              "      background-color: #E8F0FE;\n",
              "      border: none;\n",
              "      border-radius: 50%;\n",
              "      cursor: pointer;\n",
              "      display: none;\n",
              "      fill: #1967D2;\n",
              "      height: 32px;\n",
              "      padding: 0 0 0 0;\n",
              "      width: 32px;\n",
              "    }\n",
              "\n",
              "    .colab-df-convert:hover {\n",
              "      background-color: #E2EBFA;\n",
              "      box-shadow: 0px 1px 2px rgba(60, 64, 67, 0.3), 0px 1px 3px 1px rgba(60, 64, 67, 0.15);\n",
              "      fill: #174EA6;\n",
              "    }\n",
              "\n",
              "    [theme=dark] .colab-df-convert {\n",
              "      background-color: #3B4455;\n",
              "      fill: #D2E3FC;\n",
              "    }\n",
              "\n",
              "    [theme=dark] .colab-df-convert:hover {\n",
              "      background-color: #434B5C;\n",
              "      box-shadow: 0px 1px 3px 1px rgba(0, 0, 0, 0.15);\n",
              "      filter: drop-shadow(0px 1px 2px rgba(0, 0, 0, 0.3));\n",
              "      fill: #FFFFFF;\n",
              "    }\n",
              "  </style>\n",
              "\n",
              "      <script>\n",
              "        const buttonEl =\n",
              "          document.querySelector('#df-be0cc536-97b2-4f4a-8595-c2380939da3a button.colab-df-convert');\n",
              "        buttonEl.style.display =\n",
              "          google.colab.kernel.accessAllowed ? 'block' : 'none';\n",
              "\n",
              "        async function convertToInteractive(key) {\n",
              "          const element = document.querySelector('#df-be0cc536-97b2-4f4a-8595-c2380939da3a');\n",
              "          const dataTable =\n",
              "            await google.colab.kernel.invokeFunction('convertToInteractive',\n",
              "                                                     [key], {});\n",
              "          if (!dataTable) return;\n",
              "\n",
              "          const docLinkHtml = 'Like what you see? Visit the ' +\n",
              "            '<a target=\"_blank\" href=https://colab.research.google.com/notebooks/data_table.ipynb>data table notebook</a>'\n",
              "            + ' to learn more about interactive tables.';\n",
              "          element.innerHTML = '';\n",
              "          dataTable['output_type'] = 'display_data';\n",
              "          await google.colab.output.renderOutput(dataTable, element);\n",
              "          const docLink = document.createElement('div');\n",
              "          docLink.innerHTML = docLinkHtml;\n",
              "          element.appendChild(docLink);\n",
              "        }\n",
              "      </script>\n",
              "    </div>\n",
              "  </div>\n",
              "  "
            ],
            "text/plain": [
              "            id defaultAudioLanguage  ...  Year reaction\n",
              "0  xsPlB4WAmRc                   en  ...  2022     1361\n",
              "1  q-r6V_PgtcY                   en  ...  2022     2020\n",
              "2  jxe870HmYBE                   en  ...  2022    27823\n",
              "3  yxVOownOSRs                   en  ...  2022     1601\n",
              "4  3-yglCSCPng                   en  ...  2022     5941\n",
              "\n",
              "[5 rows x 14 columns]"
            ]
          },
          "metadata": {},
          "execution_count": 29
        }
      ]
    },
    {
      "cell_type": "code",
      "source": [
        "df.info()"
      ],
      "metadata": {
        "colab": {
          "base_uri": "https://localhost:8080/"
        },
        "id": "baAJFDRAfsHB",
        "outputId": "8d0843a9-f782-4f10-cc73-977df9ed88e9"
      },
      "execution_count": null,
      "outputs": [
        {
          "output_type": "stream",
          "name": "stdout",
          "text": [
            "<class 'pandas.core.frame.DataFrame'>\n",
            "RangeIndex: 5723 entries, 0 to 5722\n",
            "Data columns (total 14 columns):\n",
            " #   Column                Non-Null Count  Dtype         \n",
            "---  ------                --------------  -----         \n",
            " 0   id                    5723 non-null   object        \n",
            " 1   defaultAudioLanguage  5723 non-null   object        \n",
            " 2   title                 5723 non-null   object        \n",
            " 3   publishedAt           5723 non-null   datetime64[ns]\n",
            " 4   tags                  5723 non-null   object        \n",
            " 5   tagsCount             5723 non-null   int64         \n",
            " 6   commentCount          5723 non-null   int64         \n",
            " 7   likeCount             5723 non-null   int64         \n",
            " 8   viewCount             5723 non-null   int64         \n",
            " 9   definition            5723 non-null   object        \n",
            " 10  duration              5723 non-null   object        \n",
            " 11  YearMonth             5723 non-null   int64         \n",
            " 12  Year                  5723 non-null   int64         \n",
            " 13  reaction              5723 non-null   int64         \n",
            "dtypes: datetime64[ns](1), int64(7), object(6)\n",
            "memory usage: 626.1+ KB\n"
          ]
        }
      ]
    },
    {
      "cell_type": "code",
      "source": [
        "df['title']= pd.Series(df['title'], dtype=\"string\")\n",
        "df['tags'] = pd.Series(df['tags'], dtype='string')"
      ],
      "metadata": {
        "id": "npt55Fw3t1SK"
      },
      "execution_count": null,
      "outputs": []
    },
    {
      "cell_type": "markdown",
      "source": [
        "<h2 align='center'>General Information about <br>the Red Bull youtube channel dataframe</h2>\n",
        "<hr color='orange'>"
      ],
      "metadata": {
        "id": "_EA5niQbf0Qw"
      }
    },
    {
      "cell_type": "code",
      "source": [
        "plt.figure(figsize=[10,7])\n",
        "sns.heatmap(df.corr())\n",
        "plt.title('\\nNumerical Columns Corelation\\n\\n', size=15)"
      ],
      "metadata": {
        "colab": {
          "base_uri": "https://localhost:8080/",
          "height": 582
        },
        "id": "a49UGjdFiVB9",
        "outputId": "4d50ddc9-ead0-4462-9c81-f9f93541dd8c"
      },
      "execution_count": null,
      "outputs": [
        {
          "output_type": "execute_result",
          "data": {
            "text/plain": [
              "Text(0.5, 1.0, '\\nNumerical Columns Corelation\\n\\n')"
            ]
          },
          "metadata": {},
          "execution_count": 32
        },
        {
          "output_type": "display_data",
          "data": {
            "image/png": "[encoded data removed]",
            "text/plain": [
              "<Figure size 720x504 with 2 Axes>"
            ]
          },
          "metadata": {
            "needs_background": "light"
          }
        }
      ]
    },
    {
      "cell_type": "code",
      "source": [
        "plt.figure(figsize=[20,6])\n",
        "plt.hist(df['publishedAt'], bins=70, alpha=0.6, label='videos uploaded')\n",
        "plt.axhline(df['tagsCount'].mean(), color='red', label='TagsCount average')\n",
        "plt.title('\\nPublished by Red Bull \\n\\n', size=20)\n",
        "plt.legend(loc='center left')"
      ],
      "metadata": {
        "colab": {
          "base_uri": "https://localhost:8080/",
          "height": 276
        },
        "id": "o5DTmhepfu42",
        "outputId": "ef8969e6-bd21-4892-f7f9-189fa2a75e0c"
      },
      "execution_count": null,
      "outputs": [
        {
          "output_type": "execute_result",
          "data": {
            "text/plain": [
              "<matplotlib.legend.Legend at 0x7fc5ed365e10>"
            ]
          },
          "metadata": {},
          "execution_count": 33
        },
        {
          "output_type": "display_data",
          "data": {
            "image/png": "[encoded data removed]",
            "text/plain": [
              "<Figure size 1440x432 with 1 Axes>"
            ]
          },
          "metadata": {
            "needs_background": "light"
          }
        }
      ]
    },
    {
      "cell_type": "code",
      "source": [
        "plt.figure(figsize=[10,4])\n",
        "plt.scatter(df['publishedAt'],df['viewCount'], label='view', alpha=0.5)\n",
        "plt.grid()\n",
        "plt.legend(loc='upper right')\n",
        "plt.ylabel('Numbers x10ˆ8')\n",
        "plt.xlabel('Years')\n",
        "plt.title('\\nViews per Year\\n\\n', size=12)"
      ],
      "metadata": {
        "colab": {
          "base_uri": "https://localhost:8080/",
          "height": 357
        },
        "id": "U1Hk2-8xjZz6",
        "outputId": "6f1f8a7a-4bde-4721-e819-532001bcfbb0"
      },
      "execution_count": null,
      "outputs": [
        {
          "output_type": "execute_result",
          "data": {
            "text/plain": [
              "Text(0.5, 1.0, '\\nViews per Year\\n\\n')"
            ]
          },
          "metadata": {},
          "execution_count": 34
        },
        {
          "output_type": "display_data",
          "data": {
            "image/png": "[encoded data removed]",
            "text/plain": [
              "<Figure size 720x288 with 1 Axes>"
            ]
          },
          "metadata": {
            "needs_background": "light"
          }
        }
      ]
    },
    {
      "cell_type": "markdown",
      "source": [
        "<h3 align='right'>Red Bull dataframe general stats</h3>"
      ],
      "metadata": {
        "id": "8nLjPLFZVeQY"
      }
    },
    {
      "cell_type": "code",
      "source": [
        "df.describe().apply(lambda s: s.apply('{0:.2f}'.format))"
      ],
      "metadata": {
        "colab": {
          "base_uri": "https://localhost:8080/",
          "height": 364
        },
        "id": "XjKgYO6xsXTS",
        "outputId": "67c1c44d-afa9-42b7-c883-cf782f3864a0"
      },
      "execution_count": null,
      "outputs": [
        {
          "output_type": "execute_result",
          "data": {
            "text/html": [
              "\n",
              "  <div id=\"df-44a11977-eb34-4fc7-ba21-aacba0c08e7b\">\n",
              "    <div class=\"colab-df-container\">\n",
              "      <div>\n",
              "<style scoped>\n",
              "    .dataframe tbody tr th:only-of-type {\n",
              "        vertical-align: middle;\n",
              "    }\n",
              "\n",
              "    .dataframe tbody tr th {\n",
              "        vertical-align: top;\n",
              "    }\n",
              "\n",
              "    .dataframe thead th {\n",
              "        text-align: right;\n",
              "    }\n",
              "</style>\n",
              "<table border=\"1\" class=\"dataframe\">\n",
              "  <thead>\n",
              "    <tr style=\"text-align: right;\">\n",
              "      <th></th>\n",
              "      <th>tagsCount</th>\n",
              "      <th>commentCount</th>\n",
              "      <th>likeCount</th>\n",
              "      <th>viewCount</th>\n",
              "      <th>YearMonth</th>\n",
              "      <th>Year</th>\n",
              "      <th>reaction</th>\n",
              "    </tr>\n",
              "  </thead>\n",
              "  <tbody>\n",
              "    <tr>\n",
              "      <th>count</th>\n",
              "      <td>5723.00</td>\n",
              "      <td>5723.00</td>\n",
              "      <td>5723.00</td>\n",
              "      <td>5723.00</td>\n",
              "      <td>5723.00</td>\n",
              "      <td>5723.00</td>\n",
              "      <td>5723.00</td>\n",
              "    </tr>\n",
              "    <tr>\n",
              "      <th>mean</th>\n",
              "      <td>61.34</td>\n",
              "      <td>140.72</td>\n",
              "      <td>3275.54</td>\n",
              "      <td>446567.86</td>\n",
              "      <td>2013.66</td>\n",
              "      <td>2013.66</td>\n",
              "      <td>3416.26</td>\n",
              "    </tr>\n",
              "    <tr>\n",
              "      <th>std</th>\n",
              "      <td>15.71</td>\n",
              "      <td>789.00</td>\n",
              "      <td>24859.03</td>\n",
              "      <td>3057846.54</td>\n",
              "      <td>2.96</td>\n",
              "      <td>2.96</td>\n",
              "      <td>25447.51</td>\n",
              "    </tr>\n",
              "    <tr>\n",
              "      <th>min</th>\n",
              "      <td>1.00</td>\n",
              "      <td>0.00</td>\n",
              "      <td>0.00</td>\n",
              "      <td>47.00</td>\n",
              "      <td>2008.00</td>\n",
              "      <td>2008.00</td>\n",
              "      <td>0.00</td>\n",
              "    </tr>\n",
              "    <tr>\n",
              "      <th>25%</th>\n",
              "      <td>58.00</td>\n",
              "      <td>23.00</td>\n",
              "      <td>302.00</td>\n",
              "      <td>34198.00</td>\n",
              "      <td>2012.00</td>\n",
              "      <td>2012.00</td>\n",
              "      <td>337.50</td>\n",
              "    </tr>\n",
              "    <tr>\n",
              "      <th>50%</th>\n",
              "      <td>68.00</td>\n",
              "      <td>44.00</td>\n",
              "      <td>728.00</td>\n",
              "      <td>73162.00</td>\n",
              "      <td>2013.00</td>\n",
              "      <td>2013.00</td>\n",
              "      <td>776.00</td>\n",
              "    </tr>\n",
              "    <tr>\n",
              "      <th>75%</th>\n",
              "      <td>71.00</td>\n",
              "      <td>94.00</td>\n",
              "      <td>1680.00</td>\n",
              "      <td>206734.00</td>\n",
              "      <td>2016.00</td>\n",
              "      <td>2016.00</td>\n",
              "      <td>1771.50</td>\n",
              "    </tr>\n",
              "    <tr>\n",
              "      <th>max</th>\n",
              "      <td>95.00</td>\n",
              "      <td>30411.00</td>\n",
              "      <td>1334567.00</td>\n",
              "      <td>157097735.00</td>\n",
              "      <td>2022.00</td>\n",
              "      <td>2022.00</td>\n",
              "      <td>1355696.00</td>\n",
              "    </tr>\n",
              "  </tbody>\n",
              "</table>\n",
              "</div>\n",
              "      <button class=\"colab-df-convert\" onclick=\"convertToInteractive('df-44a11977-eb34-4fc7-ba21-aacba0c08e7b')\"\n",
              "              title=\"Convert this dataframe to an interactive table.\"\n",
              "              style=\"display:none;\">\n",
              "        \n",
              "  <svg xmlns=\"http://www.w3.org/2000/svg\" height=\"24px\"viewBox=\"0 0 24 24\"\n",
              "       width=\"24px\">\n",
              "    <path d=\"M0 0h24v24H0V0z\" fill=\"none\"/>\n",
              "    <path d=\"M18.56 5.44l.94 2.06.94-2.06 2.06-.94-2.06-.94-.94-2.06-.94 2.06-2.06.94zm-11 1L8.5 8.5l.94-2.06 2.06-.94-2.06-.94L8.5 2.5l-.94 2.06-2.06.94zm10 10l.94 2.06.94-2.06 2.06-.94-2.06-.94-.94-2.06-.94 2.06-2.06.94z\"/><path d=\"M17.41 7.96l-1.37-1.37c-.4-.4-.92-.59-1.43-.59-.52 0-1.04.2-1.43.59L10.3 9.45l-7.72 7.72c-.78.78-.78 2.05 0 2.83L4 21.41c.39.39.9.59 1.41.59.51 0 1.02-.2 1.41-.59l7.78-7.78 2.81-2.81c.8-.78.8-2.07 0-2.86zM5.41 20L4 18.59l7.72-7.72 1.47 1.35L5.41 20z\"/>\n",
              "  </svg>\n",
              "      </button>\n",
              "      \n",
              "  <style>\n",
              "    .colab-df-container {\n",
              "      display:flex;\n",
              "      flex-wrap:wrap;\n",
              "      gap: 12px;\n",
              "    }\n",
              "\n",
              "    .colab-df-convert {\n",
              "      background-color: #E8F0FE;\n",
              "      border: none;\n",
              "      border-radius: 50%;\n",
              "      cursor: pointer;\n",
              "      display: none;\n",
              "      fill: #1967D2;\n",
              "      height: 32px;\n",
              "      padding: 0 0 0 0;\n",
              "      width: 32px;\n",
              "    }\n",
              "\n",
              "    .colab-df-convert:hover {\n",
              "      background-color: #E2EBFA;\n",
              "      box-shadow: 0px 1px 2px rgba(60, 64, 67, 0.3), 0px 1px 3px 1px rgba(60, 64, 67, 0.15);\n",
              "      fill: #174EA6;\n",
              "    }\n",
              "\n",
              "    [theme=dark] .colab-df-convert {\n",
              "      background-color: #3B4455;\n",
              "      fill: #D2E3FC;\n",
              "    }\n",
              "\n",
              "    [theme=dark] .colab-df-convert:hover {\n",
              "      background-color: #434B5C;\n",
              "      box-shadow: 0px 1px 3px 1px rgba(0, 0, 0, 0.15);\n",
              "      filter: drop-shadow(0px 1px 2px rgba(0, 0, 0, 0.3));\n",
              "      fill: #FFFFFF;\n",
              "    }\n",
              "  </style>\n",
              "\n",
              "      <script>\n",
              "        const buttonEl =\n",
              "          document.querySelector('#df-44a11977-eb34-4fc7-ba21-aacba0c08e7b button.colab-df-convert');\n",
              "        buttonEl.style.display =\n",
              "          google.colab.kernel.accessAllowed ? 'block' : 'none';\n",
              "\n",
              "        async function convertToInteractive(key) {\n",
              "          const element = document.querySelector('#df-44a11977-eb34-4fc7-ba21-aacba0c08e7b');\n",
              "          const dataTable =\n",
              "            await google.colab.kernel.invokeFunction('convertToInteractive',\n",
              "                                                     [key], {});\n",
              "          if (!dataTable) return;\n",
              "\n",
              "          const docLinkHtml = 'Like what you see? Visit the ' +\n",
              "            '<a target=\"_blank\" href=https://colab.research.google.com/notebooks/data_table.ipynb>data table notebook</a>'\n",
              "            + ' to learn more about interactive tables.';\n",
              "          element.innerHTML = '';\n",
              "          dataTable['output_type'] = 'display_data';\n",
              "          await google.colab.output.renderOutput(dataTable, element);\n",
              "          const docLink = document.createElement('div');\n",
              "          docLink.innerHTML = docLinkHtml;\n",
              "          element.appendChild(docLink);\n",
              "        }\n",
              "      </script>\n",
              "    </div>\n",
              "  </div>\n",
              "  "
            ],
            "text/plain": [
              "      tagsCount commentCount   likeCount  ... YearMonth     Year    reaction\n",
              "count   5723.00      5723.00     5723.00  ...   5723.00  5723.00     5723.00\n",
              "mean      61.34       140.72     3275.54  ...   2013.66  2013.66     3416.26\n",
              "std       15.71       789.00    24859.03  ...      2.96     2.96    25447.51\n",
              "min        1.00         0.00        0.00  ...   2008.00  2008.00        0.00\n",
              "25%       58.00        23.00      302.00  ...   2012.00  2012.00      337.50\n",
              "50%       68.00        44.00      728.00  ...   2013.00  2013.00      776.00\n",
              "75%       71.00        94.00     1680.00  ...   2016.00  2016.00     1771.50\n",
              "max       95.00     30411.00  1334567.00  ...   2022.00  2022.00  1355696.00\n",
              "\n",
              "[8 rows x 7 columns]"
            ]
          },
          "metadata": {},
          "execution_count": 35
        }
      ]
    },
    {
      "cell_type": "code",
      "source": [
        "df['definition'].value_counts().plot(kind='barh', figsize=[5,3],\n",
        "                                             color=plt.cm.Paired(np.arange(len(df['definition']))))\n",
        "plt.title('Videos Definition\\n')\n"
      ],
      "metadata": {
        "colab": {
          "base_uri": "https://localhost:8080/",
          "height": 259
        },
        "id": "Ktssqh_3h_JH",
        "outputId": "d8c1b7da-284d-4542-e20a-f53d452ff11c"
      },
      "execution_count": null,
      "outputs": [
        {
          "output_type": "execute_result",
          "data": {
            "text/plain": [
              "Text(0.5, 1.0, 'Videos Definition\\n')"
            ]
          },
          "metadata": {},
          "execution_count": 36
        },
        {
          "output_type": "display_data",
          "data": {
            "image/png": "[encoded data removed]",
            "text/plain": [
              "<Figure size 360x216 with 1 Axes>"
            ]
          },
          "metadata": {
            "needs_background": "light"
          }
        }
      ]
    },
    {
      "cell_type": "code",
      "source": [
        "df['reaction'].describe()"
      ],
      "metadata": {
        "colab": {
          "base_uri": "https://localhost:8080/"
        },
        "id": "Ll89_O4aieYt",
        "outputId": "bedbbeea-9b13-425a-9fc8-fc4e8980b576"
      },
      "execution_count": null,
      "outputs": [
        {
          "output_type": "execute_result",
          "data": {
            "text/plain": [
              "count    5.723000e+03\n",
              "mean     3.416263e+03\n",
              "std      2.544751e+04\n",
              "min      0.000000e+00\n",
              "25%      3.375000e+02\n",
              "50%      7.760000e+02\n",
              "75%      1.771500e+03\n",
              "max      1.355696e+06\n",
              "Name: reaction, dtype: float64"
            ]
          },
          "metadata": {},
          "execution_count": 37
        }
      ]
    },
    {
      "cell_type": "markdown",
      "source": [
        "<h2 align='center'>Are the tags effective <br>for the Red Bull youtube channel?</h2>\n",
        "<hr color='orange'>"
      ],
      "metadata": {
        "id": "mSgvT4vknE4h"
      }
    },
    {
      "cell_type": "code",
      "source": [
        "df['likeCount'].describe()"
      ],
      "metadata": {
        "colab": {
          "base_uri": "https://localhost:8080/"
        },
        "id": "XIiuQm5BpeAY",
        "outputId": "ca5ec207-71d3-442b-c5ba-656d4c3c789e"
      },
      "execution_count": null,
      "outputs": [
        {
          "output_type": "execute_result",
          "data": {
            "text/plain": [
              "count    5.723000e+03\n",
              "mean     3.275542e+03\n",
              "std      2.485903e+04\n",
              "min      0.000000e+00\n",
              "25%      3.020000e+02\n",
              "50%      7.280000e+02\n",
              "75%      1.680000e+03\n",
              "max      1.334567e+06\n",
              "Name: likeCount, dtype: float64"
            ]
          },
          "metadata": {},
          "execution_count": 38
        }
      ]
    },
    {
      "cell_type": "markdown",
      "source": [
        "<h3 align='right'>separate the TagsCount with LikesCount > 75%</h3>\n",
        "\n"
      ],
      "metadata": {
        "id": "DWyYcIOatrVk"
      }
    },
    {
      "cell_type": "code",
      "source": [
        "tagmasky = (df['likeCount']>df['likeCount'].quantile(0.75))\n",
        "tagmasky = df[tagmasky]\n",
        "print('the lowest \"Like count\" in the 0.75 quantile:\\n',\n",
        "      tagmasky['likeCount'].min())\n"
      ],
      "metadata": {
        "colab": {
          "base_uri": "https://localhost:8080/"
        },
        "id": "S4-i1PMEoaQo",
        "outputId": "cc718861-e018-42ce-ccd0-36b3c9f08722"
      },
      "execution_count": null,
      "outputs": [
        {
          "output_type": "stream",
          "name": "stdout",
          "text": [
            "the lowest \"Like count\" in the 0.75 quantile:\n",
            " 1681\n"
          ]
        }
      ]
    },
    {
      "cell_type": "code",
      "source": [
        "plt.figure(figsize=[20,8])\n",
        "plt.scatter(df['tagsCount'], df['Year'], alpha=0.5, label='Tag Count Frequency')\n",
        "plt.axvline(df['tagsCount'].mean(), color='green', label='TagsCount Average\\n')\n",
        "plt.axvline(tagmasky['tagsCount'].mean(), color='orange', label='TagsCount average \\n& LikeCount > 75%\\n')\n",
        "plt.axvline(tagmasky['tagsCount'].max(), color='red', label='TagsCount max \\n& LikeCount > 75%\\n')\n",
        "plt.title('\\nTag Count in the most\\nliked videos\\n\\n', size=20)\n",
        "plt.ylabel('Year', size=15)\n",
        "plt.xlabel('Tag count', size=15)\n",
        "plt.legend(loc='center right')"
      ],
      "metadata": {
        "colab": {
          "base_uri": "https://localhost:8080/",
          "height": 351
        },
        "id": "YJuMlxvkmCNj",
        "outputId": "d28cae2c-3449-4f71-b336-a5d93216fa9d"
      },
      "execution_count": null,
      "outputs": [
        {
          "output_type": "execute_result",
          "data": {
            "text/plain": [
              "<matplotlib.legend.Legend at 0x7fc5ed124f10>"
            ]
          },
          "metadata": {},
          "execution_count": 40
        },
        {
          "output_type": "display_data",
          "data": {
            "image/png": "[encoded data removed]",
            "text/plain": [
              "<Figure size 1440x576 with 1 Axes>"
            ]
          },
          "metadata": {
            "needs_background": "light"
          }
        }
      ]
    },
    {
      "cell_type": "code",
      "source": [
        "plt.figure(figsize=[10,8])\n",
        "tagmasky['Year'].value_counts().plot(kind='barh', alpha=0.8,\n",
        "                                     color=plt.cm.tab20(np.arange(len(tagmasky['Year']))))\n",
        "plt.axvline(tagmasky['tagsCount'].mean(),\n",
        "            alpha=0.6,label='TagsCount Average\\nwith LikeCount >75%\\n')\n",
        "\n",
        "plt.title('\\nVideo Frenquecy per year\\nwith LikeCount > 75%\\n', size=13)\n",
        "plt.legend(loc='upper right')"
      ],
      "metadata": {
        "colab": {
          "base_uri": "https://localhost:8080/",
          "height": 561
        },
        "id": "5jIW9othqvog",
        "outputId": "7bfcee7d-9bce-4899-e070-24b10dc17305"
      },
      "execution_count": null,
      "outputs": [
        {
          "output_type": "execute_result",
          "data": {
            "text/plain": [
              "<matplotlib.legend.Legend at 0x7fc5ed0e93d0>"
            ]
          },
          "metadata": {},
          "execution_count": 41
        },
        {
          "output_type": "display_data",
          "data": {
            "image/png": "[encoded data removed]",
            "text/plain": [
              "<Figure size 720x576 with 1 Axes>"
            ]
          },
          "metadata": {
            "needs_background": "light"
          }
        }
      ]
    },
    {
      "cell_type": "code",
      "source": [
        "plt.figure(figsize=[10,8])\n",
        "plt.scatter(tagmasky['likeCount'], tagmasky['Year'], alpha=0.5)\n",
        "plt.axvline(tagmasky['likeCount'].max(), color='orange', label='most liked video')\n",
        "plt.grid(color='black', linestyle=':')\n",
        "plt.xlabel('\\nNumber of Likes x 10ˆ6')\n",
        "plt.title('\\nLikeCount > 75%\\n\\n', size=15)\n",
        "plt.legend(loc='upper right')"
      ],
      "metadata": {
        "colab": {
          "base_uri": "https://localhost:8080/",
          "height": 596
        },
        "id": "uk2kK2eVxMTg",
        "outputId": "8bb32a58-abb0-4bc0-c329-09a6b935d8b7"
      },
      "execution_count": null,
      "outputs": [
        {
          "output_type": "execute_result",
          "data": {
            "text/plain": [
              "<matplotlib.legend.Legend at 0x7fc5ed08a450>"
            ]
          },
          "metadata": {},
          "execution_count": 42
        },
        {
          "output_type": "display_data",
          "data": {
            "image/png": "[encoded data removed]",
            "text/plain": [
              "<Figure size 720x576 with 1 Axes>"
            ]
          },
          "metadata": {
            "needs_background": "light"
          }
        }
      ]
    },
    {
      "cell_type": "markdown",
      "source": [
        "<h3 align='right'>Information about the  most viewed and liked video</h3>"
      ],
      "metadata": {
        "id": "do-xc_FEY7Yd"
      }
    },
    {
      "cell_type": "code",
      "source": [
        "outlier = (tagmasky['likeCount'] == tagmasky['likeCount'].max())\n",
        "outlier = tagmasky[outlier]\n",
        "print('Title:\\n',outlier['title'])\n",
        "print('LikeCount:\\n',outlier['likeCount'])\n",
        "print('CommentCount:\\n',outlier['commentCount'])\n",
        "print('Published At:\\n',outlier['publishedAt'])\n",
        "print('Tags:\\n', outlier['tags'].values)"
      ],
      "metadata": {
        "colab": {
          "base_uri": "https://localhost:8080/"
        },
        "id": "7Vv3N5hp3Gyy",
        "outputId": "5c9d7382-8165-41d7-862b-8dffa4f54c33"
      },
      "execution_count": null,
      "outputs": [
        {
          "output_type": "stream",
          "name": "stdout",
          "text": [
            "Title:\n",
            " 1120    Last Call for Mr. Paul\n",
            "Name: title, dtype: string\n",
            "LikeCount:\n",
            " 1120    1334567\n",
            "Name: likeCount, dtype: int64\n",
            "CommentCount:\n",
            " 1120    21129\n",
            "Name: commentCount, dtype: int64\n",
            "Published At:\n",
            " 1120   2016-12-07 09:00:00\n",
            "Name: publishedAt, dtype: datetime64[ns]\n",
            "Tags:\n",
            " <StringArray>\n",
            "['[\\'fixed perspective\\', \\'illusion\\', \\'magic\\', \\'trick\\', \\'tricks\\', \\'freerunning illusion\\', \\'freerunning\\', \\'free running\\', \\'parkour\\', \\'parkour freerunning\\', \\'jason paul\\', \\'freerunner\\', \\'Running\\', \\'red bull\\', \\'redbull\\', \\'red bull parkour\\', \\'action sports\\', \"Jason Paul\\'s Freerunning Illuisions\", \\'freerunning illusions\\', \\'last call for mr paul\\', \\'last call for jason paul\\', \\'jason paul airport\\', \\'airport freerunning\\', \\'lufthansa\\', \\'airport parkour\\', \\'parkour pov\\', \\'parkour pov chase\\', \\'pov parkour\\', \\'late for flight parkour\\', \\'rooftop parkour\\']']\n",
            "Length: 1, dtype: string\n"
          ]
        }
      ]
    },
    {
      "cell_type": "code",
      "source": [
        "mask = (df['viewCount'] == df['viewCount'].max())\n",
        "mask = df[mask]\n",
        "mask"
      ],
      "metadata": {
        "colab": {
          "base_uri": "https://localhost:8080/",
          "height": 197
        },
        "id": "nxlHzH4VrFP3",
        "outputId": "788e3e94-7c2d-4b1a-bddb-e410d8c82264"
      },
      "execution_count": null,
      "outputs": [
        {
          "output_type": "execute_result",
          "data": {
            "text/html": [
              "\n",
              "  <div id=\"df-95262585-f604-471f-9b5e-5867a8515e07\">\n",
              "    <div class=\"colab-df-container\">\n",
              "      <div>\n",
              "<style scoped>\n",
              "    .dataframe tbody tr th:only-of-type {\n",
              "        vertical-align: middle;\n",
              "    }\n",
              "\n",
              "    .dataframe tbody tr th {\n",
              "        vertical-align: top;\n",
              "    }\n",
              "\n",
              "    .dataframe thead th {\n",
              "        text-align: right;\n",
              "    }\n",
              "</style>\n",
              "<table border=\"1\" class=\"dataframe\">\n",
              "  <thead>\n",
              "    <tr style=\"text-align: right;\">\n",
              "      <th></th>\n",
              "      <th>id</th>\n",
              "      <th>defaultAudioLanguage</th>\n",
              "      <th>title</th>\n",
              "      <th>publishedAt</th>\n",
              "      <th>tags</th>\n",
              "      <th>tagsCount</th>\n",
              "      <th>commentCount</th>\n",
              "      <th>likeCount</th>\n",
              "      <th>viewCount</th>\n",
              "      <th>definition</th>\n",
              "      <th>duration</th>\n",
              "      <th>YearMonth</th>\n",
              "      <th>Year</th>\n",
              "      <th>reaction</th>\n",
              "    </tr>\n",
              "  </thead>\n",
              "  <tbody>\n",
              "    <tr>\n",
              "      <th>1120</th>\n",
              "      <td>Mv7J2CLBYBk</td>\n",
              "      <td>en</td>\n",
              "      <td>Last Call for Mr. Paul</td>\n",
              "      <td>2016-12-07 09:00:00</td>\n",
              "      <td>['fixed perspective', 'illusion', 'magic', 'tr...</td>\n",
              "      <td>63</td>\n",
              "      <td>21129</td>\n",
              "      <td>1334567</td>\n",
              "      <td>157097735</td>\n",
              "      <td>hd</td>\n",
              "      <td>PT3M55S</td>\n",
              "      <td>2016</td>\n",
              "      <td>2016</td>\n",
              "      <td>1355696</td>\n",
              "    </tr>\n",
              "  </tbody>\n",
              "</table>\n",
              "</div>\n",
              "      <button class=\"colab-df-convert\" onclick=\"convertToInteractive('df-95262585-f604-471f-9b5e-5867a8515e07')\"\n",
              "              title=\"Convert this dataframe to an interactive table.\"\n",
              "              style=\"display:none;\">\n",
              "        \n",
              "  <svg xmlns=\"http://www.w3.org/2000/svg\" height=\"24px\"viewBox=\"0 0 24 24\"\n",
              "       width=\"24px\">\n",
              "    <path d=\"M0 0h24v24H0V0z\" fill=\"none\"/>\n",
              "    <path d=\"M18.56 5.44l.94 2.06.94-2.06 2.06-.94-2.06-.94-.94-2.06-.94 2.06-2.06.94zm-11 1L8.5 8.5l.94-2.06 2.06-.94-2.06-.94L8.5 2.5l-.94 2.06-2.06.94zm10 10l.94 2.06.94-2.06 2.06-.94-2.06-.94-.94-2.06-.94 2.06-2.06.94z\"/><path d=\"M17.41 7.96l-1.37-1.37c-.4-.4-.92-.59-1.43-.59-.52 0-1.04.2-1.43.59L10.3 9.45l-7.72 7.72c-.78.78-.78 2.05 0 2.83L4 21.41c.39.39.9.59 1.41.59.51 0 1.02-.2 1.41-.59l7.78-7.78 2.81-2.81c.8-.78.8-2.07 0-2.86zM5.41 20L4 18.59l7.72-7.72 1.47 1.35L5.41 20z\"/>\n",
              "  </svg>\n",
              "      </button>\n",
              "      \n",
              "  <style>\n",
              "    .colab-df-container {\n",
              "      display:flex;\n",
              "      flex-wrap:wrap;\n",
              "      gap: 12px;\n",
              "    }\n",
              "\n",
              "    .colab-df-convert {\n",
              "      background-color: #E8F0FE;\n",
              "      border: none;\n",
              "      border-radius: 50%;\n",
              "      cursor: pointer;\n",
              "      display: none;\n",
              "      fill: #1967D2;\n",
              "      height: 32px;\n",
              "      padding: 0 0 0 0;\n",
              "      width: 32px;\n",
              "    }\n",
              "\n",
              "    .colab-df-convert:hover {\n",
              "      background-color: #E2EBFA;\n",
              "      box-shadow: 0px 1px 2px rgba(60, 64, 67, 0.3), 0px 1px 3px 1px rgba(60, 64, 67, 0.15);\n",
              "      fill: #174EA6;\n",
              "    }\n",
              "\n",
              "    [theme=dark] .colab-df-convert {\n",
              "      background-color: #3B4455;\n",
              "      fill: #D2E3FC;\n",
              "    }\n",
              "\n",
              "    [theme=dark] .colab-df-convert:hover {\n",
              "      background-color: #434B5C;\n",
              "      box-shadow: 0px 1px 3px 1px rgba(0, 0, 0, 0.15);\n",
              "      filter: drop-shadow(0px 1px 2px rgba(0, 0, 0, 0.3));\n",
              "      fill: #FFFFFF;\n",
              "    }\n",
              "  </style>\n",
              "\n",
              "      <script>\n",
              "        const buttonEl =\n",
              "          document.querySelector('#df-95262585-f604-471f-9b5e-5867a8515e07 button.colab-df-convert');\n",
              "        buttonEl.style.display =\n",
              "          google.colab.kernel.accessAllowed ? 'block' : 'none';\n",
              "\n",
              "        async function convertToInteractive(key) {\n",
              "          const element = document.querySelector('#df-95262585-f604-471f-9b5e-5867a8515e07');\n",
              "          const dataTable =\n",
              "            await google.colab.kernel.invokeFunction('convertToInteractive',\n",
              "                                                     [key], {});\n",
              "          if (!dataTable) return;\n",
              "\n",
              "          const docLinkHtml = 'Like what you see? Visit the ' +\n",
              "            '<a target=\"_blank\" href=https://colab.research.google.com/notebooks/data_table.ipynb>data table notebook</a>'\n",
              "            + ' to learn more about interactive tables.';\n",
              "          element.innerHTML = '';\n",
              "          dataTable['output_type'] = 'display_data';\n",
              "          await google.colab.output.renderOutput(dataTable, element);\n",
              "          const docLink = document.createElement('div');\n",
              "          docLink.innerHTML = docLinkHtml;\n",
              "          element.appendChild(docLink);\n",
              "        }\n",
              "      </script>\n",
              "    </div>\n",
              "  </div>\n",
              "  "
            ],
            "text/plain": [
              "               id defaultAudioLanguage  ...  Year reaction\n",
              "1120  Mv7J2CLBYBk                   en  ...  2016  1355696\n",
              "\n",
              "[1 rows x 14 columns]"
            ]
          },
          "metadata": {},
          "execution_count": 44
        }
      ]
    },
    {
      "cell_type": "code",
      "source": [
        "tagmasky['tagsCount'].describe()"
      ],
      "metadata": {
        "colab": {
          "base_uri": "https://localhost:8080/"
        },
        "id": "JcNPyvQx-3fs",
        "outputId": "0d8ce6f9-8496-47ef-941e-28d2e646607b"
      },
      "execution_count": null,
      "outputs": [
        {
          "output_type": "execute_result",
          "data": {
            "text/plain": [
              "count    1429.000000\n",
              "mean       63.058782\n",
              "std        14.268412\n",
              "min         1.000000\n",
              "25%        62.000000\n",
              "50%        67.000000\n",
              "75%        71.000000\n",
              "max        85.000000\n",
              "Name: tagsCount, dtype: float64"
            ]
          },
          "metadata": {},
          "execution_count": 45
        }
      ]
    },
    {
      "cell_type": "markdown",
      "source": [
        "<h3 align='right'>the Reb Bull information about the videos<br>with LikeCounts >75% and <u>without</u> Tags</h3>\n"
      ],
      "metadata": {
        "id": "KrdsuegfAHuE"
      }
    },
    {
      "cell_type": "code",
      "source": [
        "outlier = (tagmasky['tagsCount'] == tagmasky['tagsCount'].min())\n",
        "outlier = tagmasky[outlier]\n",
        "outlier.value_counts()"
      ],
      "metadata": {
        "colab": {
          "base_uri": "https://localhost:8080/"
        },
        "id": "CqAkFynm_kUn",
        "outputId": "e7e56bc4-670b-443b-9a9c-3ca3e2409d9b"
      },
      "execution_count": null,
      "outputs": [
        {
          "output_type": "execute_result",
          "data": {
            "text/plain": [
              "id           defaultAudioLanguage  title                                                                           publishedAt          tags  tagsCount  commentCount  likeCount  viewCount  definition  duration    YearMonth  Year  reaction\n",
              "0PQ82O_kzCo  en                    Parachuting Onto A Moving Jet Ski                                               2021-10-04 16:02:27  None  1          34            3058       80676      hd          PT15S       2021       2021  3092        1\n",
              "3-yglCSCPng  en                    incredible skiing skills that just look ✨ casual ✨                              2022-01-14 13:00:01  None  1          46            5895       238147     hd          PT22S       2022       2022  5941        1\n",
              "vkUMUr7a2x8  en                    Red Bull Signature Series - The Mint 400 FULL TV EPISODE                        2014-09-26 21:20:03  None  1          348           13220      3359229    hd          PT52M1S     2014       2014  13568       1\n",
              "vaJPwfOt7Bs  en                    The Raw Sounds of Longboarding Mt. Lemmon | Ultimate Rush                       2017-02-08 22:00:04  None  1          662           10682      831207     hd          PT3M23S     2017       2017  11344       1\n",
              "uYtUYt53H54  0                     Red Bull Signature Series - Hare Scramble FULL TV EPISODE                       2015-08-21 19:30:01  None  1          391           9399       2084202    hd          PT58M23S    2015       2015  9790        1\n",
              "suySOr4sEFY  en                    Red Bull Signature Series - Dreamline FULL TV EPISODE                           2014-11-18 17:23:54  None  1          400           10156      2734114    sd          PT52M1S     2014       2014  10556       1\n",
              "rMcW62wx1Qk  en                    Joyride 2016 FULL TV EPISODE - Red Bull Signature Series                        2016-11-04 22:30:01  None  1          297           8515       2368137    hd          PT1H2M41S   2016       2016  8812        1\n",
              "ibISPR8j2Z0  en                    REPLAY: Crashed Ice Canada | 2017 Women's Final | Red Bull Crashed Ice          2017-03-07 22:00:02  None  1          25            2817       546100     hd          PT1M16S     2017       2017  2842        1\n",
              "iZGeSJd_y9E  en                    Red Bull Signature Series - Straight Rhythm 2015 FULL TV EPISODE                2015-12-08 01:46:08  None  1          743           21793      8441568    hd          PT1H23M15S  2015       2015  22536       1\n",
              "iPbzaWiDcAw  en                    Sergio Pérez Wins His First F1 For @Red Bull Racing Honda #Shorts               2021-06-07 16:44:54  None  1          132           5545       118453     hd          PT16S       2021       2021  5677        1\n",
              "gBB4DwqXC1U  en                    smooth break dance moves from B-Boy Issei                                       2021-11-05 14:00:15  None  1          22            1684       53002      hd          PT16S       2021       2021  1706        1\n",
              "cGs8PFo6Jfg  en                    most beautiful skatepark in the world? 🛹 ⛰                                      2021-10-20 12:53:37  None  1          95            5041       158802     hd          PT13S       2021       2021  5136        1\n",
              "XuGAzbBF43k  en                    never give up 💪                                                                 2021-12-30 09:00:14  None  1          1586          293097     6571977    hd          PT27S       2021       2021  294683      1\n",
              "WPFpB-sBGdE  en                    Dropping into the weekend like…                                                 2021-08-20 07:54:21  None  1          42            3775       134919     hd          PT7S        2021       2021  3817        1\n",
              "VxBzvziYAdk  0                     Red Bull Signature Series - Romaniacs 2012 FULL TV EPISODE 17                   2012-10-08 19:01:06  None  1          791           16427      6780727    hd          PT42M19S    2012       2012  17218       1\n",
              "UrNoSXJ-3NU  en                    front flipping a motorbike off a cliff 👀                                        2021-11-18 10:30:34  None  1          99            2927       76487      hd          PT16S       2021       2021  3026        1\n",
              "RPCqcMaRUWg  en                    Downhill MTB Racing From The Leogang UCI World Cup #Shorts                      2021-06-14 10:11:50  None  1          21            1844       65031      hd          PT16S       2021       2021  1865        1\n",
              "R2SZMD4B5lY  en                    30 Epic Timelapses of The Matterhorn in 4K | The Horn                           2016-10-10 18:00:02  None  1          64            1715       82209      hd          PT3M30S     2016       2016  1779        1\n",
              "LzuLDmmyUvg  en                    ‘SORRY BRO’ Mario Roman Accidentally Crashes Motorbike Into People😂 #Short      2021-07-29 14:00:08  None  1          40            1859       77675      hd          PT15S       2021       2021  1899        1\n",
              "KtO1If2uZO8  en                    Now that’s one way to surf🥶🏄🏻‍♂️ #shorts                                        2021-07-15 15:45:20  None  1          41            1871       65287      hd          PT15S       2021       2021  1912        1\n",
              "KZL017P0C28  en                    The World From Above with Max and Zack | URBEX                                  2016-08-18 23:52:34  None  1          295           2526       120395     hd          PT1M29S     2016       2016  2821        1\n",
              "Gs56G8lNDAg  en                    Red Bull Signature Series - Joyride 2014 FULL TV EPISODE                        2014-11-07 19:55:54  None  1          615           17315      5915890    hd          PT52M1S     2014       2014  17930       1\n",
              "GQQnUusRjJo  en                    Jumping A BMX Out Of A Helicopter                                               2021-09-21 09:14:58  None  1          49            3162       95492      hd          PT10S       2021       2021  3211        1\n",
              "G8HqOWHA4H8  en                    Red Bull Signature Series - Red Bull Rampage 2015 FULL TV EPISODE               2016-01-05 18:02:56  None  1          774           46680      9819834    hd          PT1H21M22S  2016       2016  47454       1\n",
              "E-jczFVk2cs  en                    Elite Skydiver Traces Flight Pattern with LED Suit                              2016-10-11 12:59:37  None  1          88            1740       145588     hd          PT1M57S     2016       2016  1828        1\n",
              "zrxRcmepzIY  en                    Indoor Skydiving In The World's Largest Freefall Simulator | w/ Maja Kuczyńska  2017-03-22 20:57:06  None  1          137           2809       164642     hd          PT1M44S     2017       2017  2946        1\n",
              "dtype: int64"
            ]
          },
          "metadata": {},
          "execution_count": 46
        }
      ]
    },
    {
      "cell_type": "code",
      "source": [
        "commentmask = (df['commentCount'] == df['commentCount'].min())\n",
        "commentmask = df[commentmask]\n",
        "plt.figure(figsize=[8,5])\n",
        "plt.scatter(commentmask['tagsCount'], commentmask['Year'], alpha=0.8, label='Tag count frequency')\n",
        "plt.grid()\n",
        "plt.title('\\nTag Count in video \\nwithout comment\\n\\n')\n",
        "plt.legend(loc='upper right')"
      ],
      "metadata": {
        "colab": {
          "base_uri": "https://localhost:8080/",
          "height": 413
        },
        "id": "kFqXkJn0CQfP",
        "outputId": "b02c393d-c53b-44f3-b64c-f201a7fd78ba"
      },
      "execution_count": null,
      "outputs": [
        {
          "output_type": "execute_result",
          "data": {
            "text/plain": [
              "<matplotlib.legend.Legend at 0x7fc5ecffd9d0>"
            ]
          },
          "metadata": {},
          "execution_count": 47
        },
        {
          "output_type": "display_data",
          "data": {
            "image/png": "[encoded data removed]",
            "text/plain": [
              "<Figure size 576x360 with 1 Axes>"
            ]
          },
          "metadata": {
            "needs_background": "light"
          }
        }
      ]
    },
    {
      "cell_type": "code",
      "source": [
        "viewmask = (df['viewCount'] < df['viewCount'].mean())\n",
        "viewmask = df[viewmask]"
      ],
      "metadata": {
        "id": "fKI5CxodMc1v"
      },
      "execution_count": null,
      "outputs": []
    },
    {
      "cell_type": "code",
      "source": [
        "plt.figure(figsize=[16,6])\n",
        "plt.scatter(viewmask['tagsCount'], viewmask['Year'], alpha=0.5,\n",
        "            label='Tag Count Frequency')\n",
        "plt.axvline(viewmask['tagsCount'].mean(), color='red', \n",
        "            label='\\nTag Count averange\\namong the videos\\nbelow average\\n')\n",
        "plt.grid()\n",
        "plt.title('\\nTagsCount in the least\\nviewed videos\\n\\n', size=15)\n",
        "plt.ylabel('Year')\n",
        "plt.xlabel('Tag Count')\n",
        "plt.legend(loc='center right')"
      ],
      "metadata": {
        "colab": {
          "base_uri": "https://localhost:8080/",
          "height": 337
        },
        "id": "YpIPs3-LJcPF",
        "outputId": "86cc3d64-98a5-4969-9e20-94ed0c013ee4"
      },
      "execution_count": null,
      "outputs": [
        {
          "output_type": "execute_result",
          "data": {
            "text/plain": [
              "<matplotlib.legend.Legend at 0x7fc5ecf79cd0>"
            ]
          },
          "metadata": {},
          "execution_count": 49
        },
        {
          "output_type": "display_data",
          "data": {
            "image/png": "[encoded data removed]",
            "text/plain": [
              "<Figure size 1152x432 with 1 Axes>"
            ]
          },
          "metadata": {
            "needs_background": "light"
          }
        }
      ]
    },
    {
      "cell_type": "markdown",
      "source": [
        "<h3 align='center'>Decision Tree</h3>"
      ],
      "metadata": {
        "id": "wY4dI280TppK"
      }
    },
    {
      "cell_type": "code",
      "source": [
        "df.head()"
      ],
      "metadata": {
        "colab": {
          "base_uri": "https://localhost:8080/",
          "height": 548
        },
        "id": "xH9yz3b4O2u1",
        "outputId": "1615ba7f-42bb-4d41-aabc-c6b870a5dc36"
      },
      "execution_count": null,
      "outputs": [
        {
          "output_type": "execute_result",
          "data": {
            "text/html": [
              "\n",
              "  <div id=\"df-ac1eeb26-530b-4af3-b4cb-38a0ebd3792b\">\n",
              "    <div class=\"colab-df-container\">\n",
              "      <div>\n",
              "<style scoped>\n",
              "    .dataframe tbody tr th:only-of-type {\n",
              "        vertical-align: middle;\n",
              "    }\n",
              "\n",
              "    .dataframe tbody tr th {\n",
              "        vertical-align: top;\n",
              "    }\n",
              "\n",
              "    .dataframe thead th {\n",
              "        text-align: right;\n",
              "    }\n",
              "</style>\n",
              "<table border=\"1\" class=\"dataframe\">\n",
              "  <thead>\n",
              "    <tr style=\"text-align: right;\">\n",
              "      <th></th>\n",
              "      <th>id</th>\n",
              "      <th>defaultAudioLanguage</th>\n",
              "      <th>title</th>\n",
              "      <th>publishedAt</th>\n",
              "      <th>tags</th>\n",
              "      <th>tagsCount</th>\n",
              "      <th>commentCount</th>\n",
              "      <th>likeCount</th>\n",
              "      <th>viewCount</th>\n",
              "      <th>definition</th>\n",
              "      <th>duration</th>\n",
              "      <th>YearMonth</th>\n",
              "      <th>Year</th>\n",
              "      <th>reaction</th>\n",
              "    </tr>\n",
              "  </thead>\n",
              "  <tbody>\n",
              "    <tr>\n",
              "      <th>0</th>\n",
              "      <td>xsPlB4WAmRc</td>\n",
              "      <td>en</td>\n",
              "      <td>timbersports training is wild 🪚 🪓</td>\n",
              "      <td>2022-02-09 17:15:40</td>\n",
              "      <td>None</td>\n",
              "      <td>1</td>\n",
              "      <td>16</td>\n",
              "      <td>1345</td>\n",
              "      <td>46110</td>\n",
              "      <td>hd</td>\n",
              "      <td>PT22S</td>\n",
              "      <td>2022</td>\n",
              "      <td>2022</td>\n",
              "      <td>1361</td>\n",
              "    </tr>\n",
              "    <tr>\n",
              "      <th>1</th>\n",
              "      <td>q-r6V_PgtcY</td>\n",
              "      <td>en</td>\n",
              "      <td>Huge Mountain Sends On Snowmobiles &amp; Skis | Re...</td>\n",
              "      <td>2022-02-07 15:00:36</td>\n",
              "      <td>['red bull', 'redbull', 'action sports', 'extr...</td>\n",
              "      <td>63</td>\n",
              "      <td>85</td>\n",
              "      <td>1935</td>\n",
              "      <td>60964</td>\n",
              "      <td>hd</td>\n",
              "      <td>PT6M56S</td>\n",
              "      <td>2022</td>\n",
              "      <td>2022</td>\n",
              "      <td>2020</td>\n",
              "    </tr>\n",
              "    <tr>\n",
              "      <th>2</th>\n",
              "      <td>jxe870HmYBE</td>\n",
              "      <td>en</td>\n",
              "      <td>Max Verstappen’s Icy Pre-Season Fun: Driving A...</td>\n",
              "      <td>2022-02-03 13:29:23</td>\n",
              "      <td>['red bull', 'redbull', 'action sports', 'extr...</td>\n",
              "      <td>80</td>\n",
              "      <td>1071</td>\n",
              "      <td>26752</td>\n",
              "      <td>742990</td>\n",
              "      <td>hd</td>\n",
              "      <td>PT2M6S</td>\n",
              "      <td>2022</td>\n",
              "      <td>2022</td>\n",
              "      <td>27823</td>\n",
              "    </tr>\n",
              "    <tr>\n",
              "      <th>3</th>\n",
              "      <td>yxVOownOSRs</td>\n",
              "      <td>en</td>\n",
              "      <td>which runner are you? 🏃‍♀️</td>\n",
              "      <td>2022-02-01 17:09:05</td>\n",
              "      <td>None</td>\n",
              "      <td>1</td>\n",
              "      <td>62</td>\n",
              "      <td>1539</td>\n",
              "      <td>52319</td>\n",
              "      <td>hd</td>\n",
              "      <td>PT25S</td>\n",
              "      <td>2022</td>\n",
              "      <td>2022</td>\n",
              "      <td>1601</td>\n",
              "    </tr>\n",
              "    <tr>\n",
              "      <th>4</th>\n",
              "      <td>3-yglCSCPng</td>\n",
              "      <td>en</td>\n",
              "      <td>incredible skiing skills that just look ✨ casu...</td>\n",
              "      <td>2022-01-14 13:00:01</td>\n",
              "      <td>None</td>\n",
              "      <td>1</td>\n",
              "      <td>46</td>\n",
              "      <td>5895</td>\n",
              "      <td>238147</td>\n",
              "      <td>hd</td>\n",
              "      <td>PT22S</td>\n",
              "      <td>2022</td>\n",
              "      <td>2022</td>\n",
              "      <td>5941</td>\n",
              "    </tr>\n",
              "  </tbody>\n",
              "</table>\n",
              "</div>\n",
              "      <button class=\"colab-df-convert\" onclick=\"convertToInteractive('df-ac1eeb26-530b-4af3-b4cb-38a0ebd3792b')\"\n",
              "              title=\"Convert this dataframe to an interactive table.\"\n",
              "              style=\"display:none;\">\n",
              "        \n",
              "  <svg xmlns=\"http://www.w3.org/2000/svg\" height=\"24px\"viewBox=\"0 0 24 24\"\n",
              "       width=\"24px\">\n",
              "    <path d=\"M0 0h24v24H0V0z\" fill=\"none\"/>\n",
              "    <path d=\"M18.56 5.44l.94 2.06.94-2.06 2.06-.94-2.06-.94-.94-2.06-.94 2.06-2.06.94zm-11 1L8.5 8.5l.94-2.06 2.06-.94-2.06-.94L8.5 2.5l-.94 2.06-2.06.94zm10 10l.94 2.06.94-2.06 2.06-.94-2.06-.94-.94-2.06-.94 2.06-2.06.94z\"/><path d=\"M17.41 7.96l-1.37-1.37c-.4-.4-.92-.59-1.43-.59-.52 0-1.04.2-1.43.59L10.3 9.45l-7.72 7.72c-.78.78-.78 2.05 0 2.83L4 21.41c.39.39.9.59 1.41.59.51 0 1.02-.2 1.41-.59l7.78-7.78 2.81-2.81c.8-.78.8-2.07 0-2.86zM5.41 20L4 18.59l7.72-7.72 1.47 1.35L5.41 20z\"/>\n",
              "  </svg>\n",
              "      </button>\n",
              "      \n",
              "  <style>\n",
              "    .colab-df-container {\n",
              "      display:flex;\n",
              "      flex-wrap:wrap;\n",
              "      gap: 12px;\n",
              "    }\n",
              "\n",
              "    .colab-df-convert {\n",
              "      background-color: #E8F0FE;\n",
              "      border: none;\n",
              "      border-radius: 50%;\n",
              "      cursor: pointer;\n",
              "      display: none;\n",
              "      fill: #1967D2;\n",
              "      height: 32px;\n",
              "      padding: 0 0 0 0;\n",
              "      width: 32px;\n",
              "    }\n",
              "\n",
              "    .colab-df-convert:hover {\n",
              "      background-color: #E2EBFA;\n",
              "      box-shadow: 0px 1px 2px rgba(60, 64, 67, 0.3), 0px 1px 3px 1px rgba(60, 64, 67, 0.15);\n",
              "      fill: #174EA6;\n",
              "    }\n",
              "\n",
              "    [theme=dark] .colab-df-convert {\n",
              "      background-color: #3B4455;\n",
              "      fill: #D2E3FC;\n",
              "    }\n",
              "\n",
              "    [theme=dark] .colab-df-convert:hover {\n",
              "      background-color: #434B5C;\n",
              "      box-shadow: 0px 1px 3px 1px rgba(0, 0, 0, 0.15);\n",
              "      filter: drop-shadow(0px 1px 2px rgba(0, 0, 0, 0.3));\n",
              "      fill: #FFFFFF;\n",
              "    }\n",
              "  </style>\n",
              "\n",
              "      <script>\n",
              "        const buttonEl =\n",
              "          document.querySelector('#df-ac1eeb26-530b-4af3-b4cb-38a0ebd3792b button.colab-df-convert');\n",
              "        buttonEl.style.display =\n",
              "          google.colab.kernel.accessAllowed ? 'block' : 'none';\n",
              "\n",
              "        async function convertToInteractive(key) {\n",
              "          const element = document.querySelector('#df-ac1eeb26-530b-4af3-b4cb-38a0ebd3792b');\n",
              "          const dataTable =\n",
              "            await google.colab.kernel.invokeFunction('convertToInteractive',\n",
              "                                                     [key], {});\n",
              "          if (!dataTable) return;\n",
              "\n",
              "          const docLinkHtml = 'Like what you see? Visit the ' +\n",
              "            '<a target=\"_blank\" href=https://colab.research.google.com/notebooks/data_table.ipynb>data table notebook</a>'\n",
              "            + ' to learn more about interactive tables.';\n",
              "          element.innerHTML = '';\n",
              "          dataTable['output_type'] = 'display_data';\n",
              "          await google.colab.output.renderOutput(dataTable, element);\n",
              "          const docLink = document.createElement('div');\n",
              "          docLink.innerHTML = docLinkHtml;\n",
              "          element.appendChild(docLink);\n",
              "        }\n",
              "      </script>\n",
              "    </div>\n",
              "  </div>\n",
              "  "
            ],
            "text/plain": [
              "            id defaultAudioLanguage  ...  Year reaction\n",
              "0  xsPlB4WAmRc                   en  ...  2022     1361\n",
              "1  q-r6V_PgtcY                   en  ...  2022     2020\n",
              "2  jxe870HmYBE                   en  ...  2022    27823\n",
              "3  yxVOownOSRs                   en  ...  2022     1601\n",
              "4  3-yglCSCPng                   en  ...  2022     5941\n",
              "\n",
              "[5 rows x 14 columns]"
            ]
          },
          "metadata": {},
          "execution_count": 50
        }
      ]
    },
    {
      "cell_type": "code",
      "source": [
        "df2=[]"
      ],
      "metadata": {
        "id": "dwNOKz2oYOfF"
      },
      "execution_count": null,
      "outputs": []
    },
    {
      "cell_type": "code",
      "source": [
        "df2 = df[['tagsCount', 'viewCount', 'Year',\n",
        "          'YearMonth', 'reaction', 'definition',\n",
        "          'defaultAudioLanguage']]"
      ],
      "metadata": {
        "id": "pgyd8WBaNeqm"
      },
      "execution_count": null,
      "outputs": []
    },
    {
      "cell_type": "code",
      "source": [
        "from sklearn.preprocessing import MinMaxScaler\n",
        "scalevar = ['reaction', 'tagsCount']\n",
        "\n",
        "df2[scalevar] = MinMaxScaler().fit_transform(df2[scalevar])"
      ],
      "metadata": {
        "colab": {
          "base_uri": "https://localhost:8080/"
        },
        "id": "UWTYF8wdZL1i",
        "outputId": "9978403d-fd7a-478a-f97e-758337039552"
      },
      "execution_count": null,
      "outputs": [
        {
          "output_type": "stream",
          "name": "stderr",
          "text": [
            "/usr/local/lib/python3.7/dist-packages/pandas/core/frame.py:3678: SettingWithCopyWarning: \n",
            "A value is trying to be set on a copy of a slice from a DataFrame.\n",
            "Try using .loc[row_indexer,col_indexer] = value instead\n",
            "\n",
            "See the caveats in the documentation: https://pandas.pydata.org/pandas-docs/stable/user_guide/indexing.html#returning-a-view-versus-a-copy\n",
            "  self[col] = igetitem(value, i)\n"
          ]
        }
      ]
    },
    {
      "cell_type": "code",
      "source": [
        "df2 = pd.get_dummies(df2, columns=['definition',\n",
        "                                   'defaultAudioLanguage'])\n",
        "df2.head()"
      ],
      "metadata": {
        "colab": {
          "base_uri": "https://localhost:8080/",
          "height": 288
        },
        "id": "WH78Wm3HXFTi",
        "outputId": "7f24a1d8-faf9-49b2-d4d4-689c1271dcdc"
      },
      "execution_count": null,
      "outputs": [
        {
          "output_type": "execute_result",
          "data": {
            "text/html": [
              "\n",
              "  <div id=\"df-9b3a8b6a-c77d-4f33-b78a-efd11dd54b2f\">\n",
              "    <div class=\"colab-df-container\">\n",
              "      <div>\n",
              "<style scoped>\n",
              "    .dataframe tbody tr th:only-of-type {\n",
              "        vertical-align: middle;\n",
              "    }\n",
              "\n",
              "    .dataframe tbody tr th {\n",
              "        vertical-align: top;\n",
              "    }\n",
              "\n",
              "    .dataframe thead th {\n",
              "        text-align: right;\n",
              "    }\n",
              "</style>\n",
              "<table border=\"1\" class=\"dataframe\">\n",
              "  <thead>\n",
              "    <tr style=\"text-align: right;\">\n",
              "      <th></th>\n",
              "      <th>tagsCount</th>\n",
              "      <th>viewCount</th>\n",
              "      <th>Year</th>\n",
              "      <th>YearMonth</th>\n",
              "      <th>reaction</th>\n",
              "      <th>definition_hd</th>\n",
              "      <th>definition_sd</th>\n",
              "      <th>defaultAudioLanguage_0</th>\n",
              "      <th>defaultAudioLanguage_ar</th>\n",
              "      <th>defaultAudioLanguage_cs</th>\n",
              "      <th>defaultAudioLanguage_de</th>\n",
              "      <th>defaultAudioLanguage_el</th>\n",
              "      <th>defaultAudioLanguage_en</th>\n",
              "      <th>defaultAudioLanguage_en-GB</th>\n",
              "      <th>defaultAudioLanguage_en-IE</th>\n",
              "      <th>defaultAudioLanguage_en-US</th>\n",
              "      <th>defaultAudioLanguage_es</th>\n",
              "      <th>defaultAudioLanguage_es-ES</th>\n",
              "      <th>defaultAudioLanguage_it</th>\n",
              "      <th>defaultAudioLanguage_ka</th>\n",
              "      <th>defaultAudioLanguage_pl</th>\n",
              "      <th>defaultAudioLanguage_ru</th>\n",
              "      <th>defaultAudioLanguage_sl</th>\n",
              "      <th>defaultAudioLanguage_sr</th>\n",
              "      <th>defaultAudioLanguage_sv</th>\n",
              "      <th>defaultAudioLanguage_tr</th>\n",
              "      <th>defaultAudioLanguage_zxx</th>\n",
              "    </tr>\n",
              "  </thead>\n",
              "  <tbody>\n",
              "    <tr>\n",
              "      <th>0</th>\n",
              "      <td>1</td>\n",
              "      <td>46110</td>\n",
              "      <td>2022</td>\n",
              "      <td>2022</td>\n",
              "      <td>0.001004</td>\n",
              "      <td>1</td>\n",
              "      <td>0</td>\n",
              "      <td>0</td>\n",
              "      <td>0</td>\n",
              "      <td>0</td>\n",
              "      <td>0</td>\n",
              "      <td>0</td>\n",
              "      <td>1</td>\n",
              "      <td>0</td>\n",
              "      <td>0</td>\n",
              "      <td>0</td>\n",
              "      <td>0</td>\n",
              "      <td>0</td>\n",
              "      <td>0</td>\n",
              "      <td>0</td>\n",
              "      <td>0</td>\n",
              "      <td>0</td>\n",
              "      <td>0</td>\n",
              "      <td>0</td>\n",
              "      <td>0</td>\n",
              "      <td>0</td>\n",
              "      <td>0</td>\n",
              "    </tr>\n",
              "    <tr>\n",
              "      <th>1</th>\n",
              "      <td>63</td>\n",
              "      <td>60964</td>\n",
              "      <td>2022</td>\n",
              "      <td>2022</td>\n",
              "      <td>0.001490</td>\n",
              "      <td>1</td>\n",
              "      <td>0</td>\n",
              "      <td>0</td>\n",
              "      <td>0</td>\n",
              "      <td>0</td>\n",
              "      <td>0</td>\n",
              "      <td>0</td>\n",
              "      <td>1</td>\n",
              "      <td>0</td>\n",
              "      <td>0</td>\n",
              "      <td>0</td>\n",
              "      <td>0</td>\n",
              "      <td>0</td>\n",
              "      <td>0</td>\n",
              "      <td>0</td>\n",
              "      <td>0</td>\n",
              "      <td>0</td>\n",
              "      <td>0</td>\n",
              "      <td>0</td>\n",
              "      <td>0</td>\n",
              "      <td>0</td>\n",
              "      <td>0</td>\n",
              "    </tr>\n",
              "    <tr>\n",
              "      <th>2</th>\n",
              "      <td>80</td>\n",
              "      <td>742990</td>\n",
              "      <td>2022</td>\n",
              "      <td>2022</td>\n",
              "      <td>0.020523</td>\n",
              "      <td>1</td>\n",
              "      <td>0</td>\n",
              "      <td>0</td>\n",
              "      <td>0</td>\n",
              "      <td>0</td>\n",
              "      <td>0</td>\n",
              "      <td>0</td>\n",
              "      <td>1</td>\n",
              "      <td>0</td>\n",
              "      <td>0</td>\n",
              "      <td>0</td>\n",
              "      <td>0</td>\n",
              "      <td>0</td>\n",
              "      <td>0</td>\n",
              "      <td>0</td>\n",
              "      <td>0</td>\n",
              "      <td>0</td>\n",
              "      <td>0</td>\n",
              "      <td>0</td>\n",
              "      <td>0</td>\n",
              "      <td>0</td>\n",
              "      <td>0</td>\n",
              "    </tr>\n",
              "    <tr>\n",
              "      <th>3</th>\n",
              "      <td>1</td>\n",
              "      <td>52319</td>\n",
              "      <td>2022</td>\n",
              "      <td>2022</td>\n",
              "      <td>0.001181</td>\n",
              "      <td>1</td>\n",
              "      <td>0</td>\n",
              "      <td>0</td>\n",
              "      <td>0</td>\n",
              "      <td>0</td>\n",
              "      <td>0</td>\n",
              "      <td>0</td>\n",
              "      <td>1</td>\n",
              "      <td>0</td>\n",
              "      <td>0</td>\n",
              "      <td>0</td>\n",
              "      <td>0</td>\n",
              "      <td>0</td>\n",
              "      <td>0</td>\n",
              "      <td>0</td>\n",
              "      <td>0</td>\n",
              "      <td>0</td>\n",
              "      <td>0</td>\n",
              "      <td>0</td>\n",
              "      <td>0</td>\n",
              "      <td>0</td>\n",
              "      <td>0</td>\n",
              "    </tr>\n",
              "    <tr>\n",
              "      <th>4</th>\n",
              "      <td>1</td>\n",
              "      <td>238147</td>\n",
              "      <td>2022</td>\n",
              "      <td>2022</td>\n",
              "      <td>0.004382</td>\n",
              "      <td>1</td>\n",
              "      <td>0</td>\n",
              "      <td>0</td>\n",
              "      <td>0</td>\n",
              "      <td>0</td>\n",
              "      <td>0</td>\n",
              "      <td>0</td>\n",
              "      <td>1</td>\n",
              "      <td>0</td>\n",
              "      <td>0</td>\n",
              "      <td>0</td>\n",
              "      <td>0</td>\n",
              "      <td>0</td>\n",
              "      <td>0</td>\n",
              "      <td>0</td>\n",
              "      <td>0</td>\n",
              "      <td>0</td>\n",
              "      <td>0</td>\n",
              "      <td>0</td>\n",
              "      <td>0</td>\n",
              "      <td>0</td>\n",
              "      <td>0</td>\n",
              "    </tr>\n",
              "  </tbody>\n",
              "</table>\n",
              "</div>\n",
              "      <button class=\"colab-df-convert\" onclick=\"convertToInteractive('df-9b3a8b6a-c77d-4f33-b78a-efd11dd54b2f')\"\n",
              "              title=\"Convert this dataframe to an interactive table.\"\n",
              "              style=\"display:none;\">\n",
              "        \n",
              "  <svg xmlns=\"http://www.w3.org/2000/svg\" height=\"24px\"viewBox=\"0 0 24 24\"\n",
              "       width=\"24px\">\n",
              "    <path d=\"M0 0h24v24H0V0z\" fill=\"none\"/>\n",
              "    <path d=\"M18.56 5.44l.94 2.06.94-2.06 2.06-.94-2.06-.94-.94-2.06-.94 2.06-2.06.94zm-11 1L8.5 8.5l.94-2.06 2.06-.94-2.06-.94L8.5 2.5l-.94 2.06-2.06.94zm10 10l.94 2.06.94-2.06 2.06-.94-2.06-.94-.94-2.06-.94 2.06-2.06.94z\"/><path d=\"M17.41 7.96l-1.37-1.37c-.4-.4-.92-.59-1.43-.59-.52 0-1.04.2-1.43.59L10.3 9.45l-7.72 7.72c-.78.78-.78 2.05 0 2.83L4 21.41c.39.39.9.59 1.41.59.51 0 1.02-.2 1.41-.59l7.78-7.78 2.81-2.81c.8-.78.8-2.07 0-2.86zM5.41 20L4 18.59l7.72-7.72 1.47 1.35L5.41 20z\"/>\n",
              "  </svg>\n",
              "      </button>\n",
              "      \n",
              "  <style>\n",
              "    .colab-df-container {\n",
              "      display:flex;\n",
              "      flex-wrap:wrap;\n",
              "      gap: 12px;\n",
              "    }\n",
              "\n",
              "    .colab-df-convert {\n",
              "      background-color: #E8F0FE;\n",
              "      border: none;\n",
              "      border-radius: 50%;\n",
              "      cursor: pointer;\n",
              "      display: none;\n",
              "      fill: #1967D2;\n",
              "      height: 32px;\n",
              "      padding: 0 0 0 0;\n",
              "      width: 32px;\n",
              "    }\n",
              "\n",
              "    .colab-df-convert:hover {\n",
              "      background-color: #E2EBFA;\n",
              "      box-shadow: 0px 1px 2px rgba(60, 64, 67, 0.3), 0px 1px 3px 1px rgba(60, 64, 67, 0.15);\n",
              "      fill: #174EA6;\n",
              "    }\n",
              "\n",
              "    [theme=dark] .colab-df-convert {\n",
              "      background-color: #3B4455;\n",
              "      fill: #D2E3FC;\n",
              "    }\n",
              "\n",
              "    [theme=dark] .colab-df-convert:hover {\n",
              "      background-color: #434B5C;\n",
              "      box-shadow: 0px 1px 3px 1px rgba(0, 0, 0, 0.15);\n",
              "      filter: drop-shadow(0px 1px 2px rgba(0, 0, 0, 0.3));\n",
              "      fill: #FFFFFF;\n",
              "    }\n",
              "  </style>\n",
              "\n",
              "      <script>\n",
              "        const buttonEl =\n",
              "          document.querySelector('#df-9b3a8b6a-c77d-4f33-b78a-efd11dd54b2f button.colab-df-convert');\n",
              "        buttonEl.style.display =\n",
              "          google.colab.kernel.accessAllowed ? 'block' : 'none';\n",
              "\n",
              "        async function convertToInteractive(key) {\n",
              "          const element = document.querySelector('#df-9b3a8b6a-c77d-4f33-b78a-efd11dd54b2f');\n",
              "          const dataTable =\n",
              "            await google.colab.kernel.invokeFunction('convertToInteractive',\n",
              "                                                     [key], {});\n",
              "          if (!dataTable) return;\n",
              "\n",
              "          const docLinkHtml = 'Like what you see? Visit the ' +\n",
              "            '<a target=\"_blank\" href=https://colab.research.google.com/notebooks/data_table.ipynb>data table notebook</a>'\n",
              "            + ' to learn more about interactive tables.';\n",
              "          element.innerHTML = '';\n",
              "          dataTable['output_type'] = 'display_data';\n",
              "          await google.colab.output.renderOutput(dataTable, element);\n",
              "          const docLink = document.createElement('div');\n",
              "          docLink.innerHTML = docLinkHtml;\n",
              "          element.appendChild(docLink);\n",
              "        }\n",
              "      </script>\n",
              "    </div>\n",
              "  </div>\n",
              "  "
            ],
            "text/plain": [
              "   tagsCount  viewCount  ...  defaultAudioLanguage_tr  defaultAudioLanguage_zxx\n",
              "0          1      46110  ...                        0                         0\n",
              "1         63      60964  ...                        0                         0\n",
              "2         80     742990  ...                        0                         0\n",
              "3          1      52319  ...                        0                         0\n",
              "4          1     238147  ...                        0                         0\n",
              "\n",
              "[5 rows x 27 columns]"
            ]
          },
          "metadata": {},
          "execution_count": 54
        }
      ]
    },
    {
      "cell_type": "code",
      "source": [
        "x = df2.drop('reaction', axis=1).values #input features attributes\n",
        "y = df2['reaction'].values #target selector\n",
        "print('x shape is: {}'.format(np.shape(x))) #10000 observation and 15 variables\n",
        "print('y shape is: {}'.format(np.shape(y)))"
      ],
      "metadata": {
        "colab": {
          "base_uri": "https://localhost:8080/"
        },
        "id": "6eoonqbuXl9F",
        "outputId": "6485f406-ece4-4c01-d277-e5a6b6b1076e"
      },
      "execution_count": null,
      "outputs": [
        {
          "output_type": "stream",
          "name": "stdout",
          "text": [
            "x shape is: (5723, 26)\n",
            "y shape is: (5723,)\n"
          ]
        }
      ]
    },
    {
      "cell_type": "code",
      "source": [
        "from sklearn.model_selection import train_test_split\n",
        "\n",
        "x_train, x_test, y_train, y_test = train_test_split(x,y, train_size=0.9,\n",
        "                                                    test_size=0.1, random_state=0)\n"
      ],
      "metadata": {
        "id": "h5l7uFAtXsxw"
      },
      "execution_count": null,
      "outputs": []
    },
    {
      "cell_type": "code",
      "source": [
        "from sklearn import tree\n",
        "from sklearn.tree import DecisionTreeRegressor, DecisionTreeClassifier, export_graphviz"
      ],
      "metadata": {
        "id": "96ovmxwAYCcx"
      },
      "execution_count": null,
      "outputs": []
    },
    {
      "cell_type": "code",
      "source": [
        "dt = DecisionTreeRegressor(criterion='squared_error', max_depth=3, random_state=1) #maxdepth is the tree levels\n",
        "dt.fit(x_train, y_train)"
      ],
      "metadata": {
        "colab": {
          "base_uri": "https://localhost:8080/"
        },
        "id": "Z1WlrmvBXwca",
        "outputId": "f6de5055-fe2b-44f4-ee12-3e55cc7ba3dd"
      },
      "execution_count": null,
      "outputs": [
        {
          "output_type": "execute_result",
          "data": {
            "text/plain": [
              "DecisionTreeRegressor(max_depth=3, random_state=1)"
            ]
          },
          "metadata": {},
          "execution_count": 58
        }
      ]
    },
    {
      "cell_type": "code",
      "source": [
        "import graphviz \n",
        "\n",
        "dot_data = tree.export_graphviz(dt, out_file=None, \n",
        "    feature_names=df2.drop('reaction', axis=1).columns,    \n",
        "    class_names=df2['reaction'].unique().astype(str),  \n",
        "    filled=True, rounded=True,  \n",
        "    special_characters=True)\n",
        "graph = graphviz.Source(dot_data)\n",
        "graph"
      ],
      "metadata": {
        "colab": {
          "base_uri": "https://localhost:8080/",
          "height": 539
        },
        "id": "urAmnbD2Yca3",
        "outputId": "1797ccce-6af6-499d-d134-45f2b7d7d483"
      },
      "execution_count": null,
      "outputs": [
        {
          "output_type": "execute_result",
          "data": {
            "text/plain": [
              "<graphviz.files.Source at 0x7fc5eb620e50>"
            ],
            "image/svg+xml": "<?xml version=\"1.0\" encoding=\"UTF-8\" standalone=\"no\"?>\n<!DOCTYPE svg PUBLIC \"-//W3C//DTD SVG 1.1//EN\"\n \"http://www.w3.org/Graphics/SVG/1.1/DTD/svg11.dtd\">\n<!-- Generated by graphviz version 2.40.1 (20161225.0304)\n -->\n<!-- Title: Tree Pages: 1 -->\n<svg width=\"1031pt\" height=\"373pt\"\n viewBox=\"0.00 0.00 1030.50 373.00\" xmlns=\"http://www.w3.org/2000/svg\" xmlns:xlink=\"http://www.w3.org/1999/xlink\">\n<g id=\"graph0\" class=\"graph\" transform=\"scale(1 1) rotate(0) translate(4 369)\">\n<title>Tree</title>\n<polygon fill=\"#ffffff\" stroke=\"transparent\" points=\"-4,4 -4,-369 1026.5,-369 1026.5,4 -4,4\"/>\n<!-- 0 -->\n<g id=\"node1\" class=\"node\">\n<title>0</title>\n<path fill=\"#ffffff\" stroke=\"#000000\" d=\"M741,-365C741,-365 587,-365 587,-365 581,-365 575,-359 575,-353 575,-353 575,-309 575,-309 575,-303 581,-297 587,-297 587,-297 741,-297 741,-297 747,-297 753,-303 753,-309 753,-309 753,-353 753,-353 753,-359 747,-365 741,-365\"/>\n<text text-anchor=\"start\" x=\"583\" y=\"-349.8\" font-family=\"Helvetica,sans-Serif\" font-size=\"14.00\" fill=\"#000000\">viewCount ≤ 31799882.0</text>\n<text text-anchor=\"start\" x=\"600\" y=\"-334.8\" font-family=\"Helvetica,sans-Serif\" font-size=\"14.00\" fill=\"#000000\">squared_error = 0.0</text>\n<text text-anchor=\"start\" x=\"612\" y=\"-319.8\" font-family=\"Helvetica,sans-Serif\" font-size=\"14.00\" fill=\"#000000\">samples = 5150</text>\n<text text-anchor=\"start\" x=\"620\" y=\"-304.8\" font-family=\"Helvetica,sans-Serif\" font-size=\"14.00\" fill=\"#000000\">value = 0.003</text>\n</g>\n<!-- 1 -->\n<g id=\"node2\" class=\"node\">\n<title>1</title>\n<path fill=\"#ffffff\" stroke=\"#000000\" d=\"M565,-261C565,-261 419,-261 419,-261 413,-261 407,-255 407,-249 407,-249 407,-205 407,-205 407,-199 413,-193 419,-193 419,-193 565,-193 565,-193 571,-193 577,-199 577,-205 577,-205 577,-249 577,-249 577,-255 571,-261 565,-261\"/>\n<text text-anchor=\"start\" x=\"415\" y=\"-245.8\" font-family=\"Helvetica,sans-Serif\" font-size=\"14.00\" fill=\"#000000\">viewCount ≤ 6522389.0</text>\n<text text-anchor=\"start\" x=\"428\" y=\"-230.8\" font-family=\"Helvetica,sans-Serif\" font-size=\"14.00\" fill=\"#000000\">squared_error = 0.0</text>\n<text text-anchor=\"start\" x=\"440\" y=\"-215.8\" font-family=\"Helvetica,sans-Serif\" font-size=\"14.00\" fill=\"#000000\">samples = 5142</text>\n<text text-anchor=\"start\" x=\"448\" y=\"-200.8\" font-family=\"Helvetica,sans-Serif\" font-size=\"14.00\" fill=\"#000000\">value = 0.002</text>\n</g>\n<!-- 0&#45;&gt;1 -->\n<g id=\"edge1\" class=\"edge\">\n<title>0&#45;&gt;1</title>\n<path fill=\"none\" stroke=\"#000000\" d=\"M607.6808,-296.9465C591.4952,-287.1599 573.711,-276.4066 557.0448,-266.3294\"/>\n<polygon fill=\"#000000\" stroke=\"#000000\" points=\"558.8141,-263.3092 548.4458,-261.13 555.1921,-269.2993 558.8141,-263.3092\"/>\n<text text-anchor=\"middle\" x=\"554.4263\" y=\"-281.7041\" font-family=\"Helvetica,sans-Serif\" font-size=\"14.00\" fill=\"#000000\">True</text>\n</g>\n<!-- 8 -->\n<g id=\"node9\" class=\"node\">\n<title>8</title>\n<path fill=\"#f5cfb3\" stroke=\"#000000\" d=\"M844,-261C844,-261 682,-261 682,-261 676,-261 670,-255 670,-249 670,-249 670,-205 670,-205 670,-199 676,-193 682,-193 682,-193 844,-193 844,-193 850,-193 856,-199 856,-205 856,-205 856,-249 856,-249 856,-255 850,-261 844,-261\"/>\n<text text-anchor=\"start\" x=\"678\" y=\"-245.8\" font-family=\"Helvetica,sans-Serif\" font-size=\"14.00\" fill=\"#000000\">viewCount ≤ 124823356.0</text>\n<text text-anchor=\"start\" x=\"695\" y=\"-230.8\" font-family=\"Helvetica,sans-Serif\" font-size=\"14.00\" fill=\"#000000\">squared_error = 0.06</text>\n<text text-anchor=\"start\" x=\"723.5\" y=\"-215.8\" font-family=\"Helvetica,sans-Serif\" font-size=\"14.00\" fill=\"#000000\">samples = 8</text>\n<text text-anchor=\"start\" x=\"719\" y=\"-200.8\" font-family=\"Helvetica,sans-Serif\" font-size=\"14.00\" fill=\"#000000\">value = 0.382</text>\n</g>\n<!-- 0&#45;&gt;8 -->\n<g id=\"edge8\" class=\"edge\">\n<title>0&#45;&gt;8</title>\n<path fill=\"none\" stroke=\"#000000\" d=\"M696.4163,-296.9465C705.0486,-287.8782 714.4711,-277.9799 723.4395,-268.5585\"/>\n<polygon fill=\"#000000\" stroke=\"#000000\" points=\"726.1511,-270.7863 730.5109,-261.13 721.081,-265.9599 726.1511,-270.7863\"/>\n<text text-anchor=\"middle\" x=\"731.1264\" y=\"-282.4224\" font-family=\"Helvetica,sans-Serif\" font-size=\"14.00\" fill=\"#000000\">False</text>\n</g>\n<!-- 2 -->\n<g id=\"node3\" class=\"node\">\n<title>2</title>\n<path fill=\"#ffffff\" stroke=\"#000000\" d=\"M307,-157C307,-157 161,-157 161,-157 155,-157 149,-151 149,-145 149,-145 149,-101 149,-101 149,-95 155,-89 161,-89 161,-89 307,-89 307,-89 313,-89 319,-95 319,-101 319,-101 319,-145 319,-145 319,-151 313,-157 307,-157\"/>\n<text text-anchor=\"start\" x=\"157\" y=\"-141.8\" font-family=\"Helvetica,sans-Serif\" font-size=\"14.00\" fill=\"#000000\">viewCount ≤ 1319068.5</text>\n<text text-anchor=\"start\" x=\"170\" y=\"-126.8\" font-family=\"Helvetica,sans-Serif\" font-size=\"14.00\" fill=\"#000000\">squared_error = 0.0</text>\n<text text-anchor=\"start\" x=\"182\" y=\"-111.8\" font-family=\"Helvetica,sans-Serif\" font-size=\"14.00\" fill=\"#000000\">samples = 5102</text>\n<text text-anchor=\"start\" x=\"190\" y=\"-96.8\" font-family=\"Helvetica,sans-Serif\" font-size=\"14.00\" fill=\"#000000\">value = 0.001</text>\n</g>\n<!-- 1&#45;&gt;2 -->\n<g id=\"edge2\" class=\"edge\">\n<title>1&#45;&gt;2</title>\n<path fill=\"none\" stroke=\"#000000\" d=\"M407.5212,-192.9465C382.1292,-182.711 354.1141,-171.4181 328.1379,-160.9471\"/>\n<polygon fill=\"#000000\" stroke=\"#000000\" points=\"329.252,-157.6226 318.6686,-157.13 326.6349,-164.1149 329.252,-157.6226\"/>\n</g>\n<!-- 5 -->\n<g id=\"node6\" class=\"node\">\n<title>5</title>\n<path fill=\"#fdf7f2\" stroke=\"#000000\" d=\"M560.5,-157C560.5,-157 423.5,-157 423.5,-157 417.5,-157 411.5,-151 411.5,-145 411.5,-145 411.5,-101 411.5,-101 411.5,-95 417.5,-89 423.5,-89 423.5,-89 560.5,-89 560.5,-89 566.5,-89 572.5,-95 572.5,-101 572.5,-101 572.5,-145 572.5,-145 572.5,-151 566.5,-157 560.5,-157\"/>\n<text text-anchor=\"start\" x=\"427\" y=\"-141.8\" font-family=\"Helvetica,sans-Serif\" font-size=\"14.00\" fill=\"#000000\">YearMonth ≤ 2018.5</text>\n<text text-anchor=\"start\" x=\"419.5\" y=\"-126.8\" font-family=\"Helvetica,sans-Serif\" font-size=\"14.00\" fill=\"#000000\">squared_error = 0.003</text>\n<text text-anchor=\"start\" x=\"448\" y=\"-111.8\" font-family=\"Helvetica,sans-Serif\" font-size=\"14.00\" fill=\"#000000\">samples = 40</text>\n<text text-anchor=\"start\" x=\"448\" y=\"-96.8\" font-family=\"Helvetica,sans-Serif\" font-size=\"14.00\" fill=\"#000000\">value = 0.066</text>\n</g>\n<!-- 1&#45;&gt;5 -->\n<g id=\"edge5\" class=\"edge\">\n<title>1&#45;&gt;5</title>\n<path fill=\"none\" stroke=\"#000000\" d=\"M492,-192.9465C492,-184.776 492,-175.9318 492,-167.3697\"/>\n<polygon fill=\"#000000\" stroke=\"#000000\" points=\"495.5001,-167.13 492,-157.13 488.5001,-167.13 495.5001,-167.13\"/>\n</g>\n<!-- 3 -->\n<g id=\"node4\" class=\"node\">\n<title>3</title>\n<path fill=\"#ffffff\" stroke=\"#000000\" d=\"M132,-53C132,-53 12,-53 12,-53 6,-53 0,-47 0,-41 0,-41 0,-12 0,-12 0,-6 6,0 12,0 12,0 132,0 132,0 138,0 144,-6 144,-12 144,-12 144,-41 144,-41 144,-47 138,-53 132,-53\"/>\n<text text-anchor=\"start\" x=\"8\" y=\"-37.8\" font-family=\"Helvetica,sans-Serif\" font-size=\"14.00\" fill=\"#000000\">squared_error = 0.0</text>\n<text text-anchor=\"start\" x=\"20\" y=\"-22.8\" font-family=\"Helvetica,sans-Serif\" font-size=\"14.00\" fill=\"#000000\">samples = 4898</text>\n<text text-anchor=\"start\" x=\"28\" y=\"-7.8\" font-family=\"Helvetica,sans-Serif\" font-size=\"14.00\" fill=\"#000000\">value = 0.001</text>\n</g>\n<!-- 2&#45;&gt;3 -->\n<g id=\"edge3\" class=\"edge\">\n<title>2&#45;&gt;3</title>\n<path fill=\"none\" stroke=\"#000000\" d=\"M176.8849,-88.9777C160.2059,-79.0424 142.0431,-68.2232 125.5906,-58.4228\"/>\n<polygon fill=\"#000000\" stroke=\"#000000\" points=\"127.029,-55.2058 116.6466,-53.095 123.4467,-61.2197 127.029,-55.2058\"/>\n</g>\n<!-- 4 -->\n<g id=\"node5\" class=\"node\">\n<title>4</title>\n<path fill=\"#fffefd\" stroke=\"#000000\" d=\"M294,-53C294,-53 174,-53 174,-53 168,-53 162,-47 162,-41 162,-41 162,-12 162,-12 162,-6 168,0 174,0 174,0 294,0 294,0 300,0 306,-6 306,-12 306,-12 306,-41 306,-41 306,-47 300,-53 294,-53\"/>\n<text text-anchor=\"start\" x=\"170\" y=\"-37.8\" font-family=\"Helvetica,sans-Serif\" font-size=\"14.00\" fill=\"#000000\">squared_error = 0.0</text>\n<text text-anchor=\"start\" x=\"186\" y=\"-22.8\" font-family=\"Helvetica,sans-Serif\" font-size=\"14.00\" fill=\"#000000\">samples = 204</text>\n<text text-anchor=\"start\" x=\"190\" y=\"-7.8\" font-family=\"Helvetica,sans-Serif\" font-size=\"14.00\" fill=\"#000000\">value = 0.013</text>\n</g>\n<!-- 2&#45;&gt;4 -->\n<g id=\"edge4\" class=\"edge\">\n<title>2&#45;&gt;4</title>\n<path fill=\"none\" stroke=\"#000000\" d=\"M234,-88.9777C234,-80.7364 234,-71.887 234,-63.5153\"/>\n<polygon fill=\"#000000\" stroke=\"#000000\" points=\"237.5001,-63.2484 234,-53.2485 230.5001,-63.2485 237.5001,-63.2484\"/>\n</g>\n<!-- 6 -->\n<g id=\"node7\" class=\"node\">\n<title>6</title>\n<path fill=\"#fef8f4\" stroke=\"#000000\" d=\"M473.5,-53C473.5,-53 336.5,-53 336.5,-53 330.5,-53 324.5,-47 324.5,-41 324.5,-41 324.5,-12 324.5,-12 324.5,-6 330.5,0 336.5,0 336.5,0 473.5,0 473.5,0 479.5,0 485.5,-6 485.5,-12 485.5,-12 485.5,-41 485.5,-41 485.5,-47 479.5,-53 473.5,-53\"/>\n<text text-anchor=\"start\" x=\"332.5\" y=\"-37.8\" font-family=\"Helvetica,sans-Serif\" font-size=\"14.00\" fill=\"#000000\">squared_error = 0.001</text>\n<text text-anchor=\"start\" x=\"361\" y=\"-22.8\" font-family=\"Helvetica,sans-Serif\" font-size=\"14.00\" fill=\"#000000\">samples = 37</text>\n<text text-anchor=\"start\" x=\"361\" y=\"-7.8\" font-family=\"Helvetica,sans-Serif\" font-size=\"14.00\" fill=\"#000000\">value = 0.054</text>\n</g>\n<!-- 5&#45;&gt;6 -->\n<g id=\"edge6\" class=\"edge\">\n<title>5&#45;&gt;6</title>\n<path fill=\"none\" stroke=\"#000000\" d=\"M461.3271,-88.9777C453.0715,-79.8207 444.1391,-69.9129 435.8728,-60.744\"/>\n<polygon fill=\"#000000\" stroke=\"#000000\" points=\"438.4108,-58.3321 429.1152,-53.2485 433.2117,-63.0193 438.4108,-58.3321\"/>\n</g>\n<!-- 7 -->\n<g id=\"node8\" class=\"node\">\n<title>7</title>\n<path fill=\"#fae5d7\" stroke=\"#000000\" d=\"M652.5,-53C652.5,-53 515.5,-53 515.5,-53 509.5,-53 503.5,-47 503.5,-41 503.5,-41 503.5,-12 503.5,-12 503.5,-6 509.5,0 515.5,0 515.5,0 652.5,0 652.5,0 658.5,0 664.5,-6 664.5,-12 664.5,-12 664.5,-41 664.5,-41 664.5,-47 658.5,-53 652.5,-53\"/>\n<text text-anchor=\"start\" x=\"511.5\" y=\"-37.8\" font-family=\"Helvetica,sans-Serif\" font-size=\"14.00\" fill=\"#000000\">squared_error = 0.004</text>\n<text text-anchor=\"start\" x=\"544.5\" y=\"-22.8\" font-family=\"Helvetica,sans-Serif\" font-size=\"14.00\" fill=\"#000000\">samples = 3</text>\n<text text-anchor=\"start\" x=\"540\" y=\"-7.8\" font-family=\"Helvetica,sans-Serif\" font-size=\"14.00\" fill=\"#000000\">value = 0.205</text>\n</g>\n<!-- 5&#45;&gt;7 -->\n<g id=\"edge7\" class=\"edge\">\n<title>5&#45;&gt;7</title>\n<path fill=\"none\" stroke=\"#000000\" d=\"M524.4358,-88.9777C533.1657,-79.8207 542.6115,-69.9129 551.3529,-60.744\"/>\n<polygon fill=\"#000000\" stroke=\"#000000\" points=\"554.1318,-62.9014 558.4989,-53.2485 549.0653,-58.0712 554.1318,-62.9014\"/>\n</g>\n<!-- 9 -->\n<g id=\"node10\" class=\"node\">\n<title>9</title>\n<path fill=\"#f7dac5\" stroke=\"#000000\" d=\"M831.5,-157C831.5,-157 694.5,-157 694.5,-157 688.5,-157 682.5,-151 682.5,-145 682.5,-145 682.5,-101 682.5,-101 682.5,-95 688.5,-89 694.5,-89 694.5,-89 831.5,-89 831.5,-89 837.5,-89 843.5,-95 843.5,-101 843.5,-101 843.5,-145 843.5,-145 843.5,-151 837.5,-157 831.5,-157\"/>\n<text text-anchor=\"start\" x=\"707.5\" y=\"-141.8\" font-family=\"Helvetica,sans-Serif\" font-size=\"14.00\" fill=\"#000000\">tagsCount ≤ 70.5</text>\n<text text-anchor=\"start\" x=\"690.5\" y=\"-126.8\" font-family=\"Helvetica,sans-Serif\" font-size=\"14.00\" fill=\"#000000\">squared_error = 0.006</text>\n<text text-anchor=\"start\" x=\"723.5\" y=\"-111.8\" font-family=\"Helvetica,sans-Serif\" font-size=\"14.00\" fill=\"#000000\">samples = 7</text>\n<text text-anchor=\"start\" x=\"719\" y=\"-96.8\" font-family=\"Helvetica,sans-Serif\" font-size=\"14.00\" fill=\"#000000\">value = 0.294</text>\n</g>\n<!-- 8&#45;&gt;9 -->\n<g id=\"edge9\" class=\"edge\">\n<title>8&#45;&gt;9</title>\n<path fill=\"none\" stroke=\"#000000\" d=\"M763,-192.9465C763,-184.776 763,-175.9318 763,-167.3697\"/>\n<polygon fill=\"#000000\" stroke=\"#000000\" points=\"766.5001,-167.13 763,-157.13 759.5001,-167.13 766.5001,-167.13\"/>\n</g>\n<!-- 12 -->\n<g id=\"node13\" class=\"node\">\n<title>12</title>\n<path fill=\"#e58139\" stroke=\"#000000\" d=\"M994,-149.5C994,-149.5 874,-149.5 874,-149.5 868,-149.5 862,-143.5 862,-137.5 862,-137.5 862,-108.5 862,-108.5 862,-102.5 868,-96.5 874,-96.5 874,-96.5 994,-96.5 994,-96.5 1000,-96.5 1006,-102.5 1006,-108.5 1006,-108.5 1006,-137.5 1006,-137.5 1006,-143.5 1000,-149.5 994,-149.5\"/>\n<text text-anchor=\"start\" x=\"870\" y=\"-134.3\" font-family=\"Helvetica,sans-Serif\" font-size=\"14.00\" fill=\"#000000\">squared_error = 0.0</text>\n<text text-anchor=\"start\" x=\"894.5\" y=\"-119.3\" font-family=\"Helvetica,sans-Serif\" font-size=\"14.00\" fill=\"#000000\">samples = 1</text>\n<text text-anchor=\"start\" x=\"898\" y=\"-104.3\" font-family=\"Helvetica,sans-Serif\" font-size=\"14.00\" fill=\"#000000\">value = 1.0</text>\n</g>\n<!-- 8&#45;&gt;12 -->\n<g id=\"edge12\" class=\"edge\">\n<title>8&#45;&gt;12</title>\n<path fill=\"none\" stroke=\"#000000\" d=\"M818.9918,-192.9465C839.1856,-180.6649 861.8826,-166.8609 881.7445,-154.7811\"/>\n<polygon fill=\"#000000\" stroke=\"#000000\" points=\"883.6333,-157.7289 890.3586,-149.5422 879.9959,-151.7481 883.6333,-157.7289\"/>\n</g>\n<!-- 10 -->\n<g id=\"node11\" class=\"node\">\n<title>10</title>\n<path fill=\"#f9e3d3\" stroke=\"#000000\" d=\"M831.5,-53C831.5,-53 694.5,-53 694.5,-53 688.5,-53 682.5,-47 682.5,-41 682.5,-41 682.5,-12 682.5,-12 682.5,-6 688.5,0 694.5,0 694.5,0 831.5,0 831.5,0 837.5,0 843.5,-6 843.5,-12 843.5,-12 843.5,-41 843.5,-41 843.5,-47 837.5,-53 831.5,-53\"/>\n<text text-anchor=\"start\" x=\"690.5\" y=\"-37.8\" font-family=\"Helvetica,sans-Serif\" font-size=\"14.00\" fill=\"#000000\">squared_error = 0.001</text>\n<text text-anchor=\"start\" x=\"723.5\" y=\"-22.8\" font-family=\"Helvetica,sans-Serif\" font-size=\"14.00\" fill=\"#000000\">samples = 3</text>\n<text text-anchor=\"start\" x=\"719\" y=\"-7.8\" font-family=\"Helvetica,sans-Serif\" font-size=\"14.00\" fill=\"#000000\">value = 0.225</text>\n</g>\n<!-- 9&#45;&gt;10 -->\n<g id=\"edge10\" class=\"edge\">\n<title>9&#45;&gt;10</title>\n<path fill=\"none\" stroke=\"#000000\" d=\"M763,-88.9777C763,-80.7364 763,-71.887 763,-63.5153\"/>\n<polygon fill=\"#000000\" stroke=\"#000000\" points=\"766.5001,-63.2484 763,-53.2485 759.5001,-63.2485 766.5001,-63.2484\"/>\n</g>\n<!-- 11 -->\n<g id=\"node12\" class=\"node\">\n<title>11</title>\n<path fill=\"#f6d4bb\" stroke=\"#000000\" d=\"M1010.5,-53C1010.5,-53 873.5,-53 873.5,-53 867.5,-53 861.5,-47 861.5,-41 861.5,-41 861.5,-12 861.5,-12 861.5,-6 867.5,0 873.5,0 873.5,0 1010.5,0 1010.5,0 1016.5,0 1022.5,-6 1022.5,-12 1022.5,-12 1022.5,-41 1022.5,-41 1022.5,-47 1016.5,-53 1010.5,-53\"/>\n<text text-anchor=\"start\" x=\"869.5\" y=\"-37.8\" font-family=\"Helvetica,sans-Serif\" font-size=\"14.00\" fill=\"#000000\">squared_error = 0.004</text>\n<text text-anchor=\"start\" x=\"902.5\" y=\"-22.8\" font-family=\"Helvetica,sans-Serif\" font-size=\"14.00\" fill=\"#000000\">samples = 4</text>\n<text text-anchor=\"start\" x=\"898\" y=\"-7.8\" font-family=\"Helvetica,sans-Serif\" font-size=\"14.00\" fill=\"#000000\">value = 0.346</text>\n</g>\n<!-- 9&#45;&gt;11 -->\n<g id=\"edge11\" class=\"edge\">\n<title>9&#45;&gt;11</title>\n<path fill=\"none\" stroke=\"#000000\" d=\"M826.1087,-88.9777C844.8792,-78.8584 865.3506,-67.8222 883.7937,-57.8794\"/>\n<polygon fill=\"#000000\" stroke=\"#000000\" points=\"885.5268,-60.9213 892.6683,-53.095 882.205,-54.7597 885.5268,-60.9213\"/>\n</g>\n</g>\n</svg>\n"
          },
          "metadata": {},
          "execution_count": 59
        }
      ]
    },
    {
      "cell_type": "code",
      "source": [
        "tagslist = df['tags'].to_list()\n",
        "print(type(tagslist))\n",
        "print(type(df['tags']))"
      ],
      "metadata": {
        "id": "lVDZY8uKPlU4"
      },
      "execution_count": null,
      "outputs": []
    },
    {
      "cell_type": "markdown",
      "source": [
        "<h3 align='right'>Accuracy</h3>"
      ],
      "metadata": {
        "id": "HhFUyxjnTjXr"
      }
    },
    {
      "cell_type": "code",
      "source": [
        "print(\"Training Accuracy is: \", dt.score(x_train, y_train)) #evaluated the model on the same dataset that it was trained for\n",
        "print(\"\\n\\nTesting Accuracy is: \", dt.score(x_test, y_test)) #evaluate the model for new datas.\n"
      ],
      "metadata": {
        "colab": {
          "base_uri": "https://localhost:8080/"
        },
        "id": "es7KcF92OjXM",
        "outputId": "79563ec0-e082-4828-b968-9a9fbde071f1"
      },
      "execution_count": null,
      "outputs": [
        {
          "output_type": "stream",
          "name": "stdout",
          "text": [
            "Training Accuracy is:  0.9383258907272329\n",
            "\n",
            "\n",
            "Testing Accuracy is:  0.5437835222187776\n"
          ]
        }
      ]
    },
    {
      "cell_type": "code",
      "source": [
        "for i, column in enumerate(df2.drop('reaction', axis=1)):\n",
        "    print('Importance of feature {}:, {:.3f}'.format(column, dt.feature_importances_[i]))\n",
        "    \n",
        "    fi = pd.DataFrame({'Variable': [column],\n",
        "                       'Feature Importance Score': [dt.feature_importances_[i]]})\n",
        "    \n",
        "    try: #the others values\n",
        "        final_fi = pd.concat([final_fi,fi], ignore_index = True)\n",
        "    except: #the first value\n",
        "        final_fi = fi\n",
        "        \n",
        "        \n",
        "# Ordering the data\n",
        "final_fi = final_fi.sort_values('Feature Importance Score', ascending = False).reset_index()            \n",
        "final_fi"
      ],
      "metadata": {
        "colab": {
          "base_uri": "https://localhost:8080/",
          "height": 1000
        },
        "id": "fKZWC_SCOoMW",
        "outputId": "9be38829-77d2-4b17-d3c4-579e7a16dbe6"
      },
      "execution_count": null,
      "outputs": [
        {
          "output_type": "stream",
          "name": "stdout",
          "text": [
            "Importance of feature tagsCount:, 0.013\n",
            "Importance of feature viewCount:, 0.953\n",
            "Importance of feature Year:, 0.000\n",
            "Importance of feature YearMonth:, 0.034\n",
            "Importance of feature definition_hd:, 0.000\n",
            "Importance of feature definition_sd:, 0.000\n",
            "Importance of feature defaultAudioLanguage_0:, 0.000\n",
            "Importance of feature defaultAudioLanguage_ar:, 0.000\n",
            "Importance of feature defaultAudioLanguage_cs:, 0.000\n",
            "Importance of feature defaultAudioLanguage_de:, 0.000\n",
            "Importance of feature defaultAudioLanguage_el:, 0.000\n",
            "Importance of feature defaultAudioLanguage_en:, 0.000\n",
            "Importance of feature defaultAudioLanguage_en-GB:, 0.000\n",
            "Importance of feature defaultAudioLanguage_en-IE:, 0.000\n",
            "Importance of feature defaultAudioLanguage_en-US:, 0.000\n",
            "Importance of feature defaultAudioLanguage_es:, 0.000\n",
            "Importance of feature defaultAudioLanguage_es-ES:, 0.000\n",
            "Importance of feature defaultAudioLanguage_it:, 0.000\n",
            "Importance of feature defaultAudioLanguage_ka:, 0.000\n",
            "Importance of feature defaultAudioLanguage_pl:, 0.000\n",
            "Importance of feature defaultAudioLanguage_ru:, 0.000\n",
            "Importance of feature defaultAudioLanguage_sl:, 0.000\n",
            "Importance of feature defaultAudioLanguage_sr:, 0.000\n",
            "Importance of feature defaultAudioLanguage_sv:, 0.000\n",
            "Importance of feature defaultAudioLanguage_tr:, 0.000\n",
            "Importance of feature defaultAudioLanguage_zxx:, 0.000\n"
          ]
        },
        {
          "output_type": "execute_result",
          "data": {
            "text/html": [
              "\n",
              "  <div id=\"df-b676b171-e31b-45fc-8c5c-52a234e95ee3\">\n",
              "    <div class=\"colab-df-container\">\n",
              "      <div>\n",
              "<style scoped>\n",
              "    .dataframe tbody tr th:only-of-type {\n",
              "        vertical-align: middle;\n",
              "    }\n",
              "\n",
              "    .dataframe tbody tr th {\n",
              "        vertical-align: top;\n",
              "    }\n",
              "\n",
              "    .dataframe thead th {\n",
              "        text-align: right;\n",
              "    }\n",
              "</style>\n",
              "<table border=\"1\" class=\"dataframe\">\n",
              "  <thead>\n",
              "    <tr style=\"text-align: right;\">\n",
              "      <th></th>\n",
              "      <th>level_0</th>\n",
              "      <th>index</th>\n",
              "      <th>Variable</th>\n",
              "      <th>Feature Importance Score</th>\n",
              "    </tr>\n",
              "  </thead>\n",
              "  <tbody>\n",
              "    <tr>\n",
              "      <th>0</th>\n",
              "      <td>0</td>\n",
              "      <td>1.0</td>\n",
              "      <td>Year</td>\n",
              "      <td>0.953046</td>\n",
              "    </tr>\n",
              "    <tr>\n",
              "      <th>1</th>\n",
              "      <td>27</td>\n",
              "      <td>NaN</td>\n",
              "      <td>viewCount</td>\n",
              "      <td>0.953046</td>\n",
              "    </tr>\n",
              "    <tr>\n",
              "      <th>2</th>\n",
              "      <td>1</td>\n",
              "      <td>3.0</td>\n",
              "      <td>reaction</td>\n",
              "      <td>0.033652</td>\n",
              "    </tr>\n",
              "    <tr>\n",
              "      <th>3</th>\n",
              "      <td>29</td>\n",
              "      <td>NaN</td>\n",
              "      <td>YearMonth</td>\n",
              "      <td>0.033652</td>\n",
              "    </tr>\n",
              "    <tr>\n",
              "      <th>4</th>\n",
              "      <td>26</td>\n",
              "      <td>NaN</td>\n",
              "      <td>tagsCount</td>\n",
              "      <td>0.013302</td>\n",
              "    </tr>\n",
              "    <tr>\n",
              "      <th>5</th>\n",
              "      <td>2</td>\n",
              "      <td>0.0</td>\n",
              "      <td>viewCount</td>\n",
              "      <td>0.013302</td>\n",
              "    </tr>\n",
              "    <tr>\n",
              "      <th>6</th>\n",
              "      <td>5</td>\n",
              "      <td>23.0</td>\n",
              "      <td>defaultAudioLanguage_sv</td>\n",
              "      <td>0.000000</td>\n",
              "    </tr>\n",
              "    <tr>\n",
              "      <th>7</th>\n",
              "      <td>40</td>\n",
              "      <td>NaN</td>\n",
              "      <td>defaultAudioLanguage_en-US</td>\n",
              "      <td>0.000000</td>\n",
              "    </tr>\n",
              "    <tr>\n",
              "      <th>8</th>\n",
              "      <td>31</td>\n",
              "      <td>NaN</td>\n",
              "      <td>definition_sd</td>\n",
              "      <td>0.000000</td>\n",
              "    </tr>\n",
              "    <tr>\n",
              "      <th>9</th>\n",
              "      <td>32</td>\n",
              "      <td>NaN</td>\n",
              "      <td>defaultAudioLanguage_0</td>\n",
              "      <td>0.000000</td>\n",
              "    </tr>\n",
              "    <tr>\n",
              "      <th>10</th>\n",
              "      <td>33</td>\n",
              "      <td>NaN</td>\n",
              "      <td>defaultAudioLanguage_ar</td>\n",
              "      <td>0.000000</td>\n",
              "    </tr>\n",
              "    <tr>\n",
              "      <th>11</th>\n",
              "      <td>34</td>\n",
              "      <td>NaN</td>\n",
              "      <td>defaultAudioLanguage_cs</td>\n",
              "      <td>0.000000</td>\n",
              "    </tr>\n",
              "    <tr>\n",
              "      <th>12</th>\n",
              "      <td>35</td>\n",
              "      <td>NaN</td>\n",
              "      <td>defaultAudioLanguage_de</td>\n",
              "      <td>0.000000</td>\n",
              "    </tr>\n",
              "    <tr>\n",
              "      <th>13</th>\n",
              "      <td>36</td>\n",
              "      <td>NaN</td>\n",
              "      <td>defaultAudioLanguage_el</td>\n",
              "      <td>0.000000</td>\n",
              "    </tr>\n",
              "    <tr>\n",
              "      <th>14</th>\n",
              "      <td>37</td>\n",
              "      <td>NaN</td>\n",
              "      <td>defaultAudioLanguage_en</td>\n",
              "      <td>0.000000</td>\n",
              "    </tr>\n",
              "    <tr>\n",
              "      <th>15</th>\n",
              "      <td>38</td>\n",
              "      <td>NaN</td>\n",
              "      <td>defaultAudioLanguage_en-GB</td>\n",
              "      <td>0.000000</td>\n",
              "    </tr>\n",
              "    <tr>\n",
              "      <th>16</th>\n",
              "      <td>39</td>\n",
              "      <td>NaN</td>\n",
              "      <td>defaultAudioLanguage_en-IE</td>\n",
              "      <td>0.000000</td>\n",
              "    </tr>\n",
              "    <tr>\n",
              "      <th>17</th>\n",
              "      <td>41</td>\n",
              "      <td>NaN</td>\n",
              "      <td>defaultAudioLanguage_es</td>\n",
              "      <td>0.000000</td>\n",
              "    </tr>\n",
              "    <tr>\n",
              "      <th>18</th>\n",
              "      <td>42</td>\n",
              "      <td>NaN</td>\n",
              "      <td>defaultAudioLanguage_es-ES</td>\n",
              "      <td>0.000000</td>\n",
              "    </tr>\n",
              "    <tr>\n",
              "      <th>19</th>\n",
              "      <td>43</td>\n",
              "      <td>NaN</td>\n",
              "      <td>defaultAudioLanguage_it</td>\n",
              "      <td>0.000000</td>\n",
              "    </tr>\n",
              "    <tr>\n",
              "      <th>20</th>\n",
              "      <td>44</td>\n",
              "      <td>NaN</td>\n",
              "      <td>defaultAudioLanguage_ka</td>\n",
              "      <td>0.000000</td>\n",
              "    </tr>\n",
              "    <tr>\n",
              "      <th>21</th>\n",
              "      <td>45</td>\n",
              "      <td>NaN</td>\n",
              "      <td>defaultAudioLanguage_pl</td>\n",
              "      <td>0.000000</td>\n",
              "    </tr>\n",
              "    <tr>\n",
              "      <th>22</th>\n",
              "      <td>46</td>\n",
              "      <td>NaN</td>\n",
              "      <td>defaultAudioLanguage_ru</td>\n",
              "      <td>0.000000</td>\n",
              "    </tr>\n",
              "    <tr>\n",
              "      <th>23</th>\n",
              "      <td>47</td>\n",
              "      <td>NaN</td>\n",
              "      <td>defaultAudioLanguage_sl</td>\n",
              "      <td>0.000000</td>\n",
              "    </tr>\n",
              "    <tr>\n",
              "      <th>24</th>\n",
              "      <td>48</td>\n",
              "      <td>NaN</td>\n",
              "      <td>defaultAudioLanguage_sr</td>\n",
              "      <td>0.000000</td>\n",
              "    </tr>\n",
              "    <tr>\n",
              "      <th>25</th>\n",
              "      <td>49</td>\n",
              "      <td>NaN</td>\n",
              "      <td>defaultAudioLanguage_sv</td>\n",
              "      <td>0.000000</td>\n",
              "    </tr>\n",
              "    <tr>\n",
              "      <th>26</th>\n",
              "      <td>50</td>\n",
              "      <td>NaN</td>\n",
              "      <td>defaultAudioLanguage_tr</td>\n",
              "      <td>0.000000</td>\n",
              "    </tr>\n",
              "    <tr>\n",
              "      <th>27</th>\n",
              "      <td>30</td>\n",
              "      <td>NaN</td>\n",
              "      <td>definition_hd</td>\n",
              "      <td>0.000000</td>\n",
              "    </tr>\n",
              "    <tr>\n",
              "      <th>28</th>\n",
              "      <td>28</td>\n",
              "      <td>NaN</td>\n",
              "      <td>Year</td>\n",
              "      <td>0.000000</td>\n",
              "    </tr>\n",
              "    <tr>\n",
              "      <th>29</th>\n",
              "      <td>6</td>\n",
              "      <td>22.0</td>\n",
              "      <td>defaultAudioLanguage_sr</td>\n",
              "      <td>0.000000</td>\n",
              "    </tr>\n",
              "    <tr>\n",
              "      <th>30</th>\n",
              "      <td>16</td>\n",
              "      <td>11.0</td>\n",
              "      <td>defaultAudioLanguage_en</td>\n",
              "      <td>0.000000</td>\n",
              "    </tr>\n",
              "    <tr>\n",
              "      <th>31</th>\n",
              "      <td>7</td>\n",
              "      <td>21.0</td>\n",
              "      <td>defaultAudioLanguage_sl</td>\n",
              "      <td>0.000000</td>\n",
              "    </tr>\n",
              "    <tr>\n",
              "      <th>32</th>\n",
              "      <td>8</td>\n",
              "      <td>20.0</td>\n",
              "      <td>defaultAudioLanguage_ru</td>\n",
              "      <td>0.000000</td>\n",
              "    </tr>\n",
              "    <tr>\n",
              "      <th>33</th>\n",
              "      <td>9</td>\n",
              "      <td>19.0</td>\n",
              "      <td>defaultAudioLanguage_pl</td>\n",
              "      <td>0.000000</td>\n",
              "    </tr>\n",
              "    <tr>\n",
              "      <th>34</th>\n",
              "      <td>10</td>\n",
              "      <td>18.0</td>\n",
              "      <td>defaultAudioLanguage_ka</td>\n",
              "      <td>0.000000</td>\n",
              "    </tr>\n",
              "    <tr>\n",
              "      <th>35</th>\n",
              "      <td>11</td>\n",
              "      <td>17.0</td>\n",
              "      <td>defaultAudioLanguage_it</td>\n",
              "      <td>0.000000</td>\n",
              "    </tr>\n",
              "    <tr>\n",
              "      <th>36</th>\n",
              "      <td>12</td>\n",
              "      <td>16.0</td>\n",
              "      <td>defaultAudioLanguage_es-ES</td>\n",
              "      <td>0.000000</td>\n",
              "    </tr>\n",
              "    <tr>\n",
              "      <th>37</th>\n",
              "      <td>13</td>\n",
              "      <td>15.0</td>\n",
              "      <td>defaultAudioLanguage_es</td>\n",
              "      <td>0.000000</td>\n",
              "    </tr>\n",
              "    <tr>\n",
              "      <th>38</th>\n",
              "      <td>14</td>\n",
              "      <td>13.0</td>\n",
              "      <td>defaultAudioLanguage_en-IE</td>\n",
              "      <td>0.000000</td>\n",
              "    </tr>\n",
              "    <tr>\n",
              "      <th>39</th>\n",
              "      <td>15</td>\n",
              "      <td>12.0</td>\n",
              "      <td>defaultAudioLanguage_en-GB</td>\n",
              "      <td>0.000000</td>\n",
              "    </tr>\n",
              "    <tr>\n",
              "      <th>40</th>\n",
              "      <td>17</td>\n",
              "      <td>10.0</td>\n",
              "      <td>defaultAudioLanguage_el</td>\n",
              "      <td>0.000000</td>\n",
              "    </tr>\n",
              "    <tr>\n",
              "      <th>41</th>\n",
              "      <td>3</td>\n",
              "      <td>14.0</td>\n",
              "      <td>defaultAudioLanguage_en-US</td>\n",
              "      <td>0.000000</td>\n",
              "    </tr>\n",
              "    <tr>\n",
              "      <th>42</th>\n",
              "      <td>18</td>\n",
              "      <td>9.0</td>\n",
              "      <td>defaultAudioLanguage_de</td>\n",
              "      <td>0.000000</td>\n",
              "    </tr>\n",
              "    <tr>\n",
              "      <th>43</th>\n",
              "      <td>19</td>\n",
              "      <td>8.0</td>\n",
              "      <td>defaultAudioLanguage_cs</td>\n",
              "      <td>0.000000</td>\n",
              "    </tr>\n",
              "    <tr>\n",
              "      <th>44</th>\n",
              "      <td>20</td>\n",
              "      <td>7.0</td>\n",
              "      <td>defaultAudioLanguage_ar</td>\n",
              "      <td>0.000000</td>\n",
              "    </tr>\n",
              "    <tr>\n",
              "      <th>45</th>\n",
              "      <td>21</td>\n",
              "      <td>6.0</td>\n",
              "      <td>defaultAudioLanguage_0</td>\n",
              "      <td>0.000000</td>\n",
              "    </tr>\n",
              "    <tr>\n",
              "      <th>46</th>\n",
              "      <td>22</td>\n",
              "      <td>5.0</td>\n",
              "      <td>definition_sd</td>\n",
              "      <td>0.000000</td>\n",
              "    </tr>\n",
              "    <tr>\n",
              "      <th>47</th>\n",
              "      <td>23</td>\n",
              "      <td>4.0</td>\n",
              "      <td>definition_hd</td>\n",
              "      <td>0.000000</td>\n",
              "    </tr>\n",
              "    <tr>\n",
              "      <th>48</th>\n",
              "      <td>24</td>\n",
              "      <td>2.0</td>\n",
              "      <td>YearMonth</td>\n",
              "      <td>0.000000</td>\n",
              "    </tr>\n",
              "    <tr>\n",
              "      <th>49</th>\n",
              "      <td>25</td>\n",
              "      <td>25.0</td>\n",
              "      <td>defaultAudioLanguage_zxx</td>\n",
              "      <td>0.000000</td>\n",
              "    </tr>\n",
              "    <tr>\n",
              "      <th>50</th>\n",
              "      <td>4</td>\n",
              "      <td>24.0</td>\n",
              "      <td>defaultAudioLanguage_tr</td>\n",
              "      <td>0.000000</td>\n",
              "    </tr>\n",
              "    <tr>\n",
              "      <th>51</th>\n",
              "      <td>51</td>\n",
              "      <td>NaN</td>\n",
              "      <td>defaultAudioLanguage_zxx</td>\n",
              "      <td>0.000000</td>\n",
              "    </tr>\n",
              "  </tbody>\n",
              "</table>\n",
              "</div>\n",
              "      <button class=\"colab-df-convert\" onclick=\"convertToInteractive('df-b676b171-e31b-45fc-8c5c-52a234e95ee3')\"\n",
              "              title=\"Convert this dataframe to an interactive table.\"\n",
              "              style=\"display:none;\">\n",
              "        \n",
              "  <svg xmlns=\"http://www.w3.org/2000/svg\" height=\"24px\"viewBox=\"0 0 24 24\"\n",
              "       width=\"24px\">\n",
              "    <path d=\"M0 0h24v24H0V0z\" fill=\"none\"/>\n",
              "    <path d=\"M18.56 5.44l.94 2.06.94-2.06 2.06-.94-2.06-.94-.94-2.06-.94 2.06-2.06.94zm-11 1L8.5 8.5l.94-2.06 2.06-.94-2.06-.94L8.5 2.5l-.94 2.06-2.06.94zm10 10l.94 2.06.94-2.06 2.06-.94-2.06-.94-.94-2.06-.94 2.06-2.06.94z\"/><path d=\"M17.41 7.96l-1.37-1.37c-.4-.4-.92-.59-1.43-.59-.52 0-1.04.2-1.43.59L10.3 9.45l-7.72 7.72c-.78.78-.78 2.05 0 2.83L4 21.41c.39.39.9.59 1.41.59.51 0 1.02-.2 1.41-.59l7.78-7.78 2.81-2.81c.8-.78.8-2.07 0-2.86zM5.41 20L4 18.59l7.72-7.72 1.47 1.35L5.41 20z\"/>\n",
              "  </svg>\n",
              "      </button>\n",
              "      \n",
              "  <style>\n",
              "    .colab-df-container {\n",
              "      display:flex;\n",
              "      flex-wrap:wrap;\n",
              "      gap: 12px;\n",
              "    }\n",
              "\n",
              "    .colab-df-convert {\n",
              "      background-color: #E8F0FE;\n",
              "      border: none;\n",
              "      border-radius: 50%;\n",
              "      cursor: pointer;\n",
              "      display: none;\n",
              "      fill: #1967D2;\n",
              "      height: 32px;\n",
              "      padding: 0 0 0 0;\n",
              "      width: 32px;\n",
              "    }\n",
              "\n",
              "    .colab-df-convert:hover {\n",
              "      background-color: #E2EBFA;\n",
              "      box-shadow: 0px 1px 2px rgba(60, 64, 67, 0.3), 0px 1px 3px 1px rgba(60, 64, 67, 0.15);\n",
              "      fill: #174EA6;\n",
              "    }\n",
              "\n",
              "    [theme=dark] .colab-df-convert {\n",
              "      background-color: #3B4455;\n",
              "      fill: #D2E3FC;\n",
              "    }\n",
              "\n",
              "    [theme=dark] .colab-df-convert:hover {\n",
              "      background-color: #434B5C;\n",
              "      box-shadow: 0px 1px 3px 1px rgba(0, 0, 0, 0.15);\n",
              "      filter: drop-shadow(0px 1px 2px rgba(0, 0, 0, 0.3));\n",
              "      fill: #FFFFFF;\n",
              "    }\n",
              "  </style>\n",
              "\n",
              "      <script>\n",
              "        const buttonEl =\n",
              "          document.querySelector('#df-b676b171-e31b-45fc-8c5c-52a234e95ee3 button.colab-df-convert');\n",
              "        buttonEl.style.display =\n",
              "          google.colab.kernel.accessAllowed ? 'block' : 'none';\n",
              "\n",
              "        async function convertToInteractive(key) {\n",
              "          const element = document.querySelector('#df-b676b171-e31b-45fc-8c5c-52a234e95ee3');\n",
              "          const dataTable =\n",
              "            await google.colab.kernel.invokeFunction('convertToInteractive',\n",
              "                                                     [key], {});\n",
              "          if (!dataTable) return;\n",
              "\n",
              "          const docLinkHtml = 'Like what you see? Visit the ' +\n",
              "            '<a target=\"_blank\" href=https://colab.research.google.com/notebooks/data_table.ipynb>data table notebook</a>'\n",
              "            + ' to learn more about interactive tables.';\n",
              "          element.innerHTML = '';\n",
              "          dataTable['output_type'] = 'display_data';\n",
              "          await google.colab.output.renderOutput(dataTable, element);\n",
              "          const docLink = document.createElement('div');\n",
              "          docLink.innerHTML = docLinkHtml;\n",
              "          element.appendChild(docLink);\n",
              "        }\n",
              "      </script>\n",
              "    </div>\n",
              "  </div>\n",
              "  "
            ],
            "text/plain": [
              "    level_0  index                    Variable  Feature Importance Score\n",
              "0         0    1.0                        Year                  0.953046\n",
              "1        27    NaN                   viewCount                  0.953046\n",
              "2         1    3.0                    reaction                  0.033652\n",
              "3        29    NaN                   YearMonth                  0.033652\n",
              "4        26    NaN                   tagsCount                  0.013302\n",
              "5         2    0.0                   viewCount                  0.013302\n",
              "6         5   23.0     defaultAudioLanguage_sv                  0.000000\n",
              "7        40    NaN  defaultAudioLanguage_en-US                  0.000000\n",
              "8        31    NaN               definition_sd                  0.000000\n",
              "9        32    NaN      defaultAudioLanguage_0                  0.000000\n",
              "10       33    NaN     defaultAudioLanguage_ar                  0.000000\n",
              "11       34    NaN     defaultAudioLanguage_cs                  0.000000\n",
              "12       35    NaN     defaultAudioLanguage_de                  0.000000\n",
              "13       36    NaN     defaultAudioLanguage_el                  0.000000\n",
              "14       37    NaN     defaultAudioLanguage_en                  0.000000\n",
              "15       38    NaN  defaultAudioLanguage_en-GB                  0.000000\n",
              "16       39    NaN  defaultAudioLanguage_en-IE                  0.000000\n",
              "17       41    NaN     defaultAudioLanguage_es                  0.000000\n",
              "18       42    NaN  defaultAudioLanguage_es-ES                  0.000000\n",
              "19       43    NaN     defaultAudioLanguage_it                  0.000000\n",
              "20       44    NaN     defaultAudioLanguage_ka                  0.000000\n",
              "21       45    NaN     defaultAudioLanguage_pl                  0.000000\n",
              "22       46    NaN     defaultAudioLanguage_ru                  0.000000\n",
              "23       47    NaN     defaultAudioLanguage_sl                  0.000000\n",
              "24       48    NaN     defaultAudioLanguage_sr                  0.000000\n",
              "25       49    NaN     defaultAudioLanguage_sv                  0.000000\n",
              "26       50    NaN     defaultAudioLanguage_tr                  0.000000\n",
              "27       30    NaN               definition_hd                  0.000000\n",
              "28       28    NaN                        Year                  0.000000\n",
              "29        6   22.0     defaultAudioLanguage_sr                  0.000000\n",
              "30       16   11.0     defaultAudioLanguage_en                  0.000000\n",
              "31        7   21.0     defaultAudioLanguage_sl                  0.000000\n",
              "32        8   20.0     defaultAudioLanguage_ru                  0.000000\n",
              "33        9   19.0     defaultAudioLanguage_pl                  0.000000\n",
              "34       10   18.0     defaultAudioLanguage_ka                  0.000000\n",
              "35       11   17.0     defaultAudioLanguage_it                  0.000000\n",
              "36       12   16.0  defaultAudioLanguage_es-ES                  0.000000\n",
              "37       13   15.0     defaultAudioLanguage_es                  0.000000\n",
              "38       14   13.0  defaultAudioLanguage_en-IE                  0.000000\n",
              "39       15   12.0  defaultAudioLanguage_en-GB                  0.000000\n",
              "40       17   10.0     defaultAudioLanguage_el                  0.000000\n",
              "41        3   14.0  defaultAudioLanguage_en-US                  0.000000\n",
              "42       18    9.0     defaultAudioLanguage_de                  0.000000\n",
              "43       19    8.0     defaultAudioLanguage_cs                  0.000000\n",
              "44       20    7.0     defaultAudioLanguage_ar                  0.000000\n",
              "45       21    6.0      defaultAudioLanguage_0                  0.000000\n",
              "46       22    5.0               definition_sd                  0.000000\n",
              "47       23    4.0               definition_hd                  0.000000\n",
              "48       24    2.0                   YearMonth                  0.000000\n",
              "49       25   25.0    defaultAudioLanguage_zxx                  0.000000\n",
              "50        4   24.0     defaultAudioLanguage_tr                  0.000000\n",
              "51       51    NaN    defaultAudioLanguage_zxx                  0.000000"
            ]
          },
          "metadata": {},
          "execution_count": 70
        }
      ]
    },
    {
      "cell_type": "code",
      "source": [
        "df2['tagsCount'].describe()"
      ],
      "metadata": {
        "colab": {
          "base_uri": "https://localhost:8080/"
        },
        "id": "E_T0pY_fPQKz",
        "outputId": "9b0b2968-677b-43ed-c45b-51558fc3456f"
      },
      "execution_count": null,
      "outputs": [
        {
          "output_type": "execute_result",
          "data": {
            "text/plain": [
              "count    5723.000000\n",
              "mean       61.339507\n",
              "std        15.710413\n",
              "min         1.000000\n",
              "25%        58.000000\n",
              "50%        68.000000\n",
              "75%        71.000000\n",
              "max        95.000000\n",
              "Name: tagsCount, dtype: float64"
            ]
          },
          "metadata": {},
          "execution_count": 74
        }
      ]
    },
    {
      "cell_type": "code",
      "source": [
        "def plot_confusion_matrix(cm, classes=None, title='Confusion matrix'):\n",
        "    \"\"\"Plots a confusion matrix.\"\"\"\n",
        "    if classes is not None:\n",
        "        sns.heatmap(cm, xticklabels=classes, yticklabels=classes, \n",
        "                    vmin=0., vmax=1., annot=True, annot_kws={'size':50})\n",
        "    else:\n",
        "        sns.heatmap(cm, vmin=0., vmax=1.)\n",
        "    plt.title(title)\n",
        "    plt.ylabel('True label')\n",
        "    plt.xlabel('Predicted label')"
      ],
      "metadata": {
        "id": "va-sbyZoObcV"
      },
      "execution_count": null,
      "outputs": []
    },
    {
      "cell_type": "code",
      "source": [
        "from sklearn.metrics import accuracy_score, confusion_matrix, r2_score\n",
        "y_prediction = dt.predict(x_train)\n",
        "confusion_matrix(y_train, y_prediction)\n"
      ],
      "metadata": {
        "id": "EbnFVkvFOSxM"
      },
      "execution_count": null,
      "outputs": []
    },
    {
      "cell_type": "code",
      "source": [
        "# Plotting Confusion Matrix\n",
        "cm = confusion_matrix(y_train, y_prediction)\n",
        "cm_norm = cm/cm.sum(axis=1)[:, np.newaxis]\n",
        "plt.figure()\n",
        "plot_confusion_matrix(cm_norm, classes=dt.classes_,\n",
        "                      title='\\nTraining confusion\\n\\n')"
      ],
      "metadata": {
        "id": "mxnBWzBBSDJy"
      },
      "execution_count": null,
      "outputs": []
    }
  ]
}