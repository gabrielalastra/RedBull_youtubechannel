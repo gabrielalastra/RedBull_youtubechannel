{
  "nbformat": 4,
  "nbformat_minor": 0,
  "metadata": {
    "colab": {
      "name": "data_cleaning.ipynb",
      "provenance": [],
      "mount_file_id": "15tqAYbrqT30pOG3Jw7jlIvDbCtKczYXa",
      "authorship_tag": "ABX9TyM+5H3GAssQ4yYKrfxyAhft"
    },
    "kernelspec": {
      "name": "python3",
      "display_name": "Python 3"
    },
    "language_info": {
      "name": "python"
    }
  },
  "cells": [
    {
      "cell_type": "code",
      "execution_count": 1,
      "metadata": {
        "id": "gqLJlZShLe06"
      },
      "outputs": [],
      "source": [
        "import pandas as pd\n",
        "import numpy as np"
      ]
    },
    {
      "cell_type": "markdown",
      "source": [
        "<h5 align='right'>Open the file</h5>\n",
        "<hr color='f47b0a'>"
      ],
      "metadata": {
        "id": "6d1gyG50L3wB"
      }
    },
    {
      "cell_type": "code",
      "source": [
        "path = '/content/drive/MyDrive/Colab Notebooks/video_data.json'"
      ],
      "metadata": {
        "id": "CB-kz3gYLjjp"
      },
      "execution_count": 33,
      "outputs": []
    },
    {
      "cell_type": "code",
      "source": [
        "df = pd.read_json(path)"
      ],
      "metadata": {
        "id": "gl9w_7smLtG5"
      },
      "execution_count": 34,
      "outputs": []
    },
    {
      "cell_type": "code",
      "source": [
        "df.head()"
      ],
      "metadata": {
        "colab": {
          "base_uri": "https://localhost:8080/",
          "height": 511
        },
        "id": "Cnh69vggLyss",
        "outputId": "dcbac272-8230-47f8-b639-7f4e4b2f577e"
      },
      "execution_count": 4,
      "outputs": [
        {
          "output_type": "execute_result",
          "data": {
            "text/html": [
              "\n",
              "  <div id=\"df-1ff1777a-78ce-4c43-841a-58de4c1a6b14\">\n",
              "    <div class=\"colab-df-container\">\n",
              "      <div>\n",
              "<style scoped>\n",
              "    .dataframe tbody tr th:only-of-type {\n",
              "        vertical-align: middle;\n",
              "    }\n",
              "\n",
              "    .dataframe tbody tr th {\n",
              "        vertical-align: top;\n",
              "    }\n",
              "\n",
              "    .dataframe thead th {\n",
              "        text-align: right;\n",
              "    }\n",
              "</style>\n",
              "<table border=\"1\" class=\"dataframe\">\n",
              "  <thead>\n",
              "    <tr style=\"text-align: right;\">\n",
              "      <th></th>\n",
              "      <th>kind</th>\n",
              "      <th>etag</th>\n",
              "      <th>id</th>\n",
              "      <th>snippet</th>\n",
              "      <th>contentDetails</th>\n",
              "      <th>statistics</th>\n",
              "    </tr>\n",
              "  </thead>\n",
              "  <tbody>\n",
              "    <tr>\n",
              "      <th>0</th>\n",
              "      <td>youtube#video</td>\n",
              "      <td>BMiuxV0EaQe68H2Q-FTv5h7L384</td>\n",
              "      <td>xsPlB4WAmRc</td>\n",
              "      <td>{'publishedAt': '2022-02-09T17:15:40Z', 'chann...</td>\n",
              "      <td>{'duration': 'PT22S', 'dimension': '2d', 'defi...</td>\n",
              "      <td>{'viewCount': '20155', 'likeCount': '764', 'fa...</td>\n",
              "    </tr>\n",
              "    <tr>\n",
              "      <th>1</th>\n",
              "      <td>youtube#video</td>\n",
              "      <td>cDx9EEKQ_Awdx5zsfhlV9eEluMc</td>\n",
              "      <td>q-r6V_PgtcY</td>\n",
              "      <td>{'publishedAt': '2022-02-07T15:00:36Z', 'chann...</td>\n",
              "      <td>{'duration': 'PT6M56S', 'dimension': '2d', 'de...</td>\n",
              "      <td>{'viewCount': '46146', 'likeCount': '1685', 'f...</td>\n",
              "    </tr>\n",
              "    <tr>\n",
              "      <th>2</th>\n",
              "      <td>youtube#video</td>\n",
              "      <td>5WbCTsDJP88YP7ZFOTA5VyqzzjA</td>\n",
              "      <td>jxe870HmYBE</td>\n",
              "      <td>{'publishedAt': '2022-02-03T13:29:23Z', 'chann...</td>\n",
              "      <td>{'duration': 'PT2M6S', 'dimension': '2d', 'def...</td>\n",
              "      <td>{'viewCount': '736223', 'likeCount': '26527', ...</td>\n",
              "    </tr>\n",
              "    <tr>\n",
              "      <th>3</th>\n",
              "      <td>youtube#video</td>\n",
              "      <td>l8qUCiS7o06iMgAakD9mBmIU3DY</td>\n",
              "      <td>yxVOownOSRs</td>\n",
              "      <td>{'publishedAt': '2022-02-01T17:09:05Z', 'chann...</td>\n",
              "      <td>{'duration': 'PT25S', 'dimension': '2d', 'defi...</td>\n",
              "      <td>{'viewCount': '49902', 'likeCount': '1486', 'f...</td>\n",
              "    </tr>\n",
              "    <tr>\n",
              "      <th>4</th>\n",
              "      <td>youtube#video</td>\n",
              "      <td>Jz-MAsGwkAktqaA3N6EvpW_d1N8</td>\n",
              "      <td>3-yglCSCPng</td>\n",
              "      <td>{'publishedAt': '2022-01-14T13:00:01Z', 'chann...</td>\n",
              "      <td>{'duration': 'PT22S', 'dimension': '2d', 'defi...</td>\n",
              "      <td>{'viewCount': '228924', 'likeCount': '5724', '...</td>\n",
              "    </tr>\n",
              "  </tbody>\n",
              "</table>\n",
              "</div>\n",
              "      <button class=\"colab-df-convert\" onclick=\"convertToInteractive('df-1ff1777a-78ce-4c43-841a-58de4c1a6b14')\"\n",
              "              title=\"Convert this dataframe to an interactive table.\"\n",
              "              style=\"display:none;\">\n",
              "        \n",
              "  <svg xmlns=\"http://www.w3.org/2000/svg\" height=\"24px\"viewBox=\"0 0 24 24\"\n",
              "       width=\"24px\">\n",
              "    <path d=\"M0 0h24v24H0V0z\" fill=\"none\"/>\n",
              "    <path d=\"M18.56 5.44l.94 2.06.94-2.06 2.06-.94-2.06-.94-.94-2.06-.94 2.06-2.06.94zm-11 1L8.5 8.5l.94-2.06 2.06-.94-2.06-.94L8.5 2.5l-.94 2.06-2.06.94zm10 10l.94 2.06.94-2.06 2.06-.94-2.06-.94-.94-2.06-.94 2.06-2.06.94z\"/><path d=\"M17.41 7.96l-1.37-1.37c-.4-.4-.92-.59-1.43-.59-.52 0-1.04.2-1.43.59L10.3 9.45l-7.72 7.72c-.78.78-.78 2.05 0 2.83L4 21.41c.39.39.9.59 1.41.59.51 0 1.02-.2 1.41-.59l7.78-7.78 2.81-2.81c.8-.78.8-2.07 0-2.86zM5.41 20L4 18.59l7.72-7.72 1.47 1.35L5.41 20z\"/>\n",
              "  </svg>\n",
              "      </button>\n",
              "      \n",
              "  <style>\n",
              "    .colab-df-container {\n",
              "      display:flex;\n",
              "      flex-wrap:wrap;\n",
              "      gap: 12px;\n",
              "    }\n",
              "\n",
              "    .colab-df-convert {\n",
              "      background-color: #E8F0FE;\n",
              "      border: none;\n",
              "      border-radius: 50%;\n",
              "      cursor: pointer;\n",
              "      display: none;\n",
              "      fill: #1967D2;\n",
              "      height: 32px;\n",
              "      padding: 0 0 0 0;\n",
              "      width: 32px;\n",
              "    }\n",
              "\n",
              "    .colab-df-convert:hover {\n",
              "      background-color: #E2EBFA;\n",
              "      box-shadow: 0px 1px 2px rgba(60, 64, 67, 0.3), 0px 1px 3px 1px rgba(60, 64, 67, 0.15);\n",
              "      fill: #174EA6;\n",
              "    }\n",
              "\n",
              "    [theme=dark] .colab-df-convert {\n",
              "      background-color: #3B4455;\n",
              "      fill: #D2E3FC;\n",
              "    }\n",
              "\n",
              "    [theme=dark] .colab-df-convert:hover {\n",
              "      background-color: #434B5C;\n",
              "      box-shadow: 0px 1px 3px 1px rgba(0, 0, 0, 0.15);\n",
              "      filter: drop-shadow(0px 1px 2px rgba(0, 0, 0, 0.3));\n",
              "      fill: #FFFFFF;\n",
              "    }\n",
              "  </style>\n",
              "\n",
              "      <script>\n",
              "        const buttonEl =\n",
              "          document.querySelector('#df-1ff1777a-78ce-4c43-841a-58de4c1a6b14 button.colab-df-convert');\n",
              "        buttonEl.style.display =\n",
              "          google.colab.kernel.accessAllowed ? 'block' : 'none';\n",
              "\n",
              "        async function convertToInteractive(key) {\n",
              "          const element = document.querySelector('#df-1ff1777a-78ce-4c43-841a-58de4c1a6b14');\n",
              "          const dataTable =\n",
              "            await google.colab.kernel.invokeFunction('convertToInteractive',\n",
              "                                                     [key], {});\n",
              "          if (!dataTable) return;\n",
              "\n",
              "          const docLinkHtml = 'Like what you see? Visit the ' +\n",
              "            '<a target=\"_blank\" href=https://colab.research.google.com/notebooks/data_table.ipynb>data table notebook</a>'\n",
              "            + ' to learn more about interactive tables.';\n",
              "          element.innerHTML = '';\n",
              "          dataTable['output_type'] = 'display_data';\n",
              "          await google.colab.output.renderOutput(dataTable, element);\n",
              "          const docLink = document.createElement('div');\n",
              "          docLink.innerHTML = docLinkHtml;\n",
              "          element.appendChild(docLink);\n",
              "        }\n",
              "      </script>\n",
              "    </div>\n",
              "  </div>\n",
              "  "
            ],
            "text/plain": [
              "            kind  ...                                         statistics\n",
              "0  youtube#video  ...  {'viewCount': '20155', 'likeCount': '764', 'fa...\n",
              "1  youtube#video  ...  {'viewCount': '46146', 'likeCount': '1685', 'f...\n",
              "2  youtube#video  ...  {'viewCount': '736223', 'likeCount': '26527', ...\n",
              "3  youtube#video  ...  {'viewCount': '49902', 'likeCount': '1486', 'f...\n",
              "4  youtube#video  ...  {'viewCount': '228924', 'likeCount': '5724', '...\n",
              "\n",
              "[5 rows x 6 columns]"
            ]
          },
          "metadata": {},
          "execution_count": 4
        }
      ]
    },
    {
      "cell_type": "code",
      "source": [
        "df.info()"
      ],
      "metadata": {
        "colab": {
          "base_uri": "https://localhost:8080/"
        },
        "id": "0aG6cdRMLzav",
        "outputId": "f2283841-d822-4424-942b-8c1e4917f5d0"
      },
      "execution_count": 5,
      "outputs": [
        {
          "output_type": "stream",
          "name": "stdout",
          "text": [
            "<class 'pandas.core.frame.DataFrame'>\n",
            "RangeIndex: 5723 entries, 0 to 5722\n",
            "Data columns (total 6 columns):\n",
            " #   Column          Non-Null Count  Dtype \n",
            "---  ------          --------------  ----- \n",
            " 0   kind            5723 non-null   object\n",
            " 1   etag            5723 non-null   object\n",
            " 2   id              5723 non-null   object\n",
            " 3   snippet         5723 non-null   object\n",
            " 4   contentDetails  5723 non-null   object\n",
            " 5   statistics      5723 non-null   object\n",
            "dtypes: object(6)\n",
            "memory usage: 268.4+ KB\n"
          ]
        }
      ]
    },
    {
      "cell_type": "code",
      "source": [
        "df = df.drop(columns=['etag', 'kind'])"
      ],
      "metadata": {
        "id": "Qa-xZ-VtXIS7"
      },
      "execution_count": 6,
      "outputs": []
    },
    {
      "cell_type": "markdown",
      "source": [
        "<h5 align='right'>Select Desired Subcolumns</h5>\n",
        "<hr color='f47b0a'>"
      ],
      "metadata": {
        "id": "zWHpSbupf-8y"
      }
    },
    {
      "cell_type": "code",
      "source": [
        "df['snippet'][999]"
      ],
      "metadata": {
        "colab": {
          "base_uri": "https://localhost:8080/"
        },
        "id": "D8E7zqY2MG2x",
        "outputId": "bc29d93f-85b3-4557-a0e8-3027fe0ff2d2"
      },
      "execution_count": null,
      "outputs": [
        {
          "output_type": "execute_result",
          "data": {
            "text/plain": [
              "{'categoryId': '17',\n",
              " 'channelId': 'UCblfuW_4rakIf2h6aqANefA',\n",
              " 'channelTitle': 'Red Bull',\n",
              " 'defaultAudioLanguage': 'en',\n",
              " 'description': '►Watch the full episode here: http://win.gs/WayPastMidnightEp2\\nGnarpark founder Harvey Brown gives a rundown of the origins of his famous late night bicycle race and how it\\'s become a welcoming community of sleepless cyclists all over London. It\\'s fast and furious fixed gear action that anyone can join. \\n_\\n\\nExperience the world of Red Bull like you have never seen it before. With the best action sports clips on the web and original series, prepare for your \"stoke factor\" to be at an all time high.\\n\\nWatch Red Bull TV: http://win.gs/WatchRBTV\\n\\nSee into our world: http://goo.gl/J49U\\n\\nRed Bull on Facebook: http://win.gs/redbullfb\\n\\nRed Bull on Twitter: http://win.gs/redbulltwitter\\n\\nSubscribe to Red Bull on Youtube: http://win.gs/SubToRedBull\\n\\nSubscribe to the Red Bulletin: http://win.gs/TheRedBulletin\\n\\nSign up for our Newsletter here: http://win.gs/RedBullNewsletter',\n",
              " 'liveBroadcastContent': 'none',\n",
              " 'localized': {'description': '►Watch the full episode here: http://win.gs/WayPastMidnightEp2\\nGnarpark founder Harvey Brown gives a rundown of the origins of his famous late night bicycle race and how it\\'s become a welcoming community of sleepless cyclists all over London. It\\'s fast and furious fixed gear action that anyone can join. \\n_\\n\\nExperience the world of Red Bull like you have never seen it before. With the best action sports clips on the web and original series, prepare for your \"stoke factor\" to be at an all time high.\\n\\nWatch Red Bull TV: http://win.gs/WatchRBTV\\n\\nSee into our world: http://goo.gl/J49U\\n\\nRed Bull on Facebook: http://win.gs/redbullfb\\n\\nRed Bull on Twitter: http://win.gs/redbulltwitter\\n\\nSubscribe to Red Bull on Youtube: http://win.gs/SubToRedBull\\n\\nSubscribe to the Red Bulletin: http://win.gs/TheRedBulletin\\n\\nSign up for our Newsletter here: http://win.gs/RedBullNewsletter',\n",
              "  'title': 'Gnarpark: Fixed Gear Car Park Racing | Way Past Midnight'},\n",
              " 'publishedAt': '2017-04-07T15:00:04Z',\n",
              " 'tags': ['red bull',\n",
              "  'redbull',\n",
              "  'action sports',\n",
              "  'extreme sports',\n",
              "  'anatomy of an experience',\n",
              "  'experience',\n",
              "  'nightlife',\n",
              "  'New York City',\n",
              "  'city life',\n",
              "  'city',\n",
              "  'fixie racing',\n",
              "  'bike racing',\n",
              "  'cycle',\n",
              "  'cyclists',\n",
              "  'Way Past Midnight',\n",
              "  'Red Bull TV',\n",
              "  'car park',\n",
              "  'London',\n",
              "  'parking garage racing',\n",
              "  'parking garage',\n",
              "  'race',\n",
              "  'bicycle racing',\n",
              "  'fixed gear',\n",
              "  'fixed gear racing'],\n",
              " 'thumbnails': {'default': {'height': 90,\n",
              "   'url': 'https://i.ytimg.com/vi/l-rzCRVbF4c/default.jpg',\n",
              "   'width': 120},\n",
              "  'high': {'height': 360,\n",
              "   'url': 'https://i.ytimg.com/vi/l-rzCRVbF4c/hqdefault.jpg',\n",
              "   'width': 480},\n",
              "  'maxres': {'height': 720,\n",
              "   'url': 'https://i.ytimg.com/vi/l-rzCRVbF4c/maxresdefault.jpg',\n",
              "   'width': 1280},\n",
              "  'medium': {'height': 180,\n",
              "   'url': 'https://i.ytimg.com/vi/l-rzCRVbF4c/mqdefault.jpg',\n",
              "   'width': 320},\n",
              "  'standard': {'height': 480,\n",
              "   'url': 'https://i.ytimg.com/vi/l-rzCRVbF4c/sddefault.jpg',\n",
              "   'width': 640}},\n",
              " 'title': 'Gnarpark: Fixed Gear Car Park Racing | Way Past Midnight'}"
            ]
          },
          "metadata": {},
          "execution_count": 7
        }
      ]
    },
    {
      "cell_type": "code",
      "source": [
        "mask = df['snippet'].apply(pd.Series)\n",
        "df['defaultAudioLanguage'] = mask['defaultAudioLanguage']\n",
        "df['title'] = mask['title']\n",
        "df['publishedAt']= mask['publishedAt']\n",
        "df['tags'] = mask['tags']\n",
        "df.head()"
      ],
      "metadata": {
        "id": "Ja_9g4v1Wr4x"
      },
      "execution_count": null,
      "outputs": []
    },
    {
      "cell_type": "code",
      "source": [
        "df['tags']= pd.Series(df['tags'], dtype=\"string\")\n",
        "df['tags']=df['tags'].fillna('None')\n",
        "df['tagsCount'] = df['tags'].apply(lambda x: len(x.split()))\n",
        "df = df.drop(columns=['snippet'])\n",
        "print(df['tags'][2])\n",
        "print(df['tagsCount'][2])"
      ],
      "metadata": {
        "colab": {
          "base_uri": "https://localhost:8080/"
        },
        "id": "o6Nr8Qn-XnXu",
        "outputId": "6d910ace-cf70-4742-8c41-8c13aaebe834"
      },
      "execution_count": 44,
      "outputs": [
        {
          "output_type": "stream",
          "name": "stdout",
          "text": [
            "['red bull', 'redbull', 'action sports', 'extreme sports', 'sport videos', 'action', 'sport', 'Max Verstappen', 'max', 'vertappen', 'formula 1', 'formula one', 'f1', 'f1 car', 'f1 car on ice', 'red bull racing', 'ice', 'snow', 'ice track', 'spiked tyres', 'tires', 'tyres', 'pirelli', 'grand prix', 'grand prix ice race', 'GP', 'speedway', 'ice speedway', 'speedway racing', 'race', 'racing', 'motorbike', 'motobike', 'motorcycle', 'driving on ice', 'drive on ice', 'drive on snow', 'race on snow', 'race on ice', 'ice race', 'gp ice race', 'Franky Zorn', 'austria', 'f1 2022']\n",
            "80\n"
          ]
        }
      ]
    },
    {
      "cell_type": "code",
      "source": [
        "df['statistics'][999]"
      ],
      "metadata": {
        "colab": {
          "base_uri": "https://localhost:8080/"
        },
        "id": "6-eD4Uw8Vpzl",
        "outputId": "9460c5f2-9a2f-4359-dbf7-c6f10f866211"
      },
      "execution_count": 45,
      "outputs": [
        {
          "output_type": "execute_result",
          "data": {
            "text/plain": [
              "{'commentCount': '49',\n",
              " 'favoriteCount': '0',\n",
              " 'likeCount': '1404',\n",
              " 'viewCount': '104965'}"
            ]
          },
          "metadata": {},
          "execution_count": 45
        }
      ]
    },
    {
      "cell_type": "code",
      "source": [
        "mask2 = df['statistics'].apply(pd.Series)\n",
        "df['commentCount'] = mask2['commentCount']\n",
        "df['favoriteCount'] = mask2['favoriteCount']\n",
        "df['likeCount'] = mask2['likeCount']\n",
        "df['viewCount'] = mask2['viewCount']\n",
        "df= df.drop(columns=['statistics'])\n",
        "df.head()"
      ],
      "metadata": {
        "colab": {
          "base_uri": "https://localhost:8080/",
          "height": 600
        },
        "id": "k8xNRMxzX8Dm",
        "outputId": "e03c588c-0b64-4f13-9064-15611912d4c6"
      },
      "execution_count": 46,
      "outputs": [
        {
          "output_type": "execute_result",
          "data": {
            "text/html": [
              "\n",
              "  <div id=\"df-6cca2bf7-b635-42b3-bfde-4bced666ea1c\">\n",
              "    <div class=\"colab-df-container\">\n",
              "      <div>\n",
              "<style scoped>\n",
              "    .dataframe tbody tr th:only-of-type {\n",
              "        vertical-align: middle;\n",
              "    }\n",
              "\n",
              "    .dataframe tbody tr th {\n",
              "        vertical-align: top;\n",
              "    }\n",
              "\n",
              "    .dataframe thead th {\n",
              "        text-align: right;\n",
              "    }\n",
              "</style>\n",
              "<table border=\"1\" class=\"dataframe\">\n",
              "  <thead>\n",
              "    <tr style=\"text-align: right;\">\n",
              "      <th></th>\n",
              "      <th>kind</th>\n",
              "      <th>etag</th>\n",
              "      <th>id</th>\n",
              "      <th>snippet</th>\n",
              "      <th>contentDetails</th>\n",
              "      <th>defaultAudioLanguage</th>\n",
              "      <th>title</th>\n",
              "      <th>publishedAt</th>\n",
              "      <th>tags</th>\n",
              "      <th>tagsCount</th>\n",
              "      <th>commentCount</th>\n",
              "      <th>favoriteCount</th>\n",
              "      <th>likeCount</th>\n",
              "      <th>viewCount</th>\n",
              "    </tr>\n",
              "  </thead>\n",
              "  <tbody>\n",
              "    <tr>\n",
              "      <th>0</th>\n",
              "      <td>youtube#video</td>\n",
              "      <td>BMiuxV0EaQe68H2Q-FTv5h7L384</td>\n",
              "      <td>xsPlB4WAmRc</td>\n",
              "      <td>{'publishedAt': '2022-02-09T17:15:40Z', 'chann...</td>\n",
              "      <td>{'duration': 'PT22S', 'dimension': '2d', 'defi...</td>\n",
              "      <td>en</td>\n",
              "      <td>timbersports training is wild 🪚 🪓</td>\n",
              "      <td>2022-02-09T17:15:40Z</td>\n",
              "      <td>None</td>\n",
              "      <td>1</td>\n",
              "      <td>15</td>\n",
              "      <td>0</td>\n",
              "      <td>764</td>\n",
              "      <td>20155</td>\n",
              "    </tr>\n",
              "    <tr>\n",
              "      <th>1</th>\n",
              "      <td>youtube#video</td>\n",
              "      <td>cDx9EEKQ_Awdx5zsfhlV9eEluMc</td>\n",
              "      <td>q-r6V_PgtcY</td>\n",
              "      <td>{'publishedAt': '2022-02-07T15:00:36Z', 'chann...</td>\n",
              "      <td>{'duration': 'PT6M56S', 'dimension': '2d', 'de...</td>\n",
              "      <td>en</td>\n",
              "      <td>Jet Boats For Breakfast &amp; Backcountry Sled Lau...</td>\n",
              "      <td>2022-02-07T15:00:36Z</td>\n",
              "      <td>['red bull', 'redbull', 'action sports', 'extr...</td>\n",
              "      <td>63</td>\n",
              "      <td>82</td>\n",
              "      <td>0</td>\n",
              "      <td>1685</td>\n",
              "      <td>46146</td>\n",
              "    </tr>\n",
              "    <tr>\n",
              "      <th>2</th>\n",
              "      <td>youtube#video</td>\n",
              "      <td>5WbCTsDJP88YP7ZFOTA5VyqzzjA</td>\n",
              "      <td>jxe870HmYBE</td>\n",
              "      <td>{'publishedAt': '2022-02-03T13:29:23Z', 'chann...</td>\n",
              "      <td>{'duration': 'PT2M6S', 'dimension': '2d', 'def...</td>\n",
              "      <td>en</td>\n",
              "      <td>Max Verstappen’s Icy Pre-Season Fun: Driving A...</td>\n",
              "      <td>2022-02-03T13:29:23Z</td>\n",
              "      <td>['red bull', 'redbull', 'action sports', 'extr...</td>\n",
              "      <td>80</td>\n",
              "      <td>1065</td>\n",
              "      <td>0</td>\n",
              "      <td>26527</td>\n",
              "      <td>736223</td>\n",
              "    </tr>\n",
              "    <tr>\n",
              "      <th>3</th>\n",
              "      <td>youtube#video</td>\n",
              "      <td>l8qUCiS7o06iMgAakD9mBmIU3DY</td>\n",
              "      <td>yxVOownOSRs</td>\n",
              "      <td>{'publishedAt': '2022-02-01T17:09:05Z', 'chann...</td>\n",
              "      <td>{'duration': 'PT25S', 'dimension': '2d', 'defi...</td>\n",
              "      <td>en</td>\n",
              "      <td>which runner are you? 🏃‍♀️</td>\n",
              "      <td>2022-02-01T17:09:05Z</td>\n",
              "      <td>None</td>\n",
              "      <td>1</td>\n",
              "      <td>61</td>\n",
              "      <td>0</td>\n",
              "      <td>1486</td>\n",
              "      <td>49902</td>\n",
              "    </tr>\n",
              "    <tr>\n",
              "      <th>4</th>\n",
              "      <td>youtube#video</td>\n",
              "      <td>Jz-MAsGwkAktqaA3N6EvpW_d1N8</td>\n",
              "      <td>3-yglCSCPng</td>\n",
              "      <td>{'publishedAt': '2022-01-14T13:00:01Z', 'chann...</td>\n",
              "      <td>{'duration': 'PT22S', 'dimension': '2d', 'defi...</td>\n",
              "      <td>en</td>\n",
              "      <td>incredible skiing skills that just look ✨ casu...</td>\n",
              "      <td>2022-01-14T13:00:01Z</td>\n",
              "      <td>None</td>\n",
              "      <td>1</td>\n",
              "      <td>43</td>\n",
              "      <td>0</td>\n",
              "      <td>5724</td>\n",
              "      <td>228924</td>\n",
              "    </tr>\n",
              "  </tbody>\n",
              "</table>\n",
              "</div>\n",
              "      <button class=\"colab-df-convert\" onclick=\"convertToInteractive('df-6cca2bf7-b635-42b3-bfde-4bced666ea1c')\"\n",
              "              title=\"Convert this dataframe to an interactive table.\"\n",
              "              style=\"display:none;\">\n",
              "        \n",
              "  <svg xmlns=\"http://www.w3.org/2000/svg\" height=\"24px\"viewBox=\"0 0 24 24\"\n",
              "       width=\"24px\">\n",
              "    <path d=\"M0 0h24v24H0V0z\" fill=\"none\"/>\n",
              "    <path d=\"M18.56 5.44l.94 2.06.94-2.06 2.06-.94-2.06-.94-.94-2.06-.94 2.06-2.06.94zm-11 1L8.5 8.5l.94-2.06 2.06-.94-2.06-.94L8.5 2.5l-.94 2.06-2.06.94zm10 10l.94 2.06.94-2.06 2.06-.94-2.06-.94-.94-2.06-.94 2.06-2.06.94z\"/><path d=\"M17.41 7.96l-1.37-1.37c-.4-.4-.92-.59-1.43-.59-.52 0-1.04.2-1.43.59L10.3 9.45l-7.72 7.72c-.78.78-.78 2.05 0 2.83L4 21.41c.39.39.9.59 1.41.59.51 0 1.02-.2 1.41-.59l7.78-7.78 2.81-2.81c.8-.78.8-2.07 0-2.86zM5.41 20L4 18.59l7.72-7.72 1.47 1.35L5.41 20z\"/>\n",
              "  </svg>\n",
              "      </button>\n",
              "      \n",
              "  <style>\n",
              "    .colab-df-container {\n",
              "      display:flex;\n",
              "      flex-wrap:wrap;\n",
              "      gap: 12px;\n",
              "    }\n",
              "\n",
              "    .colab-df-convert {\n",
              "      background-color: #E8F0FE;\n",
              "      border: none;\n",
              "      border-radius: 50%;\n",
              "      cursor: pointer;\n",
              "      display: none;\n",
              "      fill: #1967D2;\n",
              "      height: 32px;\n",
              "      padding: 0 0 0 0;\n",
              "      width: 32px;\n",
              "    }\n",
              "\n",
              "    .colab-df-convert:hover {\n",
              "      background-color: #E2EBFA;\n",
              "      box-shadow: 0px 1px 2px rgba(60, 64, 67, 0.3), 0px 1px 3px 1px rgba(60, 64, 67, 0.15);\n",
              "      fill: #174EA6;\n",
              "    }\n",
              "\n",
              "    [theme=dark] .colab-df-convert {\n",
              "      background-color: #3B4455;\n",
              "      fill: #D2E3FC;\n",
              "    }\n",
              "\n",
              "    [theme=dark] .colab-df-convert:hover {\n",
              "      background-color: #434B5C;\n",
              "      box-shadow: 0px 1px 3px 1px rgba(0, 0, 0, 0.15);\n",
              "      filter: drop-shadow(0px 1px 2px rgba(0, 0, 0, 0.3));\n",
              "      fill: #FFFFFF;\n",
              "    }\n",
              "  </style>\n",
              "\n",
              "      <script>\n",
              "        const buttonEl =\n",
              "          document.querySelector('#df-6cca2bf7-b635-42b3-bfde-4bced666ea1c button.colab-df-convert');\n",
              "        buttonEl.style.display =\n",
              "          google.colab.kernel.accessAllowed ? 'block' : 'none';\n",
              "\n",
              "        async function convertToInteractive(key) {\n",
              "          const element = document.querySelector('#df-6cca2bf7-b635-42b3-bfde-4bced666ea1c');\n",
              "          const dataTable =\n",
              "            await google.colab.kernel.invokeFunction('convertToInteractive',\n",
              "                                                     [key], {});\n",
              "          if (!dataTable) return;\n",
              "\n",
              "          const docLinkHtml = 'Like what you see? Visit the ' +\n",
              "            '<a target=\"_blank\" href=https://colab.research.google.com/notebooks/data_table.ipynb>data table notebook</a>'\n",
              "            + ' to learn more about interactive tables.';\n",
              "          element.innerHTML = '';\n",
              "          dataTable['output_type'] = 'display_data';\n",
              "          await google.colab.output.renderOutput(dataTable, element);\n",
              "          const docLink = document.createElement('div');\n",
              "          docLink.innerHTML = docLinkHtml;\n",
              "          element.appendChild(docLink);\n",
              "        }\n",
              "      </script>\n",
              "    </div>\n",
              "  </div>\n",
              "  "
            ],
            "text/plain": [
              "            kind                         etag  ... likeCount viewCount\n",
              "0  youtube#video  BMiuxV0EaQe68H2Q-FTv5h7L384  ...       764     20155\n",
              "1  youtube#video  cDx9EEKQ_Awdx5zsfhlV9eEluMc  ...      1685     46146\n",
              "2  youtube#video  5WbCTsDJP88YP7ZFOTA5VyqzzjA  ...     26527    736223\n",
              "3  youtube#video  l8qUCiS7o06iMgAakD9mBmIU3DY  ...      1486     49902\n",
              "4  youtube#video  Jz-MAsGwkAktqaA3N6EvpW_d1N8  ...      5724    228924\n",
              "\n",
              "[5 rows x 14 columns]"
            ]
          },
          "metadata": {},
          "execution_count": 46
        }
      ]
    },
    {
      "cell_type": "code",
      "source": [
        "df['contentDetails'][0]"
      ],
      "metadata": {
        "colab": {
          "base_uri": "https://localhost:8080/"
        },
        "id": "rmjO63haWH52",
        "outputId": "166011b6-4b9e-4714-be02-cf700a3885d0"
      },
      "execution_count": 10,
      "outputs": [
        {
          "output_type": "execute_result",
          "data": {
            "text/plain": [
              "{'caption': 'false',\n",
              " 'contentRating': {},\n",
              " 'definition': 'hd',\n",
              " 'dimension': '2d',\n",
              " 'duration': 'PT22S',\n",
              " 'licensedContent': False,\n",
              " 'projection': 'rectangular'}"
            ]
          },
          "metadata": {},
          "execution_count": 10
        }
      ]
    },
    {
      "cell_type": "code",
      "source": [
        "mask3 = df['contentDetails'].apply(pd.Series)\n",
        "df['definition'] = mask3['definition']\n",
        "df['duration'] = mask3['duration']\n",
        "df= df.drop(columns=['contentDetails'])"
      ],
      "metadata": {
        "id": "Dm4bYd56WkMt"
      },
      "execution_count": 11,
      "outputs": []
    },
    {
      "cell_type": "code",
      "source": [
        "df.head()"
      ],
      "metadata": {
        "colab": {
          "base_uri": "https://localhost:8080/",
          "height": 600
        },
        "id": "3Urdfb9nZJLu",
        "outputId": "e4922e70-e906-4da4-94b5-4a9235f94102"
      },
      "execution_count": 32,
      "outputs": [
        {
          "output_type": "execute_result",
          "data": {
            "text/html": [
              "\n",
              "  <div id=\"df-6a0fd0b3-9d66-4e98-8614-c35b35954fd5\">\n",
              "    <div class=\"colab-df-container\">\n",
              "      <div>\n",
              "<style scoped>\n",
              "    .dataframe tbody tr th:only-of-type {\n",
              "        vertical-align: middle;\n",
              "    }\n",
              "\n",
              "    .dataframe tbody tr th {\n",
              "        vertical-align: top;\n",
              "    }\n",
              "\n",
              "    .dataframe thead th {\n",
              "        text-align: right;\n",
              "    }\n",
              "</style>\n",
              "<table border=\"1\" class=\"dataframe\">\n",
              "  <thead>\n",
              "    <tr style=\"text-align: right;\">\n",
              "      <th></th>\n",
              "      <th>id</th>\n",
              "      <th>snippet</th>\n",
              "      <th>defaultAudioLanguage</th>\n",
              "      <th>title</th>\n",
              "      <th>publishedAt</th>\n",
              "      <th>tags</th>\n",
              "      <th>commentCount</th>\n",
              "      <th>favoriteCount</th>\n",
              "      <th>likeCount</th>\n",
              "      <th>viewCount</th>\n",
              "      <th>definition</th>\n",
              "      <th>duration</th>\n",
              "      <th>tagsCount</th>\n",
              "    </tr>\n",
              "  </thead>\n",
              "  <tbody>\n",
              "    <tr>\n",
              "      <th>0</th>\n",
              "      <td>xsPlB4WAmRc</td>\n",
              "      <td>{'publishedAt': '2022-02-09T17:15:40Z', 'chann...</td>\n",
              "      <td>en</td>\n",
              "      <td>timbersports training is wild 🪚 🪓</td>\n",
              "      <td>2022-02-09T17:15:40Z</td>\n",
              "      <td>None</td>\n",
              "      <td>15</td>\n",
              "      <td>0</td>\n",
              "      <td>764</td>\n",
              "      <td>20155</td>\n",
              "      <td>hd</td>\n",
              "      <td>PT22S</td>\n",
              "      <td>1</td>\n",
              "    </tr>\n",
              "    <tr>\n",
              "      <th>1</th>\n",
              "      <td>q-r6V_PgtcY</td>\n",
              "      <td>{'publishedAt': '2022-02-07T15:00:36Z', 'chann...</td>\n",
              "      <td>en</td>\n",
              "      <td>Jet Boats For Breakfast &amp; Backcountry Sled Lau...</td>\n",
              "      <td>2022-02-07T15:00:36Z</td>\n",
              "      <td>['red bull', 'redbull', 'action sports', 'extr...</td>\n",
              "      <td>82</td>\n",
              "      <td>0</td>\n",
              "      <td>1685</td>\n",
              "      <td>46146</td>\n",
              "      <td>hd</td>\n",
              "      <td>PT6M56S</td>\n",
              "      <td>63</td>\n",
              "    </tr>\n",
              "    <tr>\n",
              "      <th>2</th>\n",
              "      <td>jxe870HmYBE</td>\n",
              "      <td>{'publishedAt': '2022-02-03T13:29:23Z', 'chann...</td>\n",
              "      <td>en</td>\n",
              "      <td>Max Verstappen’s Icy Pre-Season Fun: Driving A...</td>\n",
              "      <td>2022-02-03T13:29:23Z</td>\n",
              "      <td>['red bull', 'redbull', 'action sports', 'extr...</td>\n",
              "      <td>1065</td>\n",
              "      <td>0</td>\n",
              "      <td>26527</td>\n",
              "      <td>736223</td>\n",
              "      <td>hd</td>\n",
              "      <td>PT2M6S</td>\n",
              "      <td>80</td>\n",
              "    </tr>\n",
              "    <tr>\n",
              "      <th>3</th>\n",
              "      <td>yxVOownOSRs</td>\n",
              "      <td>{'publishedAt': '2022-02-01T17:09:05Z', 'chann...</td>\n",
              "      <td>en</td>\n",
              "      <td>which runner are you? 🏃‍♀️</td>\n",
              "      <td>2022-02-01T17:09:05Z</td>\n",
              "      <td>None</td>\n",
              "      <td>61</td>\n",
              "      <td>0</td>\n",
              "      <td>1486</td>\n",
              "      <td>49902</td>\n",
              "      <td>hd</td>\n",
              "      <td>PT25S</td>\n",
              "      <td>1</td>\n",
              "    </tr>\n",
              "    <tr>\n",
              "      <th>4</th>\n",
              "      <td>3-yglCSCPng</td>\n",
              "      <td>{'publishedAt': '2022-01-14T13:00:01Z', 'chann...</td>\n",
              "      <td>en</td>\n",
              "      <td>incredible skiing skills that just look ✨ casu...</td>\n",
              "      <td>2022-01-14T13:00:01Z</td>\n",
              "      <td>None</td>\n",
              "      <td>43</td>\n",
              "      <td>0</td>\n",
              "      <td>5724</td>\n",
              "      <td>228924</td>\n",
              "      <td>hd</td>\n",
              "      <td>PT22S</td>\n",
              "      <td>1</td>\n",
              "    </tr>\n",
              "  </tbody>\n",
              "</table>\n",
              "</div>\n",
              "      <button class=\"colab-df-convert\" onclick=\"convertToInteractive('df-6a0fd0b3-9d66-4e98-8614-c35b35954fd5')\"\n",
              "              title=\"Convert this dataframe to an interactive table.\"\n",
              "              style=\"display:none;\">\n",
              "        \n",
              "  <svg xmlns=\"http://www.w3.org/2000/svg\" height=\"24px\"viewBox=\"0 0 24 24\"\n",
              "       width=\"24px\">\n",
              "    <path d=\"M0 0h24v24H0V0z\" fill=\"none\"/>\n",
              "    <path d=\"M18.56 5.44l.94 2.06.94-2.06 2.06-.94-2.06-.94-.94-2.06-.94 2.06-2.06.94zm-11 1L8.5 8.5l.94-2.06 2.06-.94-2.06-.94L8.5 2.5l-.94 2.06-2.06.94zm10 10l.94 2.06.94-2.06 2.06-.94-2.06-.94-.94-2.06-.94 2.06-2.06.94z\"/><path d=\"M17.41 7.96l-1.37-1.37c-.4-.4-.92-.59-1.43-.59-.52 0-1.04.2-1.43.59L10.3 9.45l-7.72 7.72c-.78.78-.78 2.05 0 2.83L4 21.41c.39.39.9.59 1.41.59.51 0 1.02-.2 1.41-.59l7.78-7.78 2.81-2.81c.8-.78.8-2.07 0-2.86zM5.41 20L4 18.59l7.72-7.72 1.47 1.35L5.41 20z\"/>\n",
              "  </svg>\n",
              "      </button>\n",
              "      \n",
              "  <style>\n",
              "    .colab-df-container {\n",
              "      display:flex;\n",
              "      flex-wrap:wrap;\n",
              "      gap: 12px;\n",
              "    }\n",
              "\n",
              "    .colab-df-convert {\n",
              "      background-color: #E8F0FE;\n",
              "      border: none;\n",
              "      border-radius: 50%;\n",
              "      cursor: pointer;\n",
              "      display: none;\n",
              "      fill: #1967D2;\n",
              "      height: 32px;\n",
              "      padding: 0 0 0 0;\n",
              "      width: 32px;\n",
              "    }\n",
              "\n",
              "    .colab-df-convert:hover {\n",
              "      background-color: #E2EBFA;\n",
              "      box-shadow: 0px 1px 2px rgba(60, 64, 67, 0.3), 0px 1px 3px 1px rgba(60, 64, 67, 0.15);\n",
              "      fill: #174EA6;\n",
              "    }\n",
              "\n",
              "    [theme=dark] .colab-df-convert {\n",
              "      background-color: #3B4455;\n",
              "      fill: #D2E3FC;\n",
              "    }\n",
              "\n",
              "    [theme=dark] .colab-df-convert:hover {\n",
              "      background-color: #434B5C;\n",
              "      box-shadow: 0px 1px 3px 1px rgba(0, 0, 0, 0.15);\n",
              "      filter: drop-shadow(0px 1px 2px rgba(0, 0, 0, 0.3));\n",
              "      fill: #FFFFFF;\n",
              "    }\n",
              "  </style>\n",
              "\n",
              "      <script>\n",
              "        const buttonEl =\n",
              "          document.querySelector('#df-6a0fd0b3-9d66-4e98-8614-c35b35954fd5 button.colab-df-convert');\n",
              "        buttonEl.style.display =\n",
              "          google.colab.kernel.accessAllowed ? 'block' : 'none';\n",
              "\n",
              "        async function convertToInteractive(key) {\n",
              "          const element = document.querySelector('#df-6a0fd0b3-9d66-4e98-8614-c35b35954fd5');\n",
              "          const dataTable =\n",
              "            await google.colab.kernel.invokeFunction('convertToInteractive',\n",
              "                                                     [key], {});\n",
              "          if (!dataTable) return;\n",
              "\n",
              "          const docLinkHtml = 'Like what you see? Visit the ' +\n",
              "            '<a target=\"_blank\" href=https://colab.research.google.com/notebooks/data_table.ipynb>data table notebook</a>'\n",
              "            + ' to learn more about interactive tables.';\n",
              "          element.innerHTML = '';\n",
              "          dataTable['output_type'] = 'display_data';\n",
              "          await google.colab.output.renderOutput(dataTable, element);\n",
              "          const docLink = document.createElement('div');\n",
              "          docLink.innerHTML = docLinkHtml;\n",
              "          element.appendChild(docLink);\n",
              "        }\n",
              "      </script>\n",
              "    </div>\n",
              "  </div>\n",
              "  "
            ],
            "text/plain": [
              "            id  ... tagsCount\n",
              "0  xsPlB4WAmRc  ...         1\n",
              "1  q-r6V_PgtcY  ...        63\n",
              "2  jxe870HmYBE  ...        80\n",
              "3  yxVOownOSRs  ...         1\n",
              "4  3-yglCSCPng  ...         1\n",
              "\n",
              "[5 rows x 13 columns]"
            ]
          },
          "metadata": {},
          "execution_count": 32
        }
      ]
    },
    {
      "cell_type": "markdown",
      "source": [
        "<h5 align='right'>Investigate a null columns e fill the NaN</h5>\n",
        "<hr color='f47b0a'>"
      ],
      "metadata": {
        "id": "NXEVHyXZZvQ1"
      }
    },
    {
      "cell_type": "code",
      "source": [
        "df['favoriteCount'].isnull().value_counts()"
      ],
      "metadata": {
        "colab": {
          "base_uri": "https://localhost:8080/"
        },
        "id": "nIke2KkKgcQh",
        "outputId": "5fc0adab-da23-4687-f40e-c139dfef94fe"
      },
      "execution_count": 47,
      "outputs": [
        {
          "output_type": "execute_result",
          "data": {
            "text/plain": [
              "False    5723\n",
              "Name: favoriteCount, dtype: int64"
            ]
          },
          "metadata": {},
          "execution_count": 47
        }
      ]
    },
    {
      "cell_type": "code",
      "source": [
        "df['favoriteCount'].astype(int).plot()"
      ],
      "metadata": {
        "colab": {
          "base_uri": "https://localhost:8080/",
          "height": 282
        },
        "id": "0V7p9ePxZbht",
        "outputId": "78521a7d-650f-48b3-eb58-447851b48f35"
      },
      "execution_count": 48,
      "outputs": [
        {
          "output_type": "execute_result",
          "data": {
            "text/plain": [
              "<matplotlib.axes._subplots.AxesSubplot at 0x7f4bb40072d0>"
            ]
          },
          "metadata": {},
          "execution_count": 48
        },
        {
          "output_type": "display_data",
          "data": {
            "image/png": "[encoded data removed]",
            "text/plain": [
              "<Figure size 432x288 with 1 Axes>"
            ]
          },
          "metadata": {
            "needs_background": "light"
          }
        }
      ]
    },
    {
      "cell_type": "code",
      "source": [
        "df=df.drop(columns=['favoriteCount'])"
      ],
      "metadata": {
        "id": "IbnmnOcfZkTb"
      },
      "execution_count": 49,
      "outputs": []
    },
    {
      "cell_type": "code",
      "source": [
        "df.isna().value_counts()"
      ],
      "metadata": {
        "colab": {
          "base_uri": "https://localhost:8080/"
        },
        "id": "UsP9qRdtb_1k",
        "outputId": "6326a3a1-c036-4c2b-8a8c-29361d462148"
      },
      "execution_count": 50,
      "outputs": [
        {
          "output_type": "execute_result",
          "data": {
            "text/plain": [
              "kind   etag   id     snippet  contentDetails  defaultAudioLanguage  title  publishedAt  tags   tagsCount  commentCount  likeCount  viewCount\n",
              "False  False  False  False    False           True                  False  False        False  False      False         False      False        3955\n",
              "                                              False                 False  False        False  False      False         False      False        1764\n",
              "                                                                                                          True          False      False           2\n",
              "                                              True                  False  False        False  False      False         True       False           2\n",
              "dtype: int64"
            ]
          },
          "metadata": {},
          "execution_count": 50
        }
      ]
    },
    {
      "cell_type": "code",
      "source": [
        "df=df.fillna(0)"
      ],
      "metadata": {
        "id": "NYkpoOBocNgI"
      },
      "execution_count": 51,
      "outputs": []
    },
    {
      "cell_type": "markdown",
      "source": [
        "<h5 align='right'>Change the data type</h5>\n",
        "<hr color='f47b0a'>"
      ],
      "metadata": {
        "id": "79gdzhllgiDG"
      }
    },
    {
      "cell_type": "code",
      "source": [
        "df['publishedAt'] = pd.to_datetime(df['publishedAt'], infer_datetime_format=True)\n",
        "df['publishedAt'] = df['publishedAt'].dt.tz_localize(None) #to save as excel files\n",
        "df.info()"
      ],
      "metadata": {
        "colab": {
          "base_uri": "https://localhost:8080/"
        },
        "id": "Qj8NLOs7a3vH",
        "outputId": "6330fb50-c47f-4d9f-8162-2e83f6ddb8cd"
      },
      "execution_count": 52,
      "outputs": [
        {
          "output_type": "stream",
          "name": "stdout",
          "text": [
            "<class 'pandas.core.frame.DataFrame'>\n",
            "RangeIndex: 5723 entries, 0 to 5722\n",
            "Data columns (total 13 columns):\n",
            " #   Column                Non-Null Count  Dtype         \n",
            "---  ------                --------------  -----         \n",
            " 0   kind                  5723 non-null   object        \n",
            " 1   etag                  5723 non-null   object        \n",
            " 2   id                    5723 non-null   object        \n",
            " 3   snippet               5723 non-null   object        \n",
            " 4   contentDetails        5723 non-null   object        \n",
            " 5   defaultAudioLanguage  5723 non-null   object        \n",
            " 6   title                 5723 non-null   object        \n",
            " 7   publishedAt           5723 non-null   datetime64[ns]\n",
            " 8   tags                  5723 non-null   string        \n",
            " 9   tagsCount             5723 non-null   int64         \n",
            " 10  commentCount          5723 non-null   object        \n",
            " 11  likeCount             5723 non-null   object        \n",
            " 12  viewCount             5723 non-null   object        \n",
            "dtypes: datetime64[ns](1), int64(1), object(10), string(1)\n",
            "memory usage: 581.4+ KB\n"
          ]
        }
      ]
    },
    {
      "cell_type": "code",
      "source": [
        "df['likeCount'] = df['likeCount'].astype(int)\n",
        "df['commentCount'] =df['commentCount'].astype(int)\n",
        "df['viewCount'] =df['viewCount'].astype(int)\n",
        "df.info() \n"
      ],
      "metadata": {
        "colab": {
          "base_uri": "https://localhost:8080/"
        },
        "id": "rb29UpuqbBnv",
        "outputId": "6ebb0fa4-2db3-4936-e614-7eeb5ac0cce0"
      },
      "execution_count": 53,
      "outputs": [
        {
          "output_type": "stream",
          "name": "stdout",
          "text": [
            "<class 'pandas.core.frame.DataFrame'>\n",
            "RangeIndex: 5723 entries, 0 to 5722\n",
            "Data columns (total 13 columns):\n",
            " #   Column                Non-Null Count  Dtype         \n",
            "---  ------                --------------  -----         \n",
            " 0   kind                  5723 non-null   object        \n",
            " 1   etag                  5723 non-null   object        \n",
            " 2   id                    5723 non-null   object        \n",
            " 3   snippet               5723 non-null   object        \n",
            " 4   contentDetails        5723 non-null   object        \n",
            " 5   defaultAudioLanguage  5723 non-null   object        \n",
            " 6   title                 5723 non-null   object        \n",
            " 7   publishedAt           5723 non-null   datetime64[ns]\n",
            " 8   tags                  5723 non-null   string        \n",
            " 9   tagsCount             5723 non-null   int64         \n",
            " 10  commentCount          5723 non-null   int64         \n",
            " 11  likeCount             5723 non-null   int64         \n",
            " 12  viewCount             5723 non-null   int64         \n",
            "dtypes: datetime64[ns](1), int64(4), object(7), string(1)\n",
            "memory usage: 581.4+ KB\n"
          ]
        }
      ]
    },
    {
      "cell_type": "code",
      "source": [
        "df['title']= pd.Series(df['title'], dtype=\"string\")\n"
      ],
      "metadata": {
        "id": "dcnWDutxy8Z2"
      },
      "execution_count": 54,
      "outputs": []
    },
    {
      "cell_type": "code",
      "source": [
        "df['title'][0]"
      ],
      "metadata": {
        "colab": {
          "base_uri": "https://localhost:8080/",
          "height": 35
        },
        "id": "H_CZZTXa0U7T",
        "outputId": "8bc5c8c4-61dc-4dc7-dffe-5ef36abf3eb3"
      },
      "execution_count": 55,
      "outputs": [
        {
          "output_type": "execute_result",
          "data": {
            "application/vnd.google.colaboratory.intrinsic+json": {
              "type": "string"
            },
            "text/plain": [
              "'timbersports training is wild \\U0001fa9a \\U0001fa93'"
            ]
          },
          "metadata": {},
          "execution_count": 55
        }
      ]
    },
    {
      "cell_type": "markdown",
      "source": [
        "<h5 align='right'>Save the new dataset</h5>\n",
        "<hr color='f47b0a'>"
      ],
      "metadata": {
        "id": "rnDEeNEUgy-d"
      }
    },
    {
      "cell_type": "code",
      "source": [
        "df.to_excel(r'/content/drive/MyDrive/Colab Notebooks/video_data_clean.xlsx',\n",
        "            index = False, header=True)\n"
      ],
      "metadata": {
        "id": "S2kMpNYbbDin"
      },
      "execution_count": 56,
      "outputs": []
    }
  ]
}