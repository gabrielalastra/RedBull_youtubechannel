{
  "nbformat": 4,
  "nbformat_minor": 0,
  "metadata": {
    "colab": {
      "name": "data_collection_and_storage.ipynb",
      "provenance": [],
      "mount_file_id": "1WdZe_IjfMBCZGdfaTIv21oMIpZ1NNmML",
      "authorship_tag": "ABX9TyM90Ztni/w+Hh39NQfQHNIp"
    },
    "kernelspec": {
      "name": "python3",
      "display_name": "Python 3"
    },
    "language_info": {
      "name": "python"
    }
  },
  "cells": [
    {
      "cell_type": "code",
      "execution_count": null,
      "metadata": {
        "id": "6NIUhIyOuOEj"
      },
      "outputs": [],
      "source": [
        "!pip install --upgrade google-api-python-client"
      ]
    },
    {
      "cell_type": "code",
      "source": [
        "from googleapiclient.discovery import build"
      ],
      "metadata": {
        "id": "Kue7nfEruRAH"
      },
      "execution_count": 2,
      "outputs": []
    },
    {
      "cell_type": "code",
      "source": [
        "import json"
      ],
      "metadata": {
        "id": "bYxgm2GgualN"
      },
      "execution_count": 78,
      "outputs": []
    },
    {
      "cell_type": "markdown",
      "source": [
        "<h5 align='right'>Youtube API Keys and Authorization</h5>\n",
        "<hr color='f47b0a'>"
      ],
      "metadata": {
        "id": "AqxQGOWkIVVT"
      }
    },
    {
      "cell_type": "code",
      "source": [
        "apikey='XXXX'"
      ],
      "metadata": {
        "id": "WqYCiBYgugJ-"
      },
      "execution_count": 16,
      "outputs": []
    },
    {
      "cell_type": "code",
      "source": [
        "ytb=build('youtube', 'v3', developerKey=apikey)\n"
      ],
      "metadata": {
        "id": "2osDEq3HuiaD"
      },
      "execution_count": 17,
      "outputs": []
    },
    {
      "cell_type": "markdown",
      "source": [
        "<h5 align='right'>Selecting the RedBull channel</h5>\n",
        "<hr color='f47b0a'>"
      ],
      "metadata": {
        "id": "3sne1BaVItir"
      }
    },
    {
      "cell_type": "code",
      "source": [
        "channel_id='UCblfuW_4rakIf2h6aqANefA'\n",
        "channel_name = 'RedBull'"
      ],
      "metadata": {
        "id": "5zfx5bdBumEV"
      },
      "execution_count": 18,
      "outputs": []
    },
    {
      "cell_type": "markdown",
      "source": [
        "<h5 align='right'>Collecting information</h5>\n",
        "<hr color='f47b0a'>"
      ],
      "metadata": {
        "id": "5nDZQTN6I1Ho"
      }
    },
    {
      "cell_type": "code",
      "source": [
        "def get_info(ytb, channel_id):\n",
        "  req = ytb.channels().list(\n",
        "      part = 'snippet, brandingSettings, contentDetails, statistics',\n",
        "      id=channel_id)\n",
        "  res=req.execute()\n",
        "  return res['items'] #to see all the option take out the []"
      ],
      "metadata": {
        "id": "iq58RsWNy-p-"
      },
      "execution_count": 116,
      "outputs": []
    },
    {
      "cell_type": "code",
      "source": [
        "channel_stts = get_info(ytb, channel_id)"
      ],
      "metadata": {
        "id": "5pL1wAj03ouZ"
      },
      "execution_count": 117,
      "outputs": []
    },
    {
      "cell_type": "code",
      "source": [
        "len(channel_stts)"
      ],
      "metadata": {
        "colab": {
          "base_uri": "https://localhost:8080/"
        },
        "id": "38cjsk8j3vAr",
        "outputId": "afa894e7-5a8d-440c-887e-cbc9eb7d8f27"
      },
      "execution_count": 118,
      "outputs": [
        {
          "output_type": "execute_result",
          "data": {
            "text/plain": [
              "1"
            ]
          },
          "metadata": {},
          "execution_count": 118
        }
      ]
    },
    {
      "cell_type": "code",
      "source": [
        "channel_stts[0]['snippet']"
      ],
      "metadata": {
        "colab": {
          "base_uri": "https://localhost:8080/"
        },
        "id": "jC9IW6tAKRqv",
        "outputId": "59f9f76c-9e8d-4805-ece9-12f61685dda9"
      },
      "execution_count": 121,
      "outputs": [
        {
          "output_type": "execute_result",
          "data": {
            "text/plain": [
              "{'country': 'AT',\n",
              " 'customUrl': 'redbullgivesyouwings',\n",
              " 'description': 'Experience the world of Red Bull like you have never seen it before, with the best action sports clips and original series on YouTube.\\n\\nWatch highlights from sport events like UCI Mountain Biking, Red Bull Rampage, Red Bull Ice Cross, Red Bull Straight Rhythm, Red Bull Soap Box Race, Red Bull Flugtag, Gaming, Volcom Pipe Pro, Red Bull Cliff Diving or discover the behind the scenes to athletes life from all over the globe.\\n\\nYou can watch plenty more on http://redbull.com ',\n",
              " 'localized': {'description': 'Experience the world of Red Bull like you have never seen it before, with the best action sports clips and original series on YouTube.\\n\\nWatch highlights from sport events like UCI Mountain Biking, Red Bull Rampage, Red Bull Ice Cross, Red Bull Straight Rhythm, Red Bull Soap Box Race, Red Bull Flugtag, Gaming, Volcom Pipe Pro, Red Bull Cliff Diving or discover the behind the scenes to athletes life from all over the globe.\\n\\nYou can watch plenty more on http://redbull.com ',\n",
              "  'title': 'Red Bull'},\n",
              " 'publishedAt': '2006-09-23T03:44:21Z',\n",
              " 'thumbnails': {'default': {'height': 88,\n",
              "   'url': 'https://yt3.ggpht.com/ytc/AKedOLQIf7hyEzlX3IyKiMOKjkQz7pS8eKsPnVXe08_MxQ=s88-c-k-c0x00ffffff-no-rj',\n",
              "   'width': 88},\n",
              "  'high': {'height': 800,\n",
              "   'url': 'https://yt3.ggpht.com/ytc/AKedOLQIf7hyEzlX3IyKiMOKjkQz7pS8eKsPnVXe08_MxQ=s800-c-k-c0x00ffffff-no-rj',\n",
              "   'width': 800},\n",
              "  'medium': {'height': 240,\n",
              "   'url': 'https://yt3.ggpht.com/ytc/AKedOLQIf7hyEzlX3IyKiMOKjkQz7pS8eKsPnVXe08_MxQ=s240-c-k-c0x00ffffff-no-rj',\n",
              "   'width': 240}},\n",
              " 'title': 'Red Bull'}"
            ]
          },
          "metadata": {},
          "execution_count": 121
        }
      ]
    },
    {
      "cell_type": "code",
      "source": [
        "channel_stts[0]['brandingSettings']"
      ],
      "metadata": {
        "colab": {
          "base_uri": "https://localhost:8080/"
        },
        "id": "Y0cup1QUKO-H",
        "outputId": "508748fc-e4b7-4d08-be81-aa9e1ffb269d"
      },
      "execution_count": 120,
      "outputs": [
        {
          "output_type": "execute_result",
          "data": {
            "text/plain": [
              "{'channel': {'country': 'AT',\n",
              "  'description': 'Experience the world of Red Bull like you have never seen it before, with the best action sports clips and original series on YouTube.\\n\\nWatch highlights from sport events like UCI Mountain Biking, Red Bull Rampage, Red Bull Ice Cross, Red Bull Straight Rhythm, Red Bull Soap Box Race, Red Bull Flugtag, Gaming, Volcom Pipe Pro, Red Bull Cliff Diving or discover the behind the scenes to athletes life from all over the globe.\\n\\nYou can watch plenty more on http://redbull.com ',\n",
              "  'keywords': '\"red bull\" redbull \"action sports\" \"extreme sports\" 4k stratos \"space jump\" gopro downhill rampage \"red bull rampage\" \"crashed ice\" \"frozen rush\" \"straight rhythm\" \"ryan sheckler\" \"travis pastrana\" \"danny macaskill\" \"drew benazon\" \"Kriss Kyle\" \"red bull signature series\" BMX Motocross skateboarding snowboarding \"mountain biking\" \"sky diving\" surfing skiing rallycross music F1 motorbike moto \"formula 1\" f1 POV soapbox flugtag skydive parachute',\n",
              "  'title': 'Red Bull',\n",
              "  'trackingAnalyticsAccountId': 'UA-70973118-4',\n",
              "  'unsubscribedTrailer': 'jxe870HmYBE'},\n",
              " 'image': {'bannerExternalUrl': 'https://yt3.ggpht.com/uz_pTQsDmwb2YKYdWSFYbDw8Wj-KV0un7T67fS7lPY5uO3Go1jqz35knOVgzPHOZBuSoV32I'}}"
            ]
          },
          "metadata": {},
          "execution_count": 120
        }
      ]
    },
    {
      "cell_type": "code",
      "source": [
        "channel_stts[0]['statistics']"
      ],
      "metadata": {
        "colab": {
          "base_uri": "https://localhost:8080/"
        },
        "id": "E61QYjTx6X50",
        "outputId": "0bf2bd31-a623-4a78-ffb9-e89997f0e78c"
      },
      "execution_count": 119,
      "outputs": [
        {
          "output_type": "execute_result",
          "data": {
            "text/plain": [
              "{'hiddenSubscriberCount': False,\n",
              " 'subscriberCount': '10300000',\n",
              " 'videoCount': '5723',\n",
              " 'viewCount': '2554745445'}"
            ]
          },
          "metadata": {},
          "execution_count": 119
        }
      ]
    },
    {
      "cell_type": "code",
      "source": [
        "channel_stts[0]['contentDetails']"
      ],
      "metadata": {
        "colab": {
          "base_uri": "https://localhost:8080/"
        },
        "id": "U6rao8VP6lWM",
        "outputId": "3634d95f-104c-4dd8-83ff-9aae886dc74a"
      },
      "execution_count": 39,
      "outputs": [
        {
          "output_type": "execute_result",
          "data": {
            "text/plain": [
              "{'relatedPlaylists': {'likes': '', 'uploads': 'UUblfuW_4rakIf2h6aqANefA'}}"
            ]
          },
          "metadata": {},
          "execution_count": 39
        }
      ]
    },
    {
      "cell_type": "code",
      "source": [
        "playlist = channel_stts[0]['contentDetails']['relatedPlaylists']['uploads']"
      ],
      "metadata": {
        "id": "FVBrSmNK7ysO"
      },
      "execution_count": 105,
      "outputs": []
    },
    {
      "cell_type": "code",
      "source": [
        "playlist"
      ],
      "metadata": {
        "colab": {
          "base_uri": "https://localhost:8080/",
          "height": 35
        },
        "id": "MRwwxjZYJUAp",
        "outputId": "09ca9ec3-c098-4ad5-e8dc-756104b33791"
      },
      "execution_count": 100,
      "outputs": [
        {
          "output_type": "execute_result",
          "data": {
            "application/vnd.google.colaboratory.intrinsic+json": {
              "type": "string"
            },
            "text/plain": [
              "'UUblfuW_4rakIf2h6aqANefA'"
            ]
          },
          "metadata": {},
          "execution_count": 100
        }
      ]
    },
    {
      "cell_type": "markdown",
      "source": [
        "<h5 align='right'>Collecting videos info by playlist</h5>\n",
        "<hr color='f47b0a'>"
      ],
      "metadata": {
        "id": "N6Hi2WPHKqWH"
      }
    },
    {
      "cell_type": "code",
      "source": [
        "def get_video(ytb, playlist):\n",
        "  video_list =[]\n",
        "  req = ytb.playlistItems().list(\n",
        "      part='snippet, contentDetails',\n",
        "      playlistId=playlist,\n",
        "      maxResults = 50\n",
        "  )\n",
        "\n",
        "  next_page = True\n",
        "  while next_page:\n",
        "    res = req.execute()\n",
        "    data=res['items']\n",
        "\n",
        "    for video in data:\n",
        "      video_id = video['contentDetails']['videoId']\n",
        "      if video_id not in video_list:\n",
        "        video_list.append(video_id)\n",
        "\n",
        "    if 'nextPageToken' in res.keys():\n",
        "      next_page = True\n",
        "      req=ytb.playlistItems().list(\n",
        "        part='snippet, contentDetails',\n",
        "        playlistId=playlist,\n",
        "        maxResults = 50,\n",
        "        pageToken=res['nextPageToken']\n",
        "      )\n",
        "    else:\n",
        "      next_page = False\n",
        "\n",
        "  return video_list\n"
      ],
      "metadata": {
        "id": "oWbGtkjj7X1Q"
      },
      "execution_count": 123,
      "outputs": []
    },
    {
      "cell_type": "code",
      "source": [
        "video_list = get_video(ytb, playlist)"
      ],
      "metadata": {
        "id": "CnwLSUXo9Ntc"
      },
      "execution_count": 53,
      "outputs": []
    },
    {
      "cell_type": "code",
      "source": [
        "len(video_list)"
      ],
      "metadata": {
        "colab": {
          "base_uri": "https://localhost:8080/"
        },
        "id": "7VwmaCdk-IFI",
        "outputId": "5b7c00e4-fb2c-4d96-a16f-21d5694fd73e"
      },
      "execution_count": 124,
      "outputs": [
        {
          "output_type": "execute_result",
          "data": {
            "text/plain": [
              "5723"
            ]
          },
          "metadata": {},
          "execution_count": 124
        }
      ]
    },
    {
      "cell_type": "markdown",
      "source": [
        "<h5 align='right'>Collecting video statistics</h5>\n",
        "<hr color='f47b0a'>"
      ],
      "metadata": {
        "id": "5SC3rVoJK2kJ"
      }
    },
    {
      "cell_type": "code",
      "source": [
        "def get_video_stts(ytb, video_list):\n",
        "  stts_list = []\n",
        "\n",
        "  for i in range(0, len(video_list),50):\n",
        "    req = ytb.videos().list(\n",
        "        part='id,snippet, contentDetails, statistics',\n",
        "        id=video_list[i:i+50]\n",
        "    )\n",
        "    data=req.execute()\n",
        "\n",
        "    for video in data['items']:\n",
        "            stats_dict=dict(video)\n",
        "            stts_list.append(stats_dict)\n",
        "  return stts_list"
      ],
      "metadata": {
        "id": "ufXROLse-QYr"
      },
      "execution_count": 125,
      "outputs": []
    },
    {
      "cell_type": "code",
      "source": [
        "video_data = get_video_stts(ytb, video_list)"
      ],
      "metadata": {
        "id": "GUP0BAa2B3WI"
      },
      "execution_count": 88,
      "outputs": []
    },
    {
      "cell_type": "code",
      "source": [
        "len(video_data)"
      ],
      "metadata": {
        "colab": {
          "base_uri": "https://localhost:8080/"
        },
        "id": "Q_Bb2VtPLDpH",
        "outputId": "85cadadb-b33c-4410-a9f6-e2528550469d"
      },
      "execution_count": 126,
      "outputs": [
        {
          "output_type": "execute_result",
          "data": {
            "text/plain": [
              "5723"
            ]
          },
          "metadata": {},
          "execution_count": 126
        }
      ]
    },
    {
      "cell_type": "code",
      "source": [
        "video_data[2\n",
        "           ]"
      ],
      "metadata": {
        "colab": {
          "base_uri": "https://localhost:8080/"
        },
        "id": "xHNOmHumDeaq",
        "outputId": "20156109-bf84-4581-8288-def721daa43b"
      },
      "execution_count": 89,
      "outputs": [
        {
          "output_type": "execute_result",
          "data": {
            "text/plain": [
              "{'contentDetails': {'caption': 'false',\n",
              "  'contentRating': {},\n",
              "  'definition': 'hd',\n",
              "  'dimension': '2d',\n",
              "  'duration': 'PT2M6S',\n",
              "  'licensedContent': True,\n",
              "  'projection': 'rectangular'},\n",
              " 'etag': 'fpaPdZpqU7QWwCKoI3QuyAiVeuA',\n",
              " 'id': 'jxe870HmYBE',\n",
              " 'kind': 'youtube#video',\n",
              " 'snippet': {'categoryId': '17',\n",
              "  'channelId': 'UCblfuW_4rakIf2h6aqANefA',\n",
              "  'channelTitle': 'Red Bull',\n",
              "  'defaultAudioLanguage': 'en',\n",
              "  'defaultLanguage': 'en',\n",
              "  'description': 'Formula 1 World Champion Max Verstappen enjoyed a chilled start to 2022 as he put some laps in on an ice track against Austrian Speedway legend Franky Zorn. On his first drive back in an F1 car in 2022 with the number 1 on his helmet, Max pitted for some special spiked tyres and had some fun on the GP Ice Race circuit. \\n\\nExplore more of what Red Bull Racing have done with F1 cars: https://www.redbull.com/int-en/shows/red-bull-racing-road-trips \\n\\n\\n#RedBull #F1 #MaxVerstappen\\n_________________________________________________\\nExperience the world of Red Bull like you have never seen it before with the best action sports clips on the web, original series and livestreams.\\n\\nGet the FREE Red Bull TV apps for all your devices: http://win.gs/RedBullTVApps  \\nSubscribe to Red Bull on Youtube: http://win.gs/SubToRedBull\\nCheck out Red Bull on TikTok: https://win.gs/TikTok\\nRed Bull on Facebook: http://win.gs/redbullfb\\nRed Bull on Instagram: http://win.gs/RedBullInstagram\\nRed Bull on Twitter: http://win.gs/redbulltwitter',\n",
              "  'liveBroadcastContent': 'none',\n",
              "  'localized': {'description': 'Formula 1 World Champion Max Verstappen enjoyed a chilled start to 2022 as he put some laps in on an ice track against Austrian Speedway legend Franky Zorn. On his first drive back in an F1 car in 2022 with the number 1 on his helmet, Max pitted for some special spiked tyres and had some fun on the GP Ice Race circuit. \\n\\nExplore more of what Red Bull Racing have done with F1 cars: https://www.redbull.com/int-en/shows/red-bull-racing-road-trips \\n\\n\\n#RedBull #F1 #MaxVerstappen\\n_________________________________________________\\nExperience the world of Red Bull like you have never seen it before with the best action sports clips on the web, original series and livestreams.\\n\\nGet the FREE Red Bull TV apps for all your devices: http://win.gs/RedBullTVApps  \\nSubscribe to Red Bull on Youtube: http://win.gs/SubToRedBull\\nCheck out Red Bull on TikTok: https://win.gs/TikTok\\nRed Bull on Facebook: http://win.gs/redbullfb\\nRed Bull on Instagram: http://win.gs/RedBullInstagram\\nRed Bull on Twitter: http://win.gs/redbulltwitter',\n",
              "   'title': 'Max Verstappen’s Icy Pre-Season Fun: Driving An F1 Car On The GP Ice Race Circuit'},\n",
              "  'publishedAt': '2022-02-03T13:29:23Z',\n",
              "  'tags': ['red bull',\n",
              "   'redbull',\n",
              "   'action sports',\n",
              "   'extreme sports',\n",
              "   'sport videos',\n",
              "   'action',\n",
              "   'sport',\n",
              "   'Max Verstappen',\n",
              "   'max',\n",
              "   'vertappen',\n",
              "   'formula 1',\n",
              "   'formula one',\n",
              "   'f1',\n",
              "   'f1 car',\n",
              "   'f1 car on ice',\n",
              "   'red bull racing',\n",
              "   'ice',\n",
              "   'snow',\n",
              "   'ice track',\n",
              "   'spiked tyres',\n",
              "   'tires',\n",
              "   'tyres',\n",
              "   'pirelli',\n",
              "   'grand prix',\n",
              "   'grand prix ice race',\n",
              "   'GP',\n",
              "   'speedway',\n",
              "   'ice speedway',\n",
              "   'speedway racing',\n",
              "   'race',\n",
              "   'racing',\n",
              "   'motorbike',\n",
              "   'motobike',\n",
              "   'motorcycle',\n",
              "   'driving on ice',\n",
              "   'drive on ice',\n",
              "   'drive on snow',\n",
              "   'race on snow',\n",
              "   'race on ice',\n",
              "   'ice race',\n",
              "   'gp ice race',\n",
              "   'Franky Zorn',\n",
              "   'austria',\n",
              "   'f1 2022'],\n",
              "  'thumbnails': {'default': {'height': 90,\n",
              "    'url': 'https://i.ytimg.com/vi/jxe870HmYBE/default.jpg',\n",
              "    'width': 120},\n",
              "   'high': {'height': 360,\n",
              "    'url': 'https://i.ytimg.com/vi/jxe870HmYBE/hqdefault.jpg',\n",
              "    'width': 480},\n",
              "   'maxres': {'height': 720,\n",
              "    'url': 'https://i.ytimg.com/vi/jxe870HmYBE/maxresdefault.jpg',\n",
              "    'width': 1280},\n",
              "   'medium': {'height': 180,\n",
              "    'url': 'https://i.ytimg.com/vi/jxe870HmYBE/mqdefault.jpg',\n",
              "    'width': 320},\n",
              "   'standard': {'height': 480,\n",
              "    'url': 'https://i.ytimg.com/vi/jxe870HmYBE/sddefault.jpg',\n",
              "    'width': 640}},\n",
              "  'title': 'Max Verstappen’s Icy Pre-Season Fun: Driving An F1 Car On The GP Ice Race Circuit'},\n",
              " 'statistics': {'commentCount': '1064',\n",
              "  'favoriteCount': '0',\n",
              "  'likeCount': '26474',\n",
              "  'viewCount': '736149'}}"
            ]
          },
          "metadata": {},
          "execution_count": 89
        }
      ]
    },
    {
      "cell_type": "code",
      "source": [
        "len(video_data)"
      ],
      "metadata": {
        "colab": {
          "base_uri": "https://localhost:8080/"
        },
        "id": "aJvZiORUD-5F",
        "outputId": "63daa635-70e8-43c9-cc85-c4acdbbf5f71"
      },
      "execution_count": 90,
      "outputs": [
        {
          "output_type": "execute_result",
          "data": {
            "text/plain": [
              "5723"
            ]
          },
          "metadata": {},
          "execution_count": 90
        }
      ]
    },
    {
      "cell_type": "markdown",
      "source": [
        "<h5 align='right'>Save the data</h5>\n",
        "<hr color='f47b0a'>"
      ],
      "metadata": {
        "id": "OsRDa5mJLLwe"
      }
    },
    {
      "cell_type": "code",
      "source": [
        "with open('/content/drive/MyDrive/Colab Notebooks/video_data.json', 'w') as fp:\n",
        "  json.dump(video_data, fp, indent=4)"
      ],
      "metadata": {
        "id": "MwWchjJ8Gxfp"
      },
      "execution_count": 93,
      "outputs": []
    }
  ]
}