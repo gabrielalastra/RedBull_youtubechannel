{
  "nbformat": 4,
  "nbformat_minor": 0,
  "metadata": {
    "colab": {
      "name": "data_cleaning.ipynb",
      "provenance": [],
      "mount_file_id": "15tqAYbrqT30pOG3Jw7jlIvDbCtKczYXa",
      "authorship_tag": "ABX9TyMCydgJf4aHu6tnnFPcFILV"
    },
    "kernelspec": {
      "name": "python3",
      "display_name": "Python 3"
    },
    "language_info": {
      "name": "python"
    }
  },
  "cells": [
    {
      "cell_type": "code",
      "execution_count": 12,
      "metadata": {
        "id": "gqLJlZShLe06"
      },
      "outputs": [],
      "source": [
        "import pandas as pd\n",
        "import numpy as np"
      ]
    },
    {
      "cell_type": "markdown",
      "source": [
        "<h5 align='right'>Open the file</h5>\n",
        "<hr color='f47b0a'>"
      ],
      "metadata": {
        "id": "6d1gyG50L3wB"
      }
    },
    {
      "cell_type": "code",
      "source": [
        "path = '/content/drive/MyDrive/Colab Notebooks/video_data.json'"
      ],
      "metadata": {
        "id": "CB-kz3gYLjjp"
      },
      "execution_count": 13,
      "outputs": []
    },
    {
      "cell_type": "code",
      "source": [
        "df = pd.read_json(path)"
      ],
      "metadata": {
        "id": "gl9w_7smLtG5"
      },
      "execution_count": 14,
      "outputs": []
    },
    {
      "cell_type": "code",
      "source": [
        "df.head()"
      ],
      "metadata": {
        "colab": {
          "base_uri": "https://localhost:8080/",
          "height": 531
        },
        "id": "Cnh69vggLyss",
        "outputId": "2ffeacf6-9511-49f6-b4e2-5aed8db7a790"
      },
      "execution_count": 15,
      "outputs": [
        {
          "output_type": "execute_result",
          "data": {
            "text/html": [
              "\n",
              "  <div id=\"df-233cc4ad-5398-4ab6-a545-891f9dc7e027\">\n",
              "    <div class=\"colab-df-container\">\n",
              "      <div>\n",
              "<style scoped>\n",
              "    .dataframe tbody tr th:only-of-type {\n",
              "        vertical-align: middle;\n",
              "    }\n",
              "\n",
              "    .dataframe tbody tr th {\n",
              "        vertical-align: top;\n",
              "    }\n",
              "\n",
              "    .dataframe thead th {\n",
              "        text-align: right;\n",
              "    }\n",
              "</style>\n",
              "<table border=\"1\" class=\"dataframe\">\n",
              "  <thead>\n",
              "    <tr style=\"text-align: right;\">\n",
              "      <th></th>\n",
              "      <th>kind</th>\n",
              "      <th>etag</th>\n",
              "      <th>id</th>\n",
              "      <th>snippet</th>\n",
              "      <th>contentDetails</th>\n",
              "      <th>statistics</th>\n",
              "    </tr>\n",
              "  </thead>\n",
              "  <tbody>\n",
              "    <tr>\n",
              "      <th>0</th>\n",
              "      <td>youtube#video</td>\n",
              "      <td>F1OeR0FZpeUpTfGoKi--E2PJbG8</td>\n",
              "      <td>xsPlB4WAmRc</td>\n",
              "      <td>{'publishedAt': '2022-02-09T17:15:40Z', 'chann...</td>\n",
              "      <td>{'duration': 'PT22S', 'dimension': '2d', 'defi...</td>\n",
              "      <td>{'viewCount': '46110', 'likeCount': '1345', 'f...</td>\n",
              "    </tr>\n",
              "    <tr>\n",
              "      <th>1</th>\n",
              "      <td>youtube#video</td>\n",
              "      <td>4vZnHCqPYPHcMxU-vH1gBrdvXKo</td>\n",
              "      <td>q-r6V_PgtcY</td>\n",
              "      <td>{'publishedAt': '2022-02-07T15:00:36Z', 'chann...</td>\n",
              "      <td>{'duration': 'PT6M56S', 'dimension': '2d', 'de...</td>\n",
              "      <td>{'viewCount': '60964', 'likeCount': '1935', 'f...</td>\n",
              "    </tr>\n",
              "    <tr>\n",
              "      <th>2</th>\n",
              "      <td>youtube#video</td>\n",
              "      <td>Zu3soK4zL4q79XVbtwTBK6L8TlY</td>\n",
              "      <td>jxe870HmYBE</td>\n",
              "      <td>{'publishedAt': '2022-02-03T13:29:23Z', 'chann...</td>\n",
              "      <td>{'duration': 'PT2M6S', 'dimension': '2d', 'def...</td>\n",
              "      <td>{'viewCount': '742990', 'likeCount': '26752', ...</td>\n",
              "    </tr>\n",
              "    <tr>\n",
              "      <th>3</th>\n",
              "      <td>youtube#video</td>\n",
              "      <td>JXCvjVcWEbte7gOjYfzq-sGXDhA</td>\n",
              "      <td>yxVOownOSRs</td>\n",
              "      <td>{'publishedAt': '2022-02-01T17:09:05Z', 'chann...</td>\n",
              "      <td>{'duration': 'PT25S', 'dimension': '2d', 'defi...</td>\n",
              "      <td>{'viewCount': '52319', 'likeCount': '1539', 'f...</td>\n",
              "    </tr>\n",
              "    <tr>\n",
              "      <th>4</th>\n",
              "      <td>youtube#video</td>\n",
              "      <td>kqsCsUuvs1r_F04_2E9F6adbV1o</td>\n",
              "      <td>3-yglCSCPng</td>\n",
              "      <td>{'publishedAt': '2022-01-14T13:00:01Z', 'chann...</td>\n",
              "      <td>{'duration': 'PT22S', 'dimension': '2d', 'defi...</td>\n",
              "      <td>{'viewCount': '238147', 'likeCount': '5895', '...</td>\n",
              "    </tr>\n",
              "  </tbody>\n",
              "</table>\n",
              "</div>\n",
              "      <button class=\"colab-df-convert\" onclick=\"convertToInteractive('df-233cc4ad-5398-4ab6-a545-891f9dc7e027')\"\n",
              "              title=\"Convert this dataframe to an interactive table.\"\n",
              "              style=\"display:none;\">\n",
              "        \n",
              "  <svg xmlns=\"http://www.w3.org/2000/svg\" height=\"24px\"viewBox=\"0 0 24 24\"\n",
              "       width=\"24px\">\n",
              "    <path d=\"M0 0h24v24H0V0z\" fill=\"none\"/>\n",
              "    <path d=\"M18.56 5.44l.94 2.06.94-2.06 2.06-.94-2.06-.94-.94-2.06-.94 2.06-2.06.94zm-11 1L8.5 8.5l.94-2.06 2.06-.94-2.06-.94L8.5 2.5l-.94 2.06-2.06.94zm10 10l.94 2.06.94-2.06 2.06-.94-2.06-.94-.94-2.06-.94 2.06-2.06.94z\"/><path d=\"M17.41 7.96l-1.37-1.37c-.4-.4-.92-.59-1.43-.59-.52 0-1.04.2-1.43.59L10.3 9.45l-7.72 7.72c-.78.78-.78 2.05 0 2.83L4 21.41c.39.39.9.59 1.41.59.51 0 1.02-.2 1.41-.59l7.78-7.78 2.81-2.81c.8-.78.8-2.07 0-2.86zM5.41 20L4 18.59l7.72-7.72 1.47 1.35L5.41 20z\"/>\n",
              "  </svg>\n",
              "      </button>\n",
              "      \n",
              "  <style>\n",
              "    .colab-df-container {\n",
              "      display:flex;\n",
              "      flex-wrap:wrap;\n",
              "      gap: 12px;\n",
              "    }\n",
              "\n",
              "    .colab-df-convert {\n",
              "      background-color: #E8F0FE;\n",
              "      border: none;\n",
              "      border-radius: 50%;\n",
              "      cursor: pointer;\n",
              "      display: none;\n",
              "      fill: #1967D2;\n",
              "      height: 32px;\n",
              "      padding: 0 0 0 0;\n",
              "      width: 32px;\n",
              "    }\n",
              "\n",
              "    .colab-df-convert:hover {\n",
              "      background-color: #E2EBFA;\n",
              "      box-shadow: 0px 1px 2px rgba(60, 64, 67, 0.3), 0px 1px 3px 1px rgba(60, 64, 67, 0.15);\n",
              "      fill: #174EA6;\n",
              "    }\n",
              "\n",
              "    [theme=dark] .colab-df-convert {\n",
              "      background-color: #3B4455;\n",
              "      fill: #D2E3FC;\n",
              "    }\n",
              "\n",
              "    [theme=dark] .colab-df-convert:hover {\n",
              "      background-color: #434B5C;\n",
              "      box-shadow: 0px 1px 3px 1px rgba(0, 0, 0, 0.15);\n",
              "      filter: drop-shadow(0px 1px 2px rgba(0, 0, 0, 0.3));\n",
              "      fill: #FFFFFF;\n",
              "    }\n",
              "  </style>\n",
              "\n",
              "      <script>\n",
              "        const buttonEl =\n",
              "          document.querySelector('#df-233cc4ad-5398-4ab6-a545-891f9dc7e027 button.colab-df-convert');\n",
              "        buttonEl.style.display =\n",
              "          google.colab.kernel.accessAllowed ? 'block' : 'none';\n",
              "\n",
              "        async function convertToInteractive(key) {\n",
              "          const element = document.querySelector('#df-233cc4ad-5398-4ab6-a545-891f9dc7e027');\n",
              "          const dataTable =\n",
              "            await google.colab.kernel.invokeFunction('convertToInteractive',\n",
              "                                                     [key], {});\n",
              "          if (!dataTable) return;\n",
              "\n",
              "          const docLinkHtml = 'Like what you see? Visit the ' +\n",
              "            '<a target=\"_blank\" href=https://colab.research.google.com/notebooks/data_table.ipynb>data table notebook</a>'\n",
              "            + ' to learn more about interactive tables.';\n",
              "          element.innerHTML = '';\n",
              "          dataTable['output_type'] = 'display_data';\n",
              "          await google.colab.output.renderOutput(dataTable, element);\n",
              "          const docLink = document.createElement('div');\n",
              "          docLink.innerHTML = docLinkHtml;\n",
              "          element.appendChild(docLink);\n",
              "        }\n",
              "      </script>\n",
              "    </div>\n",
              "  </div>\n",
              "  "
            ],
            "text/plain": [
              "            kind  ...                                         statistics\n",
              "0  youtube#video  ...  {'viewCount': '46110', 'likeCount': '1345', 'f...\n",
              "1  youtube#video  ...  {'viewCount': '60964', 'likeCount': '1935', 'f...\n",
              "2  youtube#video  ...  {'viewCount': '742990', 'likeCount': '26752', ...\n",
              "3  youtube#video  ...  {'viewCount': '52319', 'likeCount': '1539', 'f...\n",
              "4  youtube#video  ...  {'viewCount': '238147', 'likeCount': '5895', '...\n",
              "\n",
              "[5 rows x 6 columns]"
            ]
          },
          "metadata": {},
          "execution_count": 15
        }
      ]
    },
    {
      "cell_type": "code",
      "source": [
        "df.info()"
      ],
      "metadata": {
        "colab": {
          "base_uri": "https://localhost:8080/"
        },
        "id": "0aG6cdRMLzav",
        "outputId": "4f242a87-6985-4d71-8863-a9c3233c9f38"
      },
      "execution_count": 16,
      "outputs": [
        {
          "output_type": "stream",
          "name": "stdout",
          "text": [
            "<class 'pandas.core.frame.DataFrame'>\n",
            "RangeIndex: 5723 entries, 0 to 5722\n",
            "Data columns (total 6 columns):\n",
            " #   Column          Non-Null Count  Dtype \n",
            "---  ------          --------------  ----- \n",
            " 0   kind            5723 non-null   object\n",
            " 1   etag            5723 non-null   object\n",
            " 2   id              5723 non-null   object\n",
            " 3   snippet         5723 non-null   object\n",
            " 4   contentDetails  5723 non-null   object\n",
            " 5   statistics      5723 non-null   object\n",
            "dtypes: object(6)\n",
            "memory usage: 268.4+ KB\n"
          ]
        }
      ]
    },
    {
      "cell_type": "code",
      "source": [
        "df = df.drop(columns=['etag', 'kind'])"
      ],
      "metadata": {
        "id": "Qa-xZ-VtXIS7"
      },
      "execution_count": 17,
      "outputs": []
    },
    {
      "cell_type": "markdown",
      "source": [
        "<h5 align='right'>Select Desired Subcolumns</h5>\n",
        "<hr color='f47b0a'>"
      ],
      "metadata": {
        "id": "zWHpSbupf-8y"
      }
    },
    {
      "cell_type": "code",
      "source": [
        "df['snippet'][0]"
      ],
      "metadata": {
        "colab": {
          "base_uri": "https://localhost:8080/"
        },
        "id": "D8E7zqY2MG2x",
        "outputId": "968c812f-2d75-437b-945e-49eb4957c54b"
      },
      "execution_count": 18,
      "outputs": [
        {
          "output_type": "execute_result",
          "data": {
            "text/plain": [
              "{'categoryId': '17',\n",
              " 'channelId': 'UCblfuW_4rakIf2h6aqANefA',\n",
              " 'channelTitle': 'Red Bull',\n",
              " 'defaultAudioLanguage': 'en',\n",
              " 'description': '',\n",
              " 'liveBroadcastContent': 'none',\n",
              " 'localized': {'description': '',\n",
              "  'title': 'timbersports training is wild \\U0001fa9a \\U0001fa93'},\n",
              " 'publishedAt': '2022-02-09T17:15:40Z',\n",
              " 'thumbnails': {'default': {'height': 90,\n",
              "   'url': 'https://i.ytimg.com/vi/xsPlB4WAmRc/default.jpg',\n",
              "   'width': 120},\n",
              "  'high': {'height': 360,\n",
              "   'url': 'https://i.ytimg.com/vi/xsPlB4WAmRc/hqdefault.jpg',\n",
              "   'width': 480},\n",
              "  'maxres': {'height': 720,\n",
              "   'url': 'https://i.ytimg.com/vi/xsPlB4WAmRc/maxresdefault.jpg',\n",
              "   'width': 1280},\n",
              "  'medium': {'height': 180,\n",
              "   'url': 'https://i.ytimg.com/vi/xsPlB4WAmRc/mqdefault.jpg',\n",
              "   'width': 320},\n",
              "  'standard': {'height': 480,\n",
              "   'url': 'https://i.ytimg.com/vi/xsPlB4WAmRc/sddefault.jpg',\n",
              "   'width': 640}},\n",
              " 'title': 'timbersports training is wild \\U0001fa9a \\U0001fa93'}"
            ]
          },
          "metadata": {},
          "execution_count": 18
        }
      ]
    },
    {
      "cell_type": "code",
      "source": [
        "mask = df['snippet'].apply(pd.Series)\n",
        "df['defaultAudioLanguage'] = mask['defaultAudioLanguage']\n",
        "df['title'] = mask['title']\n",
        "df['publishedAt']= mask['publishedAt']\n",
        "df['tags'] = mask['tags']\n",
        "df.head()"
      ],
      "metadata": {
        "colab": {
          "base_uri": "https://localhost:8080/",
          "height": 635
        },
        "id": "Ja_9g4v1Wr4x",
        "outputId": "30358582-5cfe-4c77-a4e0-0f3e6f18675e"
      },
      "execution_count": 19,
      "outputs": [
        {
          "output_type": "execute_result",
          "data": {
            "text/html": [
              "\n",
              "  <div id=\"df-b36b9871-411e-4123-a85b-391446df268e\">\n",
              "    <div class=\"colab-df-container\">\n",
              "      <div>\n",
              "<style scoped>\n",
              "    .dataframe tbody tr th:only-of-type {\n",
              "        vertical-align: middle;\n",
              "    }\n",
              "\n",
              "    .dataframe tbody tr th {\n",
              "        vertical-align: top;\n",
              "    }\n",
              "\n",
              "    .dataframe thead th {\n",
              "        text-align: right;\n",
              "    }\n",
              "</style>\n",
              "<table border=\"1\" class=\"dataframe\">\n",
              "  <thead>\n",
              "    <tr style=\"text-align: right;\">\n",
              "      <th></th>\n",
              "      <th>id</th>\n",
              "      <th>snippet</th>\n",
              "      <th>contentDetails</th>\n",
              "      <th>statistics</th>\n",
              "      <th>defaultAudioLanguage</th>\n",
              "      <th>title</th>\n",
              "      <th>publishedAt</th>\n",
              "      <th>tags</th>\n",
              "    </tr>\n",
              "  </thead>\n",
              "  <tbody>\n",
              "    <tr>\n",
              "      <th>0</th>\n",
              "      <td>xsPlB4WAmRc</td>\n",
              "      <td>{'publishedAt': '2022-02-09T17:15:40Z', 'chann...</td>\n",
              "      <td>{'duration': 'PT22S', 'dimension': '2d', 'defi...</td>\n",
              "      <td>{'viewCount': '46110', 'likeCount': '1345', 'f...</td>\n",
              "      <td>en</td>\n",
              "      <td>timbersports training is wild 🪚 🪓</td>\n",
              "      <td>2022-02-09T17:15:40Z</td>\n",
              "      <td>NaN</td>\n",
              "    </tr>\n",
              "    <tr>\n",
              "      <th>1</th>\n",
              "      <td>q-r6V_PgtcY</td>\n",
              "      <td>{'publishedAt': '2022-02-07T15:00:36Z', 'chann...</td>\n",
              "      <td>{'duration': 'PT6M56S', 'dimension': '2d', 'de...</td>\n",
              "      <td>{'viewCount': '60964', 'likeCount': '1935', 'f...</td>\n",
              "      <td>en</td>\n",
              "      <td>Huge Mountain Sends On Snowmobiles &amp; Skis | Re...</td>\n",
              "      <td>2022-02-07T15:00:36Z</td>\n",
              "      <td>[red bull, redbull, action sports, extreme spo...</td>\n",
              "    </tr>\n",
              "    <tr>\n",
              "      <th>2</th>\n",
              "      <td>jxe870HmYBE</td>\n",
              "      <td>{'publishedAt': '2022-02-03T13:29:23Z', 'chann...</td>\n",
              "      <td>{'duration': 'PT2M6S', 'dimension': '2d', 'def...</td>\n",
              "      <td>{'viewCount': '742990', 'likeCount': '26752', ...</td>\n",
              "      <td>en</td>\n",
              "      <td>Max Verstappen’s Icy Pre-Season Fun: Driving A...</td>\n",
              "      <td>2022-02-03T13:29:23Z</td>\n",
              "      <td>[red bull, redbull, action sports, extreme spo...</td>\n",
              "    </tr>\n",
              "    <tr>\n",
              "      <th>3</th>\n",
              "      <td>yxVOownOSRs</td>\n",
              "      <td>{'publishedAt': '2022-02-01T17:09:05Z', 'chann...</td>\n",
              "      <td>{'duration': 'PT25S', 'dimension': '2d', 'defi...</td>\n",
              "      <td>{'viewCount': '52319', 'likeCount': '1539', 'f...</td>\n",
              "      <td>en</td>\n",
              "      <td>which runner are you? 🏃‍♀️</td>\n",
              "      <td>2022-02-01T17:09:05Z</td>\n",
              "      <td>NaN</td>\n",
              "    </tr>\n",
              "    <tr>\n",
              "      <th>4</th>\n",
              "      <td>3-yglCSCPng</td>\n",
              "      <td>{'publishedAt': '2022-01-14T13:00:01Z', 'chann...</td>\n",
              "      <td>{'duration': 'PT22S', 'dimension': '2d', 'defi...</td>\n",
              "      <td>{'viewCount': '238147', 'likeCount': '5895', '...</td>\n",
              "      <td>en</td>\n",
              "      <td>incredible skiing skills that just look ✨ casu...</td>\n",
              "      <td>2022-01-14T13:00:01Z</td>\n",
              "      <td>NaN</td>\n",
              "    </tr>\n",
              "  </tbody>\n",
              "</table>\n",
              "</div>\n",
              "      <button class=\"colab-df-convert\" onclick=\"convertToInteractive('df-b36b9871-411e-4123-a85b-391446df268e')\"\n",
              "              title=\"Convert this dataframe to an interactive table.\"\n",
              "              style=\"display:none;\">\n",
              "        \n",
              "  <svg xmlns=\"http://www.w3.org/2000/svg\" height=\"24px\"viewBox=\"0 0 24 24\"\n",
              "       width=\"24px\">\n",
              "    <path d=\"M0 0h24v24H0V0z\" fill=\"none\"/>\n",
              "    <path d=\"M18.56 5.44l.94 2.06.94-2.06 2.06-.94-2.06-.94-.94-2.06-.94 2.06-2.06.94zm-11 1L8.5 8.5l.94-2.06 2.06-.94-2.06-.94L8.5 2.5l-.94 2.06-2.06.94zm10 10l.94 2.06.94-2.06 2.06-.94-2.06-.94-.94-2.06-.94 2.06-2.06.94z\"/><path d=\"M17.41 7.96l-1.37-1.37c-.4-.4-.92-.59-1.43-.59-.52 0-1.04.2-1.43.59L10.3 9.45l-7.72 7.72c-.78.78-.78 2.05 0 2.83L4 21.41c.39.39.9.59 1.41.59.51 0 1.02-.2 1.41-.59l7.78-7.78 2.81-2.81c.8-.78.8-2.07 0-2.86zM5.41 20L4 18.59l7.72-7.72 1.47 1.35L5.41 20z\"/>\n",
              "  </svg>\n",
              "      </button>\n",
              "      \n",
              "  <style>\n",
              "    .colab-df-container {\n",
              "      display:flex;\n",
              "      flex-wrap:wrap;\n",
              "      gap: 12px;\n",
              "    }\n",
              "\n",
              "    .colab-df-convert {\n",
              "      background-color: #E8F0FE;\n",
              "      border: none;\n",
              "      border-radius: 50%;\n",
              "      cursor: pointer;\n",
              "      display: none;\n",
              "      fill: #1967D2;\n",
              "      height: 32px;\n",
              "      padding: 0 0 0 0;\n",
              "      width: 32px;\n",
              "    }\n",
              "\n",
              "    .colab-df-convert:hover {\n",
              "      background-color: #E2EBFA;\n",
              "      box-shadow: 0px 1px 2px rgba(60, 64, 67, 0.3), 0px 1px 3px 1px rgba(60, 64, 67, 0.15);\n",
              "      fill: #174EA6;\n",
              "    }\n",
              "\n",
              "    [theme=dark] .colab-df-convert {\n",
              "      background-color: #3B4455;\n",
              "      fill: #D2E3FC;\n",
              "    }\n",
              "\n",
              "    [theme=dark] .colab-df-convert:hover {\n",
              "      background-color: #434B5C;\n",
              "      box-shadow: 0px 1px 3px 1px rgba(0, 0, 0, 0.15);\n",
              "      filter: drop-shadow(0px 1px 2px rgba(0, 0, 0, 0.3));\n",
              "      fill: #FFFFFF;\n",
              "    }\n",
              "  </style>\n",
              "\n",
              "      <script>\n",
              "        const buttonEl =\n",
              "          document.querySelector('#df-b36b9871-411e-4123-a85b-391446df268e button.colab-df-convert');\n",
              "        buttonEl.style.display =\n",
              "          google.colab.kernel.accessAllowed ? 'block' : 'none';\n",
              "\n",
              "        async function convertToInteractive(key) {\n",
              "          const element = document.querySelector('#df-b36b9871-411e-4123-a85b-391446df268e');\n",
              "          const dataTable =\n",
              "            await google.colab.kernel.invokeFunction('convertToInteractive',\n",
              "                                                     [key], {});\n",
              "          if (!dataTable) return;\n",
              "\n",
              "          const docLinkHtml = 'Like what you see? Visit the ' +\n",
              "            '<a target=\"_blank\" href=https://colab.research.google.com/notebooks/data_table.ipynb>data table notebook</a>'\n",
              "            + ' to learn more about interactive tables.';\n",
              "          element.innerHTML = '';\n",
              "          dataTable['output_type'] = 'display_data';\n",
              "          await google.colab.output.renderOutput(dataTable, element);\n",
              "          const docLink = document.createElement('div');\n",
              "          docLink.innerHTML = docLinkHtml;\n",
              "          element.appendChild(docLink);\n",
              "        }\n",
              "      </script>\n",
              "    </div>\n",
              "  </div>\n",
              "  "
            ],
            "text/plain": [
              "            id  ...                                               tags\n",
              "0  xsPlB4WAmRc  ...                                                NaN\n",
              "1  q-r6V_PgtcY  ...  [red bull, redbull, action sports, extreme spo...\n",
              "2  jxe870HmYBE  ...  [red bull, redbull, action sports, extreme spo...\n",
              "3  yxVOownOSRs  ...                                                NaN\n",
              "4  3-yglCSCPng  ...                                                NaN\n",
              "\n",
              "[5 rows x 8 columns]"
            ]
          },
          "metadata": {},
          "execution_count": 19
        }
      ]
    },
    {
      "cell_type": "code",
      "source": [
        "df['tags']= pd.Series(df['tags'], dtype=\"string\")\n",
        "df['tags']=df['tags'].fillna('None')\n",
        "df['tagsCount'] = df['tags'].apply(lambda x: len(x.split()))\n",
        "df = df.drop(columns=['snippet'])\n",
        "print(df['tags'][2])\n",
        "print(df['tagsCount'][2])"
      ],
      "metadata": {
        "colab": {
          "base_uri": "https://localhost:8080/"
        },
        "id": "o6Nr8Qn-XnXu",
        "outputId": "404ad241-b484-4578-b643-88ff88344529"
      },
      "execution_count": 20,
      "outputs": [
        {
          "output_type": "stream",
          "name": "stdout",
          "text": [
            "['red bull', 'redbull', 'action sports', 'extreme sports', 'sport videos', 'action', 'sport', 'Max Verstappen', 'max', 'vertappen', 'formula 1', 'formula one', 'f1', 'f1 car', 'f1 car on ice', 'red bull racing', 'ice', 'snow', 'ice track', 'spiked tyres', 'tires', 'tyres', 'pirelli', 'grand prix', 'grand prix ice race', 'GP', 'speedway', 'ice speedway', 'speedway racing', 'race', 'racing', 'motorbike', 'motobike', 'motorcycle', 'driving on ice', 'drive on ice', 'drive on snow', 'race on snow', 'race on ice', 'ice race', 'gp ice race', 'Franky Zorn', 'austria', 'f1 2022']\n",
            "80\n"
          ]
        }
      ]
    },
    {
      "cell_type": "code",
      "source": [
        "df['statistics'][999]"
      ],
      "metadata": {
        "colab": {
          "base_uri": "https://localhost:8080/"
        },
        "id": "6-eD4Uw8Vpzl",
        "outputId": "55fe47c2-9359-406a-e1c4-b6b6c054b7a6"
      },
      "execution_count": 21,
      "outputs": [
        {
          "output_type": "execute_result",
          "data": {
            "text/plain": [
              "{'commentCount': '49',\n",
              " 'favoriteCount': '0',\n",
              " 'likeCount': '1404',\n",
              " 'viewCount': '104978'}"
            ]
          },
          "metadata": {},
          "execution_count": 21
        }
      ]
    },
    {
      "cell_type": "code",
      "source": [
        "mask2 = df['statistics'].apply(pd.Series)\n",
        "df['commentCount'] = mask2['commentCount']\n",
        "df['favoriteCount'] = mask2['favoriteCount']\n",
        "df['likeCount'] = mask2['likeCount']\n",
        "df['viewCount'] = mask2['viewCount']\n",
        "df= df.drop(columns=['statistics'])\n",
        "df.head()"
      ],
      "metadata": {
        "colab": {
          "base_uri": "https://localhost:8080/",
          "height": 600
        },
        "id": "k8xNRMxzX8Dm",
        "outputId": "da5d8b0b-1c94-4fc0-d034-863b465dde8b"
      },
      "execution_count": 22,
      "outputs": [
        {
          "output_type": "execute_result",
          "data": {
            "text/html": [
              "\n",
              "  <div id=\"df-4e93efe8-8d5b-4e52-9c3d-cb743c5375b0\">\n",
              "    <div class=\"colab-df-container\">\n",
              "      <div>\n",
              "<style scoped>\n",
              "    .dataframe tbody tr th:only-of-type {\n",
              "        vertical-align: middle;\n",
              "    }\n",
              "\n",
              "    .dataframe tbody tr th {\n",
              "        vertical-align: top;\n",
              "    }\n",
              "\n",
              "    .dataframe thead th {\n",
              "        text-align: right;\n",
              "    }\n",
              "</style>\n",
              "<table border=\"1\" class=\"dataframe\">\n",
              "  <thead>\n",
              "    <tr style=\"text-align: right;\">\n",
              "      <th></th>\n",
              "      <th>id</th>\n",
              "      <th>contentDetails</th>\n",
              "      <th>defaultAudioLanguage</th>\n",
              "      <th>title</th>\n",
              "      <th>publishedAt</th>\n",
              "      <th>tags</th>\n",
              "      <th>tagsCount</th>\n",
              "      <th>commentCount</th>\n",
              "      <th>favoriteCount</th>\n",
              "      <th>likeCount</th>\n",
              "      <th>viewCount</th>\n",
              "    </tr>\n",
              "  </thead>\n",
              "  <tbody>\n",
              "    <tr>\n",
              "      <th>0</th>\n",
              "      <td>xsPlB4WAmRc</td>\n",
              "      <td>{'duration': 'PT22S', 'dimension': '2d', 'defi...</td>\n",
              "      <td>en</td>\n",
              "      <td>timbersports training is wild 🪚 🪓</td>\n",
              "      <td>2022-02-09T17:15:40Z</td>\n",
              "      <td>None</td>\n",
              "      <td>1</td>\n",
              "      <td>16</td>\n",
              "      <td>0</td>\n",
              "      <td>1345</td>\n",
              "      <td>46110</td>\n",
              "    </tr>\n",
              "    <tr>\n",
              "      <th>1</th>\n",
              "      <td>q-r6V_PgtcY</td>\n",
              "      <td>{'duration': 'PT6M56S', 'dimension': '2d', 'de...</td>\n",
              "      <td>en</td>\n",
              "      <td>Huge Mountain Sends On Snowmobiles &amp; Skis | Re...</td>\n",
              "      <td>2022-02-07T15:00:36Z</td>\n",
              "      <td>['red bull', 'redbull', 'action sports', 'extr...</td>\n",
              "      <td>63</td>\n",
              "      <td>85</td>\n",
              "      <td>0</td>\n",
              "      <td>1935</td>\n",
              "      <td>60964</td>\n",
              "    </tr>\n",
              "    <tr>\n",
              "      <th>2</th>\n",
              "      <td>jxe870HmYBE</td>\n",
              "      <td>{'duration': 'PT2M6S', 'dimension': '2d', 'def...</td>\n",
              "      <td>en</td>\n",
              "      <td>Max Verstappen’s Icy Pre-Season Fun: Driving A...</td>\n",
              "      <td>2022-02-03T13:29:23Z</td>\n",
              "      <td>['red bull', 'redbull', 'action sports', 'extr...</td>\n",
              "      <td>80</td>\n",
              "      <td>1071</td>\n",
              "      <td>0</td>\n",
              "      <td>26752</td>\n",
              "      <td>742990</td>\n",
              "    </tr>\n",
              "    <tr>\n",
              "      <th>3</th>\n",
              "      <td>yxVOownOSRs</td>\n",
              "      <td>{'duration': 'PT25S', 'dimension': '2d', 'defi...</td>\n",
              "      <td>en</td>\n",
              "      <td>which runner are you? 🏃‍♀️</td>\n",
              "      <td>2022-02-01T17:09:05Z</td>\n",
              "      <td>None</td>\n",
              "      <td>1</td>\n",
              "      <td>62</td>\n",
              "      <td>0</td>\n",
              "      <td>1539</td>\n",
              "      <td>52319</td>\n",
              "    </tr>\n",
              "    <tr>\n",
              "      <th>4</th>\n",
              "      <td>3-yglCSCPng</td>\n",
              "      <td>{'duration': 'PT22S', 'dimension': '2d', 'defi...</td>\n",
              "      <td>en</td>\n",
              "      <td>incredible skiing skills that just look ✨ casu...</td>\n",
              "      <td>2022-01-14T13:00:01Z</td>\n",
              "      <td>None</td>\n",
              "      <td>1</td>\n",
              "      <td>46</td>\n",
              "      <td>0</td>\n",
              "      <td>5895</td>\n",
              "      <td>238147</td>\n",
              "    </tr>\n",
              "  </tbody>\n",
              "</table>\n",
              "</div>\n",
              "      <button class=\"colab-df-convert\" onclick=\"convertToInteractive('df-4e93efe8-8d5b-4e52-9c3d-cb743c5375b0')\"\n",
              "              title=\"Convert this dataframe to an interactive table.\"\n",
              "              style=\"display:none;\">\n",
              "        \n",
              "  <svg xmlns=\"http://www.w3.org/2000/svg\" height=\"24px\"viewBox=\"0 0 24 24\"\n",
              "       width=\"24px\">\n",
              "    <path d=\"M0 0h24v24H0V0z\" fill=\"none\"/>\n",
              "    <path d=\"M18.56 5.44l.94 2.06.94-2.06 2.06-.94-2.06-.94-.94-2.06-.94 2.06-2.06.94zm-11 1L8.5 8.5l.94-2.06 2.06-.94-2.06-.94L8.5 2.5l-.94 2.06-2.06.94zm10 10l.94 2.06.94-2.06 2.06-.94-2.06-.94-.94-2.06-.94 2.06-2.06.94z\"/><path d=\"M17.41 7.96l-1.37-1.37c-.4-.4-.92-.59-1.43-.59-.52 0-1.04.2-1.43.59L10.3 9.45l-7.72 7.72c-.78.78-.78 2.05 0 2.83L4 21.41c.39.39.9.59 1.41.59.51 0 1.02-.2 1.41-.59l7.78-7.78 2.81-2.81c.8-.78.8-2.07 0-2.86zM5.41 20L4 18.59l7.72-7.72 1.47 1.35L5.41 20z\"/>\n",
              "  </svg>\n",
              "      </button>\n",
              "      \n",
              "  <style>\n",
              "    .colab-df-container {\n",
              "      display:flex;\n",
              "      flex-wrap:wrap;\n",
              "      gap: 12px;\n",
              "    }\n",
              "\n",
              "    .colab-df-convert {\n",
              "      background-color: #E8F0FE;\n",
              "      border: none;\n",
              "      border-radius: 50%;\n",
              "      cursor: pointer;\n",
              "      display: none;\n",
              "      fill: #1967D2;\n",
              "      height: 32px;\n",
              "      padding: 0 0 0 0;\n",
              "      width: 32px;\n",
              "    }\n",
              "\n",
              "    .colab-df-convert:hover {\n",
              "      background-color: #E2EBFA;\n",
              "      box-shadow: 0px 1px 2px rgba(60, 64, 67, 0.3), 0px 1px 3px 1px rgba(60, 64, 67, 0.15);\n",
              "      fill: #174EA6;\n",
              "    }\n",
              "\n",
              "    [theme=dark] .colab-df-convert {\n",
              "      background-color: #3B4455;\n",
              "      fill: #D2E3FC;\n",
              "    }\n",
              "\n",
              "    [theme=dark] .colab-df-convert:hover {\n",
              "      background-color: #434B5C;\n",
              "      box-shadow: 0px 1px 3px 1px rgba(0, 0, 0, 0.15);\n",
              "      filter: drop-shadow(0px 1px 2px rgba(0, 0, 0, 0.3));\n",
              "      fill: #FFFFFF;\n",
              "    }\n",
              "  </style>\n",
              "\n",
              "      <script>\n",
              "        const buttonEl =\n",
              "          document.querySelector('#df-4e93efe8-8d5b-4e52-9c3d-cb743c5375b0 button.colab-df-convert');\n",
              "        buttonEl.style.display =\n",
              "          google.colab.kernel.accessAllowed ? 'block' : 'none';\n",
              "\n",
              "        async function convertToInteractive(key) {\n",
              "          const element = document.querySelector('#df-4e93efe8-8d5b-4e52-9c3d-cb743c5375b0');\n",
              "          const dataTable =\n",
              "            await google.colab.kernel.invokeFunction('convertToInteractive',\n",
              "                                                     [key], {});\n",
              "          if (!dataTable) return;\n",
              "\n",
              "          const docLinkHtml = 'Like what you see? Visit the ' +\n",
              "            '<a target=\"_blank\" href=https://colab.research.google.com/notebooks/data_table.ipynb>data table notebook</a>'\n",
              "            + ' to learn more about interactive tables.';\n",
              "          element.innerHTML = '';\n",
              "          dataTable['output_type'] = 'display_data';\n",
              "          await google.colab.output.renderOutput(dataTable, element);\n",
              "          const docLink = document.createElement('div');\n",
              "          docLink.innerHTML = docLinkHtml;\n",
              "          element.appendChild(docLink);\n",
              "        }\n",
              "      </script>\n",
              "    </div>\n",
              "  </div>\n",
              "  "
            ],
            "text/plain": [
              "            id  ... viewCount\n",
              "0  xsPlB4WAmRc  ...     46110\n",
              "1  q-r6V_PgtcY  ...     60964\n",
              "2  jxe870HmYBE  ...    742990\n",
              "3  yxVOownOSRs  ...     52319\n",
              "4  3-yglCSCPng  ...    238147\n",
              "\n",
              "[5 rows x 11 columns]"
            ]
          },
          "metadata": {},
          "execution_count": 22
        }
      ]
    },
    {
      "cell_type": "code",
      "source": [
        "df['contentDetails'][0]"
      ],
      "metadata": {
        "colab": {
          "base_uri": "https://localhost:8080/"
        },
        "id": "rmjO63haWH52",
        "outputId": "902a5b54-20e0-461e-f396-040e8a1d7bdc"
      },
      "execution_count": 23,
      "outputs": [
        {
          "output_type": "execute_result",
          "data": {
            "text/plain": [
              "{'caption': 'false',\n",
              " 'contentRating': {},\n",
              " 'definition': 'hd',\n",
              " 'dimension': '2d',\n",
              " 'duration': 'PT22S',\n",
              " 'licensedContent': False,\n",
              " 'projection': 'rectangular'}"
            ]
          },
          "metadata": {},
          "execution_count": 23
        }
      ]
    },
    {
      "cell_type": "code",
      "source": [
        "mask3 = df['contentDetails'].apply(pd.Series)\n",
        "df['definition'] = mask3['definition']\n",
        "df['duration'] = mask3['duration']\n",
        "df= df.drop(columns=['contentDetails'])"
      ],
      "metadata": {
        "id": "Dm4bYd56WkMt"
      },
      "execution_count": 24,
      "outputs": []
    },
    {
      "cell_type": "code",
      "source": [
        "df.head()"
      ],
      "metadata": {
        "colab": {
          "base_uri": "https://localhost:8080/",
          "height": 548
        },
        "id": "3Urdfb9nZJLu",
        "outputId": "0aaf0e78-d8a1-44c6-ffe4-579bbe22c441"
      },
      "execution_count": 25,
      "outputs": [
        {
          "output_type": "execute_result",
          "data": {
            "text/html": [
              "\n",
              "  <div id=\"df-707b5861-90a8-4102-bd48-66b1746c972c\">\n",
              "    <div class=\"colab-df-container\">\n",
              "      <div>\n",
              "<style scoped>\n",
              "    .dataframe tbody tr th:only-of-type {\n",
              "        vertical-align: middle;\n",
              "    }\n",
              "\n",
              "    .dataframe tbody tr th {\n",
              "        vertical-align: top;\n",
              "    }\n",
              "\n",
              "    .dataframe thead th {\n",
              "        text-align: right;\n",
              "    }\n",
              "</style>\n",
              "<table border=\"1\" class=\"dataframe\">\n",
              "  <thead>\n",
              "    <tr style=\"text-align: right;\">\n",
              "      <th></th>\n",
              "      <th>id</th>\n",
              "      <th>defaultAudioLanguage</th>\n",
              "      <th>title</th>\n",
              "      <th>publishedAt</th>\n",
              "      <th>tags</th>\n",
              "      <th>tagsCount</th>\n",
              "      <th>commentCount</th>\n",
              "      <th>favoriteCount</th>\n",
              "      <th>likeCount</th>\n",
              "      <th>viewCount</th>\n",
              "      <th>definition</th>\n",
              "      <th>duration</th>\n",
              "    </tr>\n",
              "  </thead>\n",
              "  <tbody>\n",
              "    <tr>\n",
              "      <th>0</th>\n",
              "      <td>xsPlB4WAmRc</td>\n",
              "      <td>en</td>\n",
              "      <td>timbersports training is wild 🪚 🪓</td>\n",
              "      <td>2022-02-09T17:15:40Z</td>\n",
              "      <td>None</td>\n",
              "      <td>1</td>\n",
              "      <td>16</td>\n",
              "      <td>0</td>\n",
              "      <td>1345</td>\n",
              "      <td>46110</td>\n",
              "      <td>hd</td>\n",
              "      <td>PT22S</td>\n",
              "    </tr>\n",
              "    <tr>\n",
              "      <th>1</th>\n",
              "      <td>q-r6V_PgtcY</td>\n",
              "      <td>en</td>\n",
              "      <td>Huge Mountain Sends On Snowmobiles &amp; Skis | Re...</td>\n",
              "      <td>2022-02-07T15:00:36Z</td>\n",
              "      <td>['red bull', 'redbull', 'action sports', 'extr...</td>\n",
              "      <td>63</td>\n",
              "      <td>85</td>\n",
              "      <td>0</td>\n",
              "      <td>1935</td>\n",
              "      <td>60964</td>\n",
              "      <td>hd</td>\n",
              "      <td>PT6M56S</td>\n",
              "    </tr>\n",
              "    <tr>\n",
              "      <th>2</th>\n",
              "      <td>jxe870HmYBE</td>\n",
              "      <td>en</td>\n",
              "      <td>Max Verstappen’s Icy Pre-Season Fun: Driving A...</td>\n",
              "      <td>2022-02-03T13:29:23Z</td>\n",
              "      <td>['red bull', 'redbull', 'action sports', 'extr...</td>\n",
              "      <td>80</td>\n",
              "      <td>1071</td>\n",
              "      <td>0</td>\n",
              "      <td>26752</td>\n",
              "      <td>742990</td>\n",
              "      <td>hd</td>\n",
              "      <td>PT2M6S</td>\n",
              "    </tr>\n",
              "    <tr>\n",
              "      <th>3</th>\n",
              "      <td>yxVOownOSRs</td>\n",
              "      <td>en</td>\n",
              "      <td>which runner are you? 🏃‍♀️</td>\n",
              "      <td>2022-02-01T17:09:05Z</td>\n",
              "      <td>None</td>\n",
              "      <td>1</td>\n",
              "      <td>62</td>\n",
              "      <td>0</td>\n",
              "      <td>1539</td>\n",
              "      <td>52319</td>\n",
              "      <td>hd</td>\n",
              "      <td>PT25S</td>\n",
              "    </tr>\n",
              "    <tr>\n",
              "      <th>4</th>\n",
              "      <td>3-yglCSCPng</td>\n",
              "      <td>en</td>\n",
              "      <td>incredible skiing skills that just look ✨ casu...</td>\n",
              "      <td>2022-01-14T13:00:01Z</td>\n",
              "      <td>None</td>\n",
              "      <td>1</td>\n",
              "      <td>46</td>\n",
              "      <td>0</td>\n",
              "      <td>5895</td>\n",
              "      <td>238147</td>\n",
              "      <td>hd</td>\n",
              "      <td>PT22S</td>\n",
              "    </tr>\n",
              "  </tbody>\n",
              "</table>\n",
              "</div>\n",
              "      <button class=\"colab-df-convert\" onclick=\"convertToInteractive('df-707b5861-90a8-4102-bd48-66b1746c972c')\"\n",
              "              title=\"Convert this dataframe to an interactive table.\"\n",
              "              style=\"display:none;\">\n",
              "        \n",
              "  <svg xmlns=\"http://www.w3.org/2000/svg\" height=\"24px\"viewBox=\"0 0 24 24\"\n",
              "       width=\"24px\">\n",
              "    <path d=\"M0 0h24v24H0V0z\" fill=\"none\"/>\n",
              "    <path d=\"M18.56 5.44l.94 2.06.94-2.06 2.06-.94-2.06-.94-.94-2.06-.94 2.06-2.06.94zm-11 1L8.5 8.5l.94-2.06 2.06-.94-2.06-.94L8.5 2.5l-.94 2.06-2.06.94zm10 10l.94 2.06.94-2.06 2.06-.94-2.06-.94-.94-2.06-.94 2.06-2.06.94z\"/><path d=\"M17.41 7.96l-1.37-1.37c-.4-.4-.92-.59-1.43-.59-.52 0-1.04.2-1.43.59L10.3 9.45l-7.72 7.72c-.78.78-.78 2.05 0 2.83L4 21.41c.39.39.9.59 1.41.59.51 0 1.02-.2 1.41-.59l7.78-7.78 2.81-2.81c.8-.78.8-2.07 0-2.86zM5.41 20L4 18.59l7.72-7.72 1.47 1.35L5.41 20z\"/>\n",
              "  </svg>\n",
              "      </button>\n",
              "      \n",
              "  <style>\n",
              "    .colab-df-container {\n",
              "      display:flex;\n",
              "      flex-wrap:wrap;\n",
              "      gap: 12px;\n",
              "    }\n",
              "\n",
              "    .colab-df-convert {\n",
              "      background-color: #E8F0FE;\n",
              "      border: none;\n",
              "      border-radius: 50%;\n",
              "      cursor: pointer;\n",
              "      display: none;\n",
              "      fill: #1967D2;\n",
              "      height: 32px;\n",
              "      padding: 0 0 0 0;\n",
              "      width: 32px;\n",
              "    }\n",
              "\n",
              "    .colab-df-convert:hover {\n",
              "      background-color: #E2EBFA;\n",
              "      box-shadow: 0px 1px 2px rgba(60, 64, 67, 0.3), 0px 1px 3px 1px rgba(60, 64, 67, 0.15);\n",
              "      fill: #174EA6;\n",
              "    }\n",
              "\n",
              "    [theme=dark] .colab-df-convert {\n",
              "      background-color: #3B4455;\n",
              "      fill: #D2E3FC;\n",
              "    }\n",
              "\n",
              "    [theme=dark] .colab-df-convert:hover {\n",
              "      background-color: #434B5C;\n",
              "      box-shadow: 0px 1px 3px 1px rgba(0, 0, 0, 0.15);\n",
              "      filter: drop-shadow(0px 1px 2px rgba(0, 0, 0, 0.3));\n",
              "      fill: #FFFFFF;\n",
              "    }\n",
              "  </style>\n",
              "\n",
              "      <script>\n",
              "        const buttonEl =\n",
              "          document.querySelector('#df-707b5861-90a8-4102-bd48-66b1746c972c button.colab-df-convert');\n",
              "        buttonEl.style.display =\n",
              "          google.colab.kernel.accessAllowed ? 'block' : 'none';\n",
              "\n",
              "        async function convertToInteractive(key) {\n",
              "          const element = document.querySelector('#df-707b5861-90a8-4102-bd48-66b1746c972c');\n",
              "          const dataTable =\n",
              "            await google.colab.kernel.invokeFunction('convertToInteractive',\n",
              "                                                     [key], {});\n",
              "          if (!dataTable) return;\n",
              "\n",
              "          const docLinkHtml = 'Like what you see? Visit the ' +\n",
              "            '<a target=\"_blank\" href=https://colab.research.google.com/notebooks/data_table.ipynb>data table notebook</a>'\n",
              "            + ' to learn more about interactive tables.';\n",
              "          element.innerHTML = '';\n",
              "          dataTable['output_type'] = 'display_data';\n",
              "          await google.colab.output.renderOutput(dataTable, element);\n",
              "          const docLink = document.createElement('div');\n",
              "          docLink.innerHTML = docLinkHtml;\n",
              "          element.appendChild(docLink);\n",
              "        }\n",
              "      </script>\n",
              "    </div>\n",
              "  </div>\n",
              "  "
            ],
            "text/plain": [
              "            id defaultAudioLanguage  ... definition duration\n",
              "0  xsPlB4WAmRc                   en  ...         hd    PT22S\n",
              "1  q-r6V_PgtcY                   en  ...         hd  PT6M56S\n",
              "2  jxe870HmYBE                   en  ...         hd   PT2M6S\n",
              "3  yxVOownOSRs                   en  ...         hd    PT25S\n",
              "4  3-yglCSCPng                   en  ...         hd    PT22S\n",
              "\n",
              "[5 rows x 12 columns]"
            ]
          },
          "metadata": {},
          "execution_count": 25
        }
      ]
    },
    {
      "cell_type": "markdown",
      "source": [
        "<h5 align='right'>Investigate a null columns e fill the NaN</h5>\n",
        "<hr color='f47b0a'>"
      ],
      "metadata": {
        "id": "NXEVHyXZZvQ1"
      }
    },
    {
      "cell_type": "code",
      "source": [
        "df['favoriteCount'].isnull().value_counts()"
      ],
      "metadata": {
        "colab": {
          "base_uri": "https://localhost:8080/"
        },
        "id": "nIke2KkKgcQh",
        "outputId": "da21dab5-c09a-473f-a066-4c3a18b19cd4"
      },
      "execution_count": 26,
      "outputs": [
        {
          "output_type": "execute_result",
          "data": {
            "text/plain": [
              "False    5723\n",
              "Name: favoriteCount, dtype: int64"
            ]
          },
          "metadata": {},
          "execution_count": 26
        }
      ]
    },
    {
      "cell_type": "code",
      "source": [
        "df['favoriteCount'].astype(int).plot()"
      ],
      "metadata": {
        "colab": {
          "base_uri": "https://localhost:8080/",
          "height": 282
        },
        "id": "0V7p9ePxZbht",
        "outputId": "ac3464c3-d742-4cbd-ff5b-e6dad0c57859"
      },
      "execution_count": 27,
      "outputs": [
        {
          "output_type": "execute_result",
          "data": {
            "text/plain": [
              "<matplotlib.axes._subplots.AxesSubplot at 0x7f6fde30bad0>"
            ]
          },
          "metadata": {},
          "execution_count": 27
        },
        {
          "output_type": "display_data",
          "data": {
            "image/png": "[encoded data removed]",
            "text/plain": [
              "<Figure size 432x288 with 1 Axes>"
            ]
          },
          "metadata": {
            "needs_background": "light"
          }
        }
      ]
    },
    {
      "cell_type": "code",
      "source": [
        "df=df.drop(columns=['favoriteCount'])"
      ],
      "metadata": {
        "id": "IbnmnOcfZkTb"
      },
      "execution_count": 28,
      "outputs": []
    },
    {
      "cell_type": "code",
      "source": [
        "df.isna().value_counts()"
      ],
      "metadata": {
        "colab": {
          "base_uri": "https://localhost:8080/"
        },
        "id": "UsP9qRdtb_1k",
        "outputId": "473610d5-5c64-4f95-acf2-eff9939a6b12"
      },
      "execution_count": 29,
      "outputs": [
        {
          "output_type": "execute_result",
          "data": {
            "text/plain": [
              "id     defaultAudioLanguage  title  publishedAt  tags   tagsCount  commentCount  likeCount  viewCount  definition  duration\n",
              "False  True                  False  False        False  False      False         False      False      False       False       3955\n",
              "       False                 False  False        False  False      False         False      False      False       False       1764\n",
              "                                                                   True          False      False      False       False          2\n",
              "       True                  False  False        False  False      False         True       False      False       False          2\n",
              "dtype: int64"
            ]
          },
          "metadata": {},
          "execution_count": 29
        }
      ]
    },
    {
      "cell_type": "code",
      "source": [
        "df=df.fillna(0)"
      ],
      "metadata": {
        "id": "NYkpoOBocNgI"
      },
      "execution_count": 30,
      "outputs": []
    },
    {
      "cell_type": "markdown",
      "source": [
        "<h5 align='right'>Change the data type</h5>\n",
        "<hr color='f47b0a'>"
      ],
      "metadata": {
        "id": "79gdzhllgiDG"
      }
    },
    {
      "cell_type": "code",
      "source": [
        "df['YearMonth'] = pd.to_datetime(df['publishedAt']).apply(lambda x: '{year}-{month}'.format(year=x.year, month=x.month))\n",
        "\n",
        "df['Year'] = pd.to_datetime(df['publishedAt']).apply(lambda x: '{year}'.format(year=x.year))\n",
        "df['reaction'] = df['commentCount']+df['likeCount']\n",
        "\n",
        "df['Year']=df['Year'].astype(int)\n",
        "df['YearMonth']=df['Year'].astype(int)\n",
        "res = df.groupby('Year').sum()\n"
      ],
      "metadata": {
        "id": "Qag67oXcjIc9"
      },
      "execution_count": 36,
      "outputs": []
    },
    {
      "cell_type": "code",
      "source": [
        "df['title']= pd.Series(df['title'], dtype=\"string\")\n"
      ],
      "metadata": {
        "id": "dcnWDutxy8Z2"
      },
      "execution_count": 38,
      "outputs": []
    },
    {
      "cell_type": "code",
      "source": [
        "df['publishedAt'] = pd.to_datetime(df['publishedAt'], infer_datetime_format=True)\n",
        "df['publishedAt'] = df['publishedAt'].dt.tz_localize(None) #to save as excel files\n",
        "df.info()"
      ],
      "metadata": {
        "colab": {
          "base_uri": "https://localhost:8080/"
        },
        "id": "Qj8NLOs7a3vH",
        "outputId": "11f114f5-5ee0-4fd7-9174-09509e6da861"
      },
      "execution_count": 39,
      "outputs": [
        {
          "output_type": "stream",
          "name": "stdout",
          "text": [
            "<class 'pandas.core.frame.DataFrame'>\n",
            "RangeIndex: 5723 entries, 0 to 5722\n",
            "Data columns (total 14 columns):\n",
            " #   Column                Non-Null Count  Dtype         \n",
            "---  ------                --------------  -----         \n",
            " 0   id                    5723 non-null   object        \n",
            " 1   defaultAudioLanguage  5723 non-null   object        \n",
            " 2   title                 5723 non-null   string        \n",
            " 3   publishedAt           5723 non-null   datetime64[ns]\n",
            " 4   tags                  5723 non-null   string        \n",
            " 5   tagsCount             5723 non-null   int64         \n",
            " 6   commentCount          5723 non-null   int64         \n",
            " 7   likeCount             5723 non-null   int64         \n",
            " 8   viewCount             5723 non-null   int64         \n",
            " 9   definition            5723 non-null   object        \n",
            " 10  duration              5723 non-null   object        \n",
            " 11  YearMonth             5723 non-null   int64         \n",
            " 12  Year                  5723 non-null   int64         \n",
            " 13  reaction              5723 non-null   int64         \n",
            "dtypes: datetime64[ns](1), int64(7), object(4), string(2)\n",
            "memory usage: 626.1+ KB\n"
          ]
        }
      ]
    },
    {
      "cell_type": "code",
      "source": [
        "df['likeCount'] = df['likeCount'].astype(int)\n",
        "df['commentCount'] =df['commentCount'].astype(int)\n",
        "df['viewCount'] =df['viewCount'].astype(int)\n",
        "df.info() \n"
      ],
      "metadata": {
        "colab": {
          "base_uri": "https://localhost:8080/"
        },
        "id": "rb29UpuqbBnv",
        "outputId": "ca97ac34-a1df-46e1-9e98-62072073681b"
      },
      "execution_count": 37,
      "outputs": [
        {
          "output_type": "stream",
          "name": "stdout",
          "text": [
            "<class 'pandas.core.frame.DataFrame'>\n",
            "RangeIndex: 5723 entries, 0 to 5722\n",
            "Data columns (total 14 columns):\n",
            " #   Column                Non-Null Count  Dtype         \n",
            "---  ------                --------------  -----         \n",
            " 0   id                    5723 non-null   object        \n",
            " 1   defaultAudioLanguage  5723 non-null   object        \n",
            " 2   title                 5723 non-null   string        \n",
            " 3   publishedAt           5723 non-null   datetime64[ns]\n",
            " 4   tags                  5723 non-null   string        \n",
            " 5   tagsCount             5723 non-null   int64         \n",
            " 6   commentCount          5723 non-null   int64         \n",
            " 7   likeCount             5723 non-null   int64         \n",
            " 8   viewCount             5723 non-null   int64         \n",
            " 9   definition            5723 non-null   object        \n",
            " 10  duration              5723 non-null   object        \n",
            " 11  YearMonth             5723 non-null   int64         \n",
            " 12  Year                  5723 non-null   int64         \n",
            " 13  reaction              5723 non-null   int64         \n",
            "dtypes: datetime64[ns](1), int64(7), object(4), string(2)\n",
            "memory usage: 626.1+ KB\n"
          ]
        }
      ]
    },
    {
      "cell_type": "code",
      "source": [
        "df['title'][0]"
      ],
      "metadata": {
        "colab": {
          "base_uri": "https://localhost:8080/",
          "height": 35
        },
        "id": "H_CZZTXa0U7T",
        "outputId": "7da57af9-b147-4158-e2a7-a4e849d117db"
      },
      "execution_count": 34,
      "outputs": [
        {
          "output_type": "execute_result",
          "data": {
            "application/vnd.google.colaboratory.intrinsic+json": {
              "type": "string"
            },
            "text/plain": [
              "'timbersports training is wild \\U0001fa9a \\U0001fa93'"
            ]
          },
          "metadata": {},
          "execution_count": 34
        }
      ]
    },
    {
      "cell_type": "markdown",
      "source": [
        "<h5 align='right'>Save the new dataset</h5>\n",
        "<hr color='f47b0a'>"
      ],
      "metadata": {
        "id": "rnDEeNEUgy-d"
      }
    },
    {
      "cell_type": "code",
      "source": [
        "df.to_excel(r'/content/drive/MyDrive/Colab Notebooks/video_data_clean.xlsx',\n",
        "            index = False, header=True)\n"
      ],
      "metadata": {
        "id": "S2kMpNYbbDin"
      },
      "execution_count": 40,
      "outputs": []
    }
  ]
}