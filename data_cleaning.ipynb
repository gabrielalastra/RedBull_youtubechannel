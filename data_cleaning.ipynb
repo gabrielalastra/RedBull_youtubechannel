{
  "nbformat": 4,
  "nbformat_minor": 0,
  "metadata": {
    "colab": {
      "name": "data_cleaning.ipynb",
      "provenance": [],
      "mount_file_id": "15tqAYbrqT30pOG3Jw7jlIvDbCtKczYXa",
      "authorship_tag": "ABX9TyPaWca1EHZJJfV4sxZv1Mf2"
    },
    "kernelspec": {
      "name": "python3",
      "display_name": "Python 3"
    },
    "language_info": {
      "name": "python"
    }
  },
  "cells": [
    {
      "cell_type": "code",
      "execution_count": 1,
      "metadata": {
        "id": "gqLJlZShLe06"
      },
      "outputs": [],
      "source": [
        "import pandas as pd\n",
        "import numpy as np"
      ]
    },
    {
      "cell_type": "markdown",
      "source": [
        "<h5 align='right'>Open the file</h5>\n",
        "<hr color='f47b0a'>"
      ],
      "metadata": {
        "id": "6d1gyG50L3wB"
      }
    },
    {
      "cell_type": "code",
      "source": [
        "path = '/content/drive/MyDrive/Colab Notebooks/video_data.json'"
      ],
      "metadata": {
        "id": "CB-kz3gYLjjp"
      },
      "execution_count": 2,
      "outputs": []
    },
    {
      "cell_type": "code",
      "source": [
        "df = pd.read_json(path)"
      ],
      "metadata": {
        "id": "gl9w_7smLtG5"
      },
      "execution_count": 3,
      "outputs": []
    },
    {
      "cell_type": "code",
      "source": [
        "df.head()"
      ],
      "metadata": {
        "colab": {
          "base_uri": "https://localhost:8080/",
          "height": 337
        },
        "id": "Cnh69vggLyss",
        "outputId": "52fc79e1-504b-4374-add6-32599ccbb3fb"
      },
      "execution_count": 4,
      "outputs": [
        {
          "output_type": "execute_result",
          "data": {
            "text/html": [
              "\n",
              "  <div id=\"df-d8a3bb26-253a-42f2-85b1-77b8f1f088c7\">\n",
              "    <div class=\"colab-df-container\">\n",
              "      <div>\n",
              "<style scoped>\n",
              "    .dataframe tbody tr th:only-of-type {\n",
              "        vertical-align: middle;\n",
              "    }\n",
              "\n",
              "    .dataframe tbody tr th {\n",
              "        vertical-align: top;\n",
              "    }\n",
              "\n",
              "    .dataframe thead th {\n",
              "        text-align: right;\n",
              "    }\n",
              "</style>\n",
              "<table border=\"1\" class=\"dataframe\">\n",
              "  <thead>\n",
              "    <tr style=\"text-align: right;\">\n",
              "      <th></th>\n",
              "      <th>kind</th>\n",
              "      <th>etag</th>\n",
              "      <th>id</th>\n",
              "      <th>snippet</th>\n",
              "      <th>contentDetails</th>\n",
              "      <th>statistics</th>\n",
              "    </tr>\n",
              "  </thead>\n",
              "  <tbody>\n",
              "    <tr>\n",
              "      <th>0</th>\n",
              "      <td>youtube#video</td>\n",
              "      <td>rk4G6cjfPsJOWXfVPdyD1ucdK8M</td>\n",
              "      <td>xsPlB4WAmRc</td>\n",
              "      <td>{'publishedAt': '2022-02-09T17:15:40Z', 'chann...</td>\n",
              "      <td>{'duration': 'PT22S', 'dimension': '2d', 'defi...</td>\n",
              "      <td>{'viewCount': '17937', 'likeCount': '683', 'fa...</td>\n",
              "    </tr>\n",
              "    <tr>\n",
              "      <th>1</th>\n",
              "      <td>youtube#video</td>\n",
              "      <td>-ETeRQ5BxE40A7OwGllp8ev5KB0</td>\n",
              "      <td>q-r6V_PgtcY</td>\n",
              "      <td>{'publishedAt': '2022-02-07T15:00:36Z', 'chann...</td>\n",
              "      <td>{'duration': 'PT6M56S', 'dimension': '2d', 'de...</td>\n",
              "      <td>{'viewCount': '44276', 'likeCount': '1648', 'f...</td>\n",
              "    </tr>\n",
              "    <tr>\n",
              "      <th>2</th>\n",
              "      <td>youtube#video</td>\n",
              "      <td>fpaPdZpqU7QWwCKoI3QuyAiVeuA</td>\n",
              "      <td>jxe870HmYBE</td>\n",
              "      <td>{'publishedAt': '2022-02-03T13:29:23Z', 'chann...</td>\n",
              "      <td>{'duration': 'PT2M6S', 'dimension': '2d', 'def...</td>\n",
              "      <td>{'viewCount': '736149', 'likeCount': '26474', ...</td>\n",
              "    </tr>\n",
              "    <tr>\n",
              "      <th>3</th>\n",
              "      <td>youtube#video</td>\n",
              "      <td>mjZEl_rnfe0R5GfamSImpzajGOY</td>\n",
              "      <td>yxVOownOSRs</td>\n",
              "      <td>{'publishedAt': '2022-02-01T17:09:05Z', 'chann...</td>\n",
              "      <td>{'duration': 'PT25S', 'dimension': '2d', 'defi...</td>\n",
              "      <td>{'viewCount': '49527', 'likeCount': '1478', 'f...</td>\n",
              "    </tr>\n",
              "    <tr>\n",
              "      <th>4</th>\n",
              "      <td>youtube#video</td>\n",
              "      <td>2RCwJcwy7XNDJMOjqujRhnuN8aQ</td>\n",
              "      <td>3-yglCSCPng</td>\n",
              "      <td>{'publishedAt': '2022-01-14T13:00:01Z', 'chann...</td>\n",
              "      <td>{'duration': 'PT22S', 'dimension': '2d', 'defi...</td>\n",
              "      <td>{'viewCount': '227869', 'likeCount': '5702', '...</td>\n",
              "    </tr>\n",
              "  </tbody>\n",
              "</table>\n",
              "</div>\n",
              "      <button class=\"colab-df-convert\" onclick=\"convertToInteractive('df-d8a3bb26-253a-42f2-85b1-77b8f1f088c7')\"\n",
              "              title=\"Convert this dataframe to an interactive table.\"\n",
              "              style=\"display:none;\">\n",
              "        \n",
              "  <svg xmlns=\"http://www.w3.org/2000/svg\" height=\"24px\"viewBox=\"0 0 24 24\"\n",
              "       width=\"24px\">\n",
              "    <path d=\"M0 0h24v24H0V0z\" fill=\"none\"/>\n",
              "    <path d=\"M18.56 5.44l.94 2.06.94-2.06 2.06-.94-2.06-.94-.94-2.06-.94 2.06-2.06.94zm-11 1L8.5 8.5l.94-2.06 2.06-.94-2.06-.94L8.5 2.5l-.94 2.06-2.06.94zm10 10l.94 2.06.94-2.06 2.06-.94-2.06-.94-.94-2.06-.94 2.06-2.06.94z\"/><path d=\"M17.41 7.96l-1.37-1.37c-.4-.4-.92-.59-1.43-.59-.52 0-1.04.2-1.43.59L10.3 9.45l-7.72 7.72c-.78.78-.78 2.05 0 2.83L4 21.41c.39.39.9.59 1.41.59.51 0 1.02-.2 1.41-.59l7.78-7.78 2.81-2.81c.8-.78.8-2.07 0-2.86zM5.41 20L4 18.59l7.72-7.72 1.47 1.35L5.41 20z\"/>\n",
              "  </svg>\n",
              "      </button>\n",
              "      \n",
              "  <style>\n",
              "    .colab-df-container {\n",
              "      display:flex;\n",
              "      flex-wrap:wrap;\n",
              "      gap: 12px;\n",
              "    }\n",
              "\n",
              "    .colab-df-convert {\n",
              "      background-color: #E8F0FE;\n",
              "      border: none;\n",
              "      border-radius: 50%;\n",
              "      cursor: pointer;\n",
              "      display: none;\n",
              "      fill: #1967D2;\n",
              "      height: 32px;\n",
              "      padding: 0 0 0 0;\n",
              "      width: 32px;\n",
              "    }\n",
              "\n",
              "    .colab-df-convert:hover {\n",
              "      background-color: #E2EBFA;\n",
              "      box-shadow: 0px 1px 2px rgba(60, 64, 67, 0.3), 0px 1px 3px 1px rgba(60, 64, 67, 0.15);\n",
              "      fill: #174EA6;\n",
              "    }\n",
              "\n",
              "    [theme=dark] .colab-df-convert {\n",
              "      background-color: #3B4455;\n",
              "      fill: #D2E3FC;\n",
              "    }\n",
              "\n",
              "    [theme=dark] .colab-df-convert:hover {\n",
              "      background-color: #434B5C;\n",
              "      box-shadow: 0px 1px 3px 1px rgba(0, 0, 0, 0.15);\n",
              "      filter: drop-shadow(0px 1px 2px rgba(0, 0, 0, 0.3));\n",
              "      fill: #FFFFFF;\n",
              "    }\n",
              "  </style>\n",
              "\n",
              "      <script>\n",
              "        const buttonEl =\n",
              "          document.querySelector('#df-d8a3bb26-253a-42f2-85b1-77b8f1f088c7 button.colab-df-convert');\n",
              "        buttonEl.style.display =\n",
              "          google.colab.kernel.accessAllowed ? 'block' : 'none';\n",
              "\n",
              "        async function convertToInteractive(key) {\n",
              "          const element = document.querySelector('#df-d8a3bb26-253a-42f2-85b1-77b8f1f088c7');\n",
              "          const dataTable =\n",
              "            await google.colab.kernel.invokeFunction('convertToInteractive',\n",
              "                                                     [key], {});\n",
              "          if (!dataTable) return;\n",
              "\n",
              "          const docLinkHtml = 'Like what you see? Visit the ' +\n",
              "            '<a target=\"_blank\" href=https://colab.research.google.com/notebooks/data_table.ipynb>data table notebook</a>'\n",
              "            + ' to learn more about interactive tables.';\n",
              "          element.innerHTML = '';\n",
              "          dataTable['output_type'] = 'display_data';\n",
              "          await google.colab.output.renderOutput(dataTable, element);\n",
              "          const docLink = document.createElement('div');\n",
              "          docLink.innerHTML = docLinkHtml;\n",
              "          element.appendChild(docLink);\n",
              "        }\n",
              "      </script>\n",
              "    </div>\n",
              "  </div>\n",
              "  "
            ],
            "text/plain": [
              "            kind  ...                                         statistics\n",
              "0  youtube#video  ...  {'viewCount': '17937', 'likeCount': '683', 'fa...\n",
              "1  youtube#video  ...  {'viewCount': '44276', 'likeCount': '1648', 'f...\n",
              "2  youtube#video  ...  {'viewCount': '736149', 'likeCount': '26474', ...\n",
              "3  youtube#video  ...  {'viewCount': '49527', 'likeCount': '1478', 'f...\n",
              "4  youtube#video  ...  {'viewCount': '227869', 'likeCount': '5702', '...\n",
              "\n",
              "[5 rows x 6 columns]"
            ]
          },
          "metadata": {},
          "execution_count": 4
        }
      ]
    },
    {
      "cell_type": "code",
      "source": [
        "df.info()"
      ],
      "metadata": {
        "colab": {
          "base_uri": "https://localhost:8080/"
        },
        "id": "0aG6cdRMLzav",
        "outputId": "aa8198f3-a00e-41da-fda7-f9bf0c117252"
      },
      "execution_count": 5,
      "outputs": [
        {
          "output_type": "stream",
          "name": "stdout",
          "text": [
            "<class 'pandas.core.frame.DataFrame'>\n",
            "RangeIndex: 5723 entries, 0 to 5722\n",
            "Data columns (total 6 columns):\n",
            " #   Column          Non-Null Count  Dtype \n",
            "---  ------          --------------  ----- \n",
            " 0   kind            5723 non-null   object\n",
            " 1   etag            5723 non-null   object\n",
            " 2   id              5723 non-null   object\n",
            " 3   snippet         5723 non-null   object\n",
            " 4   contentDetails  5723 non-null   object\n",
            " 5   statistics      5723 non-null   object\n",
            "dtypes: object(6)\n",
            "memory usage: 268.4+ KB\n"
          ]
        }
      ]
    },
    {
      "cell_type": "code",
      "source": [
        "df = df.drop(columns=['etag', 'kind'])"
      ],
      "metadata": {
        "id": "Qa-xZ-VtXIS7"
      },
      "execution_count": 6,
      "outputs": []
    },
    {
      "cell_type": "markdown",
      "source": [
        "<h5 align='right'>Select Desired Subcolumns</h5>\n",
        "<hr color='f47b0a'>"
      ],
      "metadata": {
        "id": "zWHpSbupf-8y"
      }
    },
    {
      "cell_type": "code",
      "source": [
        "df['snippet'][0]"
      ],
      "metadata": {
        "colab": {
          "base_uri": "https://localhost:8080/"
        },
        "id": "D8E7zqY2MG2x",
        "outputId": "95898e02-1868-480e-bf4c-261329a35cce"
      },
      "execution_count": 7,
      "outputs": [
        {
          "output_type": "execute_result",
          "data": {
            "text/plain": [
              "{'categoryId': '17',\n",
              " 'channelId': 'UCblfuW_4rakIf2h6aqANefA',\n",
              " 'channelTitle': 'Red Bull',\n",
              " 'defaultAudioLanguage': 'en',\n",
              " 'description': '',\n",
              " 'liveBroadcastContent': 'none',\n",
              " 'localized': {'description': '',\n",
              "  'title': 'timbersports training is wild \\U0001fa9a \\U0001fa93'},\n",
              " 'publishedAt': '2022-02-09T17:15:40Z',\n",
              " 'thumbnails': {'default': {'height': 90,\n",
              "   'url': 'https://i.ytimg.com/vi/xsPlB4WAmRc/default.jpg',\n",
              "   'width': 120},\n",
              "  'high': {'height': 360,\n",
              "   'url': 'https://i.ytimg.com/vi/xsPlB4WAmRc/hqdefault.jpg',\n",
              "   'width': 480},\n",
              "  'maxres': {'height': 720,\n",
              "   'url': 'https://i.ytimg.com/vi/xsPlB4WAmRc/maxresdefault.jpg',\n",
              "   'width': 1280},\n",
              "  'medium': {'height': 180,\n",
              "   'url': 'https://i.ytimg.com/vi/xsPlB4WAmRc/mqdefault.jpg',\n",
              "   'width': 320},\n",
              "  'standard': {'height': 480,\n",
              "   'url': 'https://i.ytimg.com/vi/xsPlB4WAmRc/sddefault.jpg',\n",
              "   'width': 640}},\n",
              " 'title': 'timbersports training is wild \\U0001fa9a \\U0001fa93'}"
            ]
          },
          "metadata": {},
          "execution_count": 7
        }
      ]
    },
    {
      "cell_type": "code",
      "source": [
        "mask = df['snippet'].apply(pd.Series)\n",
        "df['defaultAudioLanguage'] = mask['defaultAudioLanguage']\n",
        "df['title'] = mask['title']\n",
        "df['publishedAt']= mask['publishedAt']\n",
        "df = df.drop(columns=['snippet'])\n",
        "df.head()"
      ],
      "metadata": {
        "colab": {
          "base_uri": "https://localhost:8080/",
          "height": 337
        },
        "id": "Ja_9g4v1Wr4x",
        "outputId": "ad2046f6-1a40-4093-8bbd-6896e2a69114"
      },
      "execution_count": 8,
      "outputs": [
        {
          "output_type": "execute_result",
          "data": {
            "text/html": [
              "\n",
              "  <div id=\"df-441b0437-cab8-40a2-8232-ee1d629ce3dd\">\n",
              "    <div class=\"colab-df-container\">\n",
              "      <div>\n",
              "<style scoped>\n",
              "    .dataframe tbody tr th:only-of-type {\n",
              "        vertical-align: middle;\n",
              "    }\n",
              "\n",
              "    .dataframe tbody tr th {\n",
              "        vertical-align: top;\n",
              "    }\n",
              "\n",
              "    .dataframe thead th {\n",
              "        text-align: right;\n",
              "    }\n",
              "</style>\n",
              "<table border=\"1\" class=\"dataframe\">\n",
              "  <thead>\n",
              "    <tr style=\"text-align: right;\">\n",
              "      <th></th>\n",
              "      <th>id</th>\n",
              "      <th>contentDetails</th>\n",
              "      <th>statistics</th>\n",
              "      <th>defaultAudioLanguage</th>\n",
              "      <th>title</th>\n",
              "      <th>publishedAt</th>\n",
              "    </tr>\n",
              "  </thead>\n",
              "  <tbody>\n",
              "    <tr>\n",
              "      <th>0</th>\n",
              "      <td>xsPlB4WAmRc</td>\n",
              "      <td>{'duration': 'PT22S', 'dimension': '2d', 'defi...</td>\n",
              "      <td>{'viewCount': '17937', 'likeCount': '683', 'fa...</td>\n",
              "      <td>en</td>\n",
              "      <td>timbersports training is wild 🪚 🪓</td>\n",
              "      <td>2022-02-09T17:15:40Z</td>\n",
              "    </tr>\n",
              "    <tr>\n",
              "      <th>1</th>\n",
              "      <td>q-r6V_PgtcY</td>\n",
              "      <td>{'duration': 'PT6M56S', 'dimension': '2d', 'de...</td>\n",
              "      <td>{'viewCount': '44276', 'likeCount': '1648', 'f...</td>\n",
              "      <td>en</td>\n",
              "      <td>Jet Boats For Breakfast &amp; Backcountry Sled Lau...</td>\n",
              "      <td>2022-02-07T15:00:36Z</td>\n",
              "    </tr>\n",
              "    <tr>\n",
              "      <th>2</th>\n",
              "      <td>jxe870HmYBE</td>\n",
              "      <td>{'duration': 'PT2M6S', 'dimension': '2d', 'def...</td>\n",
              "      <td>{'viewCount': '736149', 'likeCount': '26474', ...</td>\n",
              "      <td>en</td>\n",
              "      <td>Max Verstappen’s Icy Pre-Season Fun: Driving A...</td>\n",
              "      <td>2022-02-03T13:29:23Z</td>\n",
              "    </tr>\n",
              "    <tr>\n",
              "      <th>3</th>\n",
              "      <td>yxVOownOSRs</td>\n",
              "      <td>{'duration': 'PT25S', 'dimension': '2d', 'defi...</td>\n",
              "      <td>{'viewCount': '49527', 'likeCount': '1478', 'f...</td>\n",
              "      <td>en</td>\n",
              "      <td>which runner are you? 🏃‍♀️</td>\n",
              "      <td>2022-02-01T17:09:05Z</td>\n",
              "    </tr>\n",
              "    <tr>\n",
              "      <th>4</th>\n",
              "      <td>3-yglCSCPng</td>\n",
              "      <td>{'duration': 'PT22S', 'dimension': '2d', 'defi...</td>\n",
              "      <td>{'viewCount': '227869', 'likeCount': '5702', '...</td>\n",
              "      <td>en</td>\n",
              "      <td>incredible skiing skills that just look ✨ casu...</td>\n",
              "      <td>2022-01-14T13:00:01Z</td>\n",
              "    </tr>\n",
              "  </tbody>\n",
              "</table>\n",
              "</div>\n",
              "      <button class=\"colab-df-convert\" onclick=\"convertToInteractive('df-441b0437-cab8-40a2-8232-ee1d629ce3dd')\"\n",
              "              title=\"Convert this dataframe to an interactive table.\"\n",
              "              style=\"display:none;\">\n",
              "        \n",
              "  <svg xmlns=\"http://www.w3.org/2000/svg\" height=\"24px\"viewBox=\"0 0 24 24\"\n",
              "       width=\"24px\">\n",
              "    <path d=\"M0 0h24v24H0V0z\" fill=\"none\"/>\n",
              "    <path d=\"M18.56 5.44l.94 2.06.94-2.06 2.06-.94-2.06-.94-.94-2.06-.94 2.06-2.06.94zm-11 1L8.5 8.5l.94-2.06 2.06-.94-2.06-.94L8.5 2.5l-.94 2.06-2.06.94zm10 10l.94 2.06.94-2.06 2.06-.94-2.06-.94-.94-2.06-.94 2.06-2.06.94z\"/><path d=\"M17.41 7.96l-1.37-1.37c-.4-.4-.92-.59-1.43-.59-.52 0-1.04.2-1.43.59L10.3 9.45l-7.72 7.72c-.78.78-.78 2.05 0 2.83L4 21.41c.39.39.9.59 1.41.59.51 0 1.02-.2 1.41-.59l7.78-7.78 2.81-2.81c.8-.78.8-2.07 0-2.86zM5.41 20L4 18.59l7.72-7.72 1.47 1.35L5.41 20z\"/>\n",
              "  </svg>\n",
              "      </button>\n",
              "      \n",
              "  <style>\n",
              "    .colab-df-container {\n",
              "      display:flex;\n",
              "      flex-wrap:wrap;\n",
              "      gap: 12px;\n",
              "    }\n",
              "\n",
              "    .colab-df-convert {\n",
              "      background-color: #E8F0FE;\n",
              "      border: none;\n",
              "      border-radius: 50%;\n",
              "      cursor: pointer;\n",
              "      display: none;\n",
              "      fill: #1967D2;\n",
              "      height: 32px;\n",
              "      padding: 0 0 0 0;\n",
              "      width: 32px;\n",
              "    }\n",
              "\n",
              "    .colab-df-convert:hover {\n",
              "      background-color: #E2EBFA;\n",
              "      box-shadow: 0px 1px 2px rgba(60, 64, 67, 0.3), 0px 1px 3px 1px rgba(60, 64, 67, 0.15);\n",
              "      fill: #174EA6;\n",
              "    }\n",
              "\n",
              "    [theme=dark] .colab-df-convert {\n",
              "      background-color: #3B4455;\n",
              "      fill: #D2E3FC;\n",
              "    }\n",
              "\n",
              "    [theme=dark] .colab-df-convert:hover {\n",
              "      background-color: #434B5C;\n",
              "      box-shadow: 0px 1px 3px 1px rgba(0, 0, 0, 0.15);\n",
              "      filter: drop-shadow(0px 1px 2px rgba(0, 0, 0, 0.3));\n",
              "      fill: #FFFFFF;\n",
              "    }\n",
              "  </style>\n",
              "\n",
              "      <script>\n",
              "        const buttonEl =\n",
              "          document.querySelector('#df-441b0437-cab8-40a2-8232-ee1d629ce3dd button.colab-df-convert');\n",
              "        buttonEl.style.display =\n",
              "          google.colab.kernel.accessAllowed ? 'block' : 'none';\n",
              "\n",
              "        async function convertToInteractive(key) {\n",
              "          const element = document.querySelector('#df-441b0437-cab8-40a2-8232-ee1d629ce3dd');\n",
              "          const dataTable =\n",
              "            await google.colab.kernel.invokeFunction('convertToInteractive',\n",
              "                                                     [key], {});\n",
              "          if (!dataTable) return;\n",
              "\n",
              "          const docLinkHtml = 'Like what you see? Visit the ' +\n",
              "            '<a target=\"_blank\" href=https://colab.research.google.com/notebooks/data_table.ipynb>data table notebook</a>'\n",
              "            + ' to learn more about interactive tables.';\n",
              "          element.innerHTML = '';\n",
              "          dataTable['output_type'] = 'display_data';\n",
              "          await google.colab.output.renderOutput(dataTable, element);\n",
              "          const docLink = document.createElement('div');\n",
              "          docLink.innerHTML = docLinkHtml;\n",
              "          element.appendChild(docLink);\n",
              "        }\n",
              "      </script>\n",
              "    </div>\n",
              "  </div>\n",
              "  "
            ],
            "text/plain": [
              "            id  ...           publishedAt\n",
              "0  xsPlB4WAmRc  ...  2022-02-09T17:15:40Z\n",
              "1  q-r6V_PgtcY  ...  2022-02-07T15:00:36Z\n",
              "2  jxe870HmYBE  ...  2022-02-03T13:29:23Z\n",
              "3  yxVOownOSRs  ...  2022-02-01T17:09:05Z\n",
              "4  3-yglCSCPng  ...  2022-01-14T13:00:01Z\n",
              "\n",
              "[5 rows x 6 columns]"
            ]
          },
          "metadata": {},
          "execution_count": 8
        }
      ]
    },
    {
      "cell_type": "code",
      "source": [
        "df['statistics'][0]"
      ],
      "metadata": {
        "colab": {
          "base_uri": "https://localhost:8080/"
        },
        "id": "6-eD4Uw8Vpzl",
        "outputId": "db591285-1a27-4594-b1c6-181c026e4d99"
      },
      "execution_count": 9,
      "outputs": [
        {
          "output_type": "execute_result",
          "data": {
            "text/plain": [
              "{'commentCount': '12',\n",
              " 'favoriteCount': '0',\n",
              " 'likeCount': '683',\n",
              " 'viewCount': '17937'}"
            ]
          },
          "metadata": {},
          "execution_count": 9
        }
      ]
    },
    {
      "cell_type": "code",
      "source": [
        "mask2 = df['statistics'].apply(pd.Series)\n",
        "df['commentCount'] = mask2['commentCount']\n",
        "df['favoriteCount'] = mask2['favoriteCount']\n",
        "df['likeCount'] = mask2['likeCount']\n",
        "df['viewCount'] = mask2['viewCount']\n",
        "df= df.drop(columns=['statistics'])\n",
        "df.head()"
      ],
      "metadata": {
        "colab": {
          "base_uri": "https://localhost:8080/",
          "height": 337
        },
        "id": "k8xNRMxzX8Dm",
        "outputId": "a877c9f4-3282-48dd-b69b-5a8650f2b36a"
      },
      "execution_count": 10,
      "outputs": [
        {
          "output_type": "execute_result",
          "data": {
            "text/html": [
              "\n",
              "  <div id=\"df-d7130b5d-1552-4d1d-b878-a5daed168727\">\n",
              "    <div class=\"colab-df-container\">\n",
              "      <div>\n",
              "<style scoped>\n",
              "    .dataframe tbody tr th:only-of-type {\n",
              "        vertical-align: middle;\n",
              "    }\n",
              "\n",
              "    .dataframe tbody tr th {\n",
              "        vertical-align: top;\n",
              "    }\n",
              "\n",
              "    .dataframe thead th {\n",
              "        text-align: right;\n",
              "    }\n",
              "</style>\n",
              "<table border=\"1\" class=\"dataframe\">\n",
              "  <thead>\n",
              "    <tr style=\"text-align: right;\">\n",
              "      <th></th>\n",
              "      <th>id</th>\n",
              "      <th>contentDetails</th>\n",
              "      <th>defaultAudioLanguage</th>\n",
              "      <th>title</th>\n",
              "      <th>publishedAt</th>\n",
              "      <th>commentCount</th>\n",
              "      <th>favoriteCount</th>\n",
              "      <th>likeCount</th>\n",
              "      <th>viewCount</th>\n",
              "    </tr>\n",
              "  </thead>\n",
              "  <tbody>\n",
              "    <tr>\n",
              "      <th>0</th>\n",
              "      <td>xsPlB4WAmRc</td>\n",
              "      <td>{'duration': 'PT22S', 'dimension': '2d', 'defi...</td>\n",
              "      <td>en</td>\n",
              "      <td>timbersports training is wild 🪚 🪓</td>\n",
              "      <td>2022-02-09T17:15:40Z</td>\n",
              "      <td>12</td>\n",
              "      <td>0</td>\n",
              "      <td>683</td>\n",
              "      <td>17937</td>\n",
              "    </tr>\n",
              "    <tr>\n",
              "      <th>1</th>\n",
              "      <td>q-r6V_PgtcY</td>\n",
              "      <td>{'duration': 'PT6M56S', 'dimension': '2d', 'de...</td>\n",
              "      <td>en</td>\n",
              "      <td>Jet Boats For Breakfast &amp; Backcountry Sled Lau...</td>\n",
              "      <td>2022-02-07T15:00:36Z</td>\n",
              "      <td>78</td>\n",
              "      <td>0</td>\n",
              "      <td>1648</td>\n",
              "      <td>44276</td>\n",
              "    </tr>\n",
              "    <tr>\n",
              "      <th>2</th>\n",
              "      <td>jxe870HmYBE</td>\n",
              "      <td>{'duration': 'PT2M6S', 'dimension': '2d', 'def...</td>\n",
              "      <td>en</td>\n",
              "      <td>Max Verstappen’s Icy Pre-Season Fun: Driving A...</td>\n",
              "      <td>2022-02-03T13:29:23Z</td>\n",
              "      <td>1064</td>\n",
              "      <td>0</td>\n",
              "      <td>26474</td>\n",
              "      <td>736149</td>\n",
              "    </tr>\n",
              "    <tr>\n",
              "      <th>3</th>\n",
              "      <td>yxVOownOSRs</td>\n",
              "      <td>{'duration': 'PT25S', 'dimension': '2d', 'defi...</td>\n",
              "      <td>en</td>\n",
              "      <td>which runner are you? 🏃‍♀️</td>\n",
              "      <td>2022-02-01T17:09:05Z</td>\n",
              "      <td>61</td>\n",
              "      <td>0</td>\n",
              "      <td>1478</td>\n",
              "      <td>49527</td>\n",
              "    </tr>\n",
              "    <tr>\n",
              "      <th>4</th>\n",
              "      <td>3-yglCSCPng</td>\n",
              "      <td>{'duration': 'PT22S', 'dimension': '2d', 'defi...</td>\n",
              "      <td>en</td>\n",
              "      <td>incredible skiing skills that just look ✨ casu...</td>\n",
              "      <td>2022-01-14T13:00:01Z</td>\n",
              "      <td>43</td>\n",
              "      <td>0</td>\n",
              "      <td>5702</td>\n",
              "      <td>227869</td>\n",
              "    </tr>\n",
              "  </tbody>\n",
              "</table>\n",
              "</div>\n",
              "      <button class=\"colab-df-convert\" onclick=\"convertToInteractive('df-d7130b5d-1552-4d1d-b878-a5daed168727')\"\n",
              "              title=\"Convert this dataframe to an interactive table.\"\n",
              "              style=\"display:none;\">\n",
              "        \n",
              "  <svg xmlns=\"http://www.w3.org/2000/svg\" height=\"24px\"viewBox=\"0 0 24 24\"\n",
              "       width=\"24px\">\n",
              "    <path d=\"M0 0h24v24H0V0z\" fill=\"none\"/>\n",
              "    <path d=\"M18.56 5.44l.94 2.06.94-2.06 2.06-.94-2.06-.94-.94-2.06-.94 2.06-2.06.94zm-11 1L8.5 8.5l.94-2.06 2.06-.94-2.06-.94L8.5 2.5l-.94 2.06-2.06.94zm10 10l.94 2.06.94-2.06 2.06-.94-2.06-.94-.94-2.06-.94 2.06-2.06.94z\"/><path d=\"M17.41 7.96l-1.37-1.37c-.4-.4-.92-.59-1.43-.59-.52 0-1.04.2-1.43.59L10.3 9.45l-7.72 7.72c-.78.78-.78 2.05 0 2.83L4 21.41c.39.39.9.59 1.41.59.51 0 1.02-.2 1.41-.59l7.78-7.78 2.81-2.81c.8-.78.8-2.07 0-2.86zM5.41 20L4 18.59l7.72-7.72 1.47 1.35L5.41 20z\"/>\n",
              "  </svg>\n",
              "      </button>\n",
              "      \n",
              "  <style>\n",
              "    .colab-df-container {\n",
              "      display:flex;\n",
              "      flex-wrap:wrap;\n",
              "      gap: 12px;\n",
              "    }\n",
              "\n",
              "    .colab-df-convert {\n",
              "      background-color: #E8F0FE;\n",
              "      border: none;\n",
              "      border-radius: 50%;\n",
              "      cursor: pointer;\n",
              "      display: none;\n",
              "      fill: #1967D2;\n",
              "      height: 32px;\n",
              "      padding: 0 0 0 0;\n",
              "      width: 32px;\n",
              "    }\n",
              "\n",
              "    .colab-df-convert:hover {\n",
              "      background-color: #E2EBFA;\n",
              "      box-shadow: 0px 1px 2px rgba(60, 64, 67, 0.3), 0px 1px 3px 1px rgba(60, 64, 67, 0.15);\n",
              "      fill: #174EA6;\n",
              "    }\n",
              "\n",
              "    [theme=dark] .colab-df-convert {\n",
              "      background-color: #3B4455;\n",
              "      fill: #D2E3FC;\n",
              "    }\n",
              "\n",
              "    [theme=dark] .colab-df-convert:hover {\n",
              "      background-color: #434B5C;\n",
              "      box-shadow: 0px 1px 3px 1px rgba(0, 0, 0, 0.15);\n",
              "      filter: drop-shadow(0px 1px 2px rgba(0, 0, 0, 0.3));\n",
              "      fill: #FFFFFF;\n",
              "    }\n",
              "  </style>\n",
              "\n",
              "      <script>\n",
              "        const buttonEl =\n",
              "          document.querySelector('#df-d7130b5d-1552-4d1d-b878-a5daed168727 button.colab-df-convert');\n",
              "        buttonEl.style.display =\n",
              "          google.colab.kernel.accessAllowed ? 'block' : 'none';\n",
              "\n",
              "        async function convertToInteractive(key) {\n",
              "          const element = document.querySelector('#df-d7130b5d-1552-4d1d-b878-a5daed168727');\n",
              "          const dataTable =\n",
              "            await google.colab.kernel.invokeFunction('convertToInteractive',\n",
              "                                                     [key], {});\n",
              "          if (!dataTable) return;\n",
              "\n",
              "          const docLinkHtml = 'Like what you see? Visit the ' +\n",
              "            '<a target=\"_blank\" href=https://colab.research.google.com/notebooks/data_table.ipynb>data table notebook</a>'\n",
              "            + ' to learn more about interactive tables.';\n",
              "          element.innerHTML = '';\n",
              "          dataTable['output_type'] = 'display_data';\n",
              "          await google.colab.output.renderOutput(dataTable, element);\n",
              "          const docLink = document.createElement('div');\n",
              "          docLink.innerHTML = docLinkHtml;\n",
              "          element.appendChild(docLink);\n",
              "        }\n",
              "      </script>\n",
              "    </div>\n",
              "  </div>\n",
              "  "
            ],
            "text/plain": [
              "            id  ... viewCount\n",
              "0  xsPlB4WAmRc  ...     17937\n",
              "1  q-r6V_PgtcY  ...     44276\n",
              "2  jxe870HmYBE  ...    736149\n",
              "3  yxVOownOSRs  ...     49527\n",
              "4  3-yglCSCPng  ...    227869\n",
              "\n",
              "[5 rows x 9 columns]"
            ]
          },
          "metadata": {},
          "execution_count": 10
        }
      ]
    },
    {
      "cell_type": "code",
      "source": [
        "df['contentDetails'][0]"
      ],
      "metadata": {
        "colab": {
          "base_uri": "https://localhost:8080/"
        },
        "id": "rmjO63haWH52",
        "outputId": "60010f3b-c2a2-4e46-81fe-e1d122a2dfad"
      },
      "execution_count": 11,
      "outputs": [
        {
          "output_type": "execute_result",
          "data": {
            "text/plain": [
              "{'caption': 'false',\n",
              " 'contentRating': {},\n",
              " 'definition': 'hd',\n",
              " 'dimension': '2d',\n",
              " 'duration': 'PT22S',\n",
              " 'licensedContent': False,\n",
              " 'projection': 'rectangular'}"
            ]
          },
          "metadata": {},
          "execution_count": 11
        }
      ]
    },
    {
      "cell_type": "code",
      "source": [
        "mask3 = df['contentDetails'].apply(pd.Series)\n",
        "df['definition'] = mask3['definition']\n",
        "df['duration'] = mask3['duration']\n",
        "df= df.drop(columns=['contentDetails'])"
      ],
      "metadata": {
        "id": "Dm4bYd56WkMt"
      },
      "execution_count": 12,
      "outputs": []
    },
    {
      "cell_type": "code",
      "source": [
        "df.head()"
      ],
      "metadata": {
        "colab": {
          "base_uri": "https://localhost:8080/",
          "height": 337
        },
        "id": "3Urdfb9nZJLu",
        "outputId": "02c54f2c-baaf-4dea-e15d-a132e325c455"
      },
      "execution_count": 13,
      "outputs": [
        {
          "output_type": "execute_result",
          "data": {
            "text/html": [
              "\n",
              "  <div id=\"df-9e4804bf-1f37-4378-81b8-b233bc76693b\">\n",
              "    <div class=\"colab-df-container\">\n",
              "      <div>\n",
              "<style scoped>\n",
              "    .dataframe tbody tr th:only-of-type {\n",
              "        vertical-align: middle;\n",
              "    }\n",
              "\n",
              "    .dataframe tbody tr th {\n",
              "        vertical-align: top;\n",
              "    }\n",
              "\n",
              "    .dataframe thead th {\n",
              "        text-align: right;\n",
              "    }\n",
              "</style>\n",
              "<table border=\"1\" class=\"dataframe\">\n",
              "  <thead>\n",
              "    <tr style=\"text-align: right;\">\n",
              "      <th></th>\n",
              "      <th>id</th>\n",
              "      <th>defaultAudioLanguage</th>\n",
              "      <th>title</th>\n",
              "      <th>publishedAt</th>\n",
              "      <th>commentCount</th>\n",
              "      <th>favoriteCount</th>\n",
              "      <th>likeCount</th>\n",
              "      <th>viewCount</th>\n",
              "      <th>definition</th>\n",
              "      <th>duration</th>\n",
              "    </tr>\n",
              "  </thead>\n",
              "  <tbody>\n",
              "    <tr>\n",
              "      <th>0</th>\n",
              "      <td>xsPlB4WAmRc</td>\n",
              "      <td>en</td>\n",
              "      <td>timbersports training is wild 🪚 🪓</td>\n",
              "      <td>2022-02-09T17:15:40Z</td>\n",
              "      <td>12</td>\n",
              "      <td>0</td>\n",
              "      <td>683</td>\n",
              "      <td>17937</td>\n",
              "      <td>hd</td>\n",
              "      <td>PT22S</td>\n",
              "    </tr>\n",
              "    <tr>\n",
              "      <th>1</th>\n",
              "      <td>q-r6V_PgtcY</td>\n",
              "      <td>en</td>\n",
              "      <td>Jet Boats For Breakfast &amp; Backcountry Sled Lau...</td>\n",
              "      <td>2022-02-07T15:00:36Z</td>\n",
              "      <td>78</td>\n",
              "      <td>0</td>\n",
              "      <td>1648</td>\n",
              "      <td>44276</td>\n",
              "      <td>hd</td>\n",
              "      <td>PT6M56S</td>\n",
              "    </tr>\n",
              "    <tr>\n",
              "      <th>2</th>\n",
              "      <td>jxe870HmYBE</td>\n",
              "      <td>en</td>\n",
              "      <td>Max Verstappen’s Icy Pre-Season Fun: Driving A...</td>\n",
              "      <td>2022-02-03T13:29:23Z</td>\n",
              "      <td>1064</td>\n",
              "      <td>0</td>\n",
              "      <td>26474</td>\n",
              "      <td>736149</td>\n",
              "      <td>hd</td>\n",
              "      <td>PT2M6S</td>\n",
              "    </tr>\n",
              "    <tr>\n",
              "      <th>3</th>\n",
              "      <td>yxVOownOSRs</td>\n",
              "      <td>en</td>\n",
              "      <td>which runner are you? 🏃‍♀️</td>\n",
              "      <td>2022-02-01T17:09:05Z</td>\n",
              "      <td>61</td>\n",
              "      <td>0</td>\n",
              "      <td>1478</td>\n",
              "      <td>49527</td>\n",
              "      <td>hd</td>\n",
              "      <td>PT25S</td>\n",
              "    </tr>\n",
              "    <tr>\n",
              "      <th>4</th>\n",
              "      <td>3-yglCSCPng</td>\n",
              "      <td>en</td>\n",
              "      <td>incredible skiing skills that just look ✨ casu...</td>\n",
              "      <td>2022-01-14T13:00:01Z</td>\n",
              "      <td>43</td>\n",
              "      <td>0</td>\n",
              "      <td>5702</td>\n",
              "      <td>227869</td>\n",
              "      <td>hd</td>\n",
              "      <td>PT22S</td>\n",
              "    </tr>\n",
              "  </tbody>\n",
              "</table>\n",
              "</div>\n",
              "      <button class=\"colab-df-convert\" onclick=\"convertToInteractive('df-9e4804bf-1f37-4378-81b8-b233bc76693b')\"\n",
              "              title=\"Convert this dataframe to an interactive table.\"\n",
              "              style=\"display:none;\">\n",
              "        \n",
              "  <svg xmlns=\"http://www.w3.org/2000/svg\" height=\"24px\"viewBox=\"0 0 24 24\"\n",
              "       width=\"24px\">\n",
              "    <path d=\"M0 0h24v24H0V0z\" fill=\"none\"/>\n",
              "    <path d=\"M18.56 5.44l.94 2.06.94-2.06 2.06-.94-2.06-.94-.94-2.06-.94 2.06-2.06.94zm-11 1L8.5 8.5l.94-2.06 2.06-.94-2.06-.94L8.5 2.5l-.94 2.06-2.06.94zm10 10l.94 2.06.94-2.06 2.06-.94-2.06-.94-.94-2.06-.94 2.06-2.06.94z\"/><path d=\"M17.41 7.96l-1.37-1.37c-.4-.4-.92-.59-1.43-.59-.52 0-1.04.2-1.43.59L10.3 9.45l-7.72 7.72c-.78.78-.78 2.05 0 2.83L4 21.41c.39.39.9.59 1.41.59.51 0 1.02-.2 1.41-.59l7.78-7.78 2.81-2.81c.8-.78.8-2.07 0-2.86zM5.41 20L4 18.59l7.72-7.72 1.47 1.35L5.41 20z\"/>\n",
              "  </svg>\n",
              "      </button>\n",
              "      \n",
              "  <style>\n",
              "    .colab-df-container {\n",
              "      display:flex;\n",
              "      flex-wrap:wrap;\n",
              "      gap: 12px;\n",
              "    }\n",
              "\n",
              "    .colab-df-convert {\n",
              "      background-color: #E8F0FE;\n",
              "      border: none;\n",
              "      border-radius: 50%;\n",
              "      cursor: pointer;\n",
              "      display: none;\n",
              "      fill: #1967D2;\n",
              "      height: 32px;\n",
              "      padding: 0 0 0 0;\n",
              "      width: 32px;\n",
              "    }\n",
              "\n",
              "    .colab-df-convert:hover {\n",
              "      background-color: #E2EBFA;\n",
              "      box-shadow: 0px 1px 2px rgba(60, 64, 67, 0.3), 0px 1px 3px 1px rgba(60, 64, 67, 0.15);\n",
              "      fill: #174EA6;\n",
              "    }\n",
              "\n",
              "    [theme=dark] .colab-df-convert {\n",
              "      background-color: #3B4455;\n",
              "      fill: #D2E3FC;\n",
              "    }\n",
              "\n",
              "    [theme=dark] .colab-df-convert:hover {\n",
              "      background-color: #434B5C;\n",
              "      box-shadow: 0px 1px 3px 1px rgba(0, 0, 0, 0.15);\n",
              "      filter: drop-shadow(0px 1px 2px rgba(0, 0, 0, 0.3));\n",
              "      fill: #FFFFFF;\n",
              "    }\n",
              "  </style>\n",
              "\n",
              "      <script>\n",
              "        const buttonEl =\n",
              "          document.querySelector('#df-9e4804bf-1f37-4378-81b8-b233bc76693b button.colab-df-convert');\n",
              "        buttonEl.style.display =\n",
              "          google.colab.kernel.accessAllowed ? 'block' : 'none';\n",
              "\n",
              "        async function convertToInteractive(key) {\n",
              "          const element = document.querySelector('#df-9e4804bf-1f37-4378-81b8-b233bc76693b');\n",
              "          const dataTable =\n",
              "            await google.colab.kernel.invokeFunction('convertToInteractive',\n",
              "                                                     [key], {});\n",
              "          if (!dataTable) return;\n",
              "\n",
              "          const docLinkHtml = 'Like what you see? Visit the ' +\n",
              "            '<a target=\"_blank\" href=https://colab.research.google.com/notebooks/data_table.ipynb>data table notebook</a>'\n",
              "            + ' to learn more about interactive tables.';\n",
              "          element.innerHTML = '';\n",
              "          dataTable['output_type'] = 'display_data';\n",
              "          await google.colab.output.renderOutput(dataTable, element);\n",
              "          const docLink = document.createElement('div');\n",
              "          docLink.innerHTML = docLinkHtml;\n",
              "          element.appendChild(docLink);\n",
              "        }\n",
              "      </script>\n",
              "    </div>\n",
              "  </div>\n",
              "  "
            ],
            "text/plain": [
              "            id defaultAudioLanguage  ... definition duration\n",
              "0  xsPlB4WAmRc                   en  ...         hd    PT22S\n",
              "1  q-r6V_PgtcY                   en  ...         hd  PT6M56S\n",
              "2  jxe870HmYBE                   en  ...         hd   PT2M6S\n",
              "3  yxVOownOSRs                   en  ...         hd    PT25S\n",
              "4  3-yglCSCPng                   en  ...         hd    PT22S\n",
              "\n",
              "[5 rows x 10 columns]"
            ]
          },
          "metadata": {},
          "execution_count": 13
        }
      ]
    },
    {
      "cell_type": "markdown",
      "source": [
        "<h5 align='right'>Investigate a null columns e fill the NaN</h5>\n",
        "<hr color='f47b0a'>"
      ],
      "metadata": {
        "id": "NXEVHyXZZvQ1"
      }
    },
    {
      "cell_type": "code",
      "source": [
        "df['favoriteCount'].isnull().value_counts()"
      ],
      "metadata": {
        "colab": {
          "base_uri": "https://localhost:8080/",
          "height": 503
        },
        "id": "nIke2KkKgcQh",
        "outputId": "d600785f-07ad-4928-e0e4-c165118256a0"
      },
      "execution_count": 37,
      "outputs": [
        {
          "output_type": "error",
          "ename": "KeyError",
          "evalue": "ignored",
          "traceback": [
            "\u001b[0;31m---------------------------------------------------------------------------\u001b[0m",
            "\u001b[0;31mKeyError\u001b[0m                                  Traceback (most recent call last)",
            "\u001b[0;32m/usr/local/lib/python3.7/dist-packages/pandas/core/indexes/base.py\u001b[0m in \u001b[0;36mget_loc\u001b[0;34m(self, key, method, tolerance)\u001b[0m\n\u001b[1;32m   3360\u001b[0m             \u001b[0;32mtry\u001b[0m\u001b[0;34m:\u001b[0m\u001b[0;34m\u001b[0m\u001b[0;34m\u001b[0m\u001b[0m\n\u001b[0;32m-> 3361\u001b[0;31m                 \u001b[0;32mreturn\u001b[0m \u001b[0mself\u001b[0m\u001b[0;34m.\u001b[0m\u001b[0m_engine\u001b[0m\u001b[0;34m.\u001b[0m\u001b[0mget_loc\u001b[0m\u001b[0;34m(\u001b[0m\u001b[0mcasted_key\u001b[0m\u001b[0;34m)\u001b[0m\u001b[0;34m\u001b[0m\u001b[0;34m\u001b[0m\u001b[0m\n\u001b[0m\u001b[1;32m   3362\u001b[0m             \u001b[0;32mexcept\u001b[0m \u001b[0mKeyError\u001b[0m \u001b[0;32mas\u001b[0m \u001b[0merr\u001b[0m\u001b[0;34m:\u001b[0m\u001b[0;34m\u001b[0m\u001b[0;34m\u001b[0m\u001b[0m\n",
            "\u001b[0;32m/usr/local/lib/python3.7/dist-packages/pandas/_libs/index.pyx\u001b[0m in \u001b[0;36mpandas._libs.index.IndexEngine.get_loc\u001b[0;34m()\u001b[0m\n",
            "\u001b[0;32m/usr/local/lib/python3.7/dist-packages/pandas/_libs/index.pyx\u001b[0m in \u001b[0;36mpandas._libs.index.IndexEngine.get_loc\u001b[0;34m()\u001b[0m\n",
            "\u001b[0;32mpandas/_libs/hashtable_class_helper.pxi\u001b[0m in \u001b[0;36mpandas._libs.hashtable.PyObjectHashTable.get_item\u001b[0;34m()\u001b[0m\n",
            "\u001b[0;32mpandas/_libs/hashtable_class_helper.pxi\u001b[0m in \u001b[0;36mpandas._libs.hashtable.PyObjectHashTable.get_item\u001b[0;34m()\u001b[0m\n",
            "\u001b[0;31mKeyError\u001b[0m: 'favoriteCount'",
            "\nThe above exception was the direct cause of the following exception:\n",
            "\u001b[0;31mKeyError\u001b[0m                                  Traceback (most recent call last)",
            "\u001b[0;32m<ipython-input-37-b3db580c300f>\u001b[0m in \u001b[0;36m<module>\u001b[0;34m()\u001b[0m\n\u001b[0;32m----> 1\u001b[0;31m \u001b[0mdf\u001b[0m\u001b[0;34m[\u001b[0m\u001b[0;34m'favoriteCount'\u001b[0m\u001b[0;34m]\u001b[0m\u001b[0;34m.\u001b[0m\u001b[0misnull\u001b[0m\u001b[0;34m(\u001b[0m\u001b[0;34m)\u001b[0m\u001b[0;34m.\u001b[0m\u001b[0mvalue_counts\u001b[0m\u001b[0;34m(\u001b[0m\u001b[0;34m)\u001b[0m\u001b[0;34m\u001b[0m\u001b[0;34m\u001b[0m\u001b[0m\n\u001b[0m",
            "\u001b[0;32m/usr/local/lib/python3.7/dist-packages/pandas/core/frame.py\u001b[0m in \u001b[0;36m__getitem__\u001b[0;34m(self, key)\u001b[0m\n\u001b[1;32m   3456\u001b[0m             \u001b[0;32mif\u001b[0m \u001b[0mself\u001b[0m\u001b[0;34m.\u001b[0m\u001b[0mcolumns\u001b[0m\u001b[0;34m.\u001b[0m\u001b[0mnlevels\u001b[0m \u001b[0;34m>\u001b[0m \u001b[0;36m1\u001b[0m\u001b[0;34m:\u001b[0m\u001b[0;34m\u001b[0m\u001b[0;34m\u001b[0m\u001b[0m\n\u001b[1;32m   3457\u001b[0m                 \u001b[0;32mreturn\u001b[0m \u001b[0mself\u001b[0m\u001b[0;34m.\u001b[0m\u001b[0m_getitem_multilevel\u001b[0m\u001b[0;34m(\u001b[0m\u001b[0mkey\u001b[0m\u001b[0;34m)\u001b[0m\u001b[0;34m\u001b[0m\u001b[0;34m\u001b[0m\u001b[0m\n\u001b[0;32m-> 3458\u001b[0;31m             \u001b[0mindexer\u001b[0m \u001b[0;34m=\u001b[0m \u001b[0mself\u001b[0m\u001b[0;34m.\u001b[0m\u001b[0mcolumns\u001b[0m\u001b[0;34m.\u001b[0m\u001b[0mget_loc\u001b[0m\u001b[0;34m(\u001b[0m\u001b[0mkey\u001b[0m\u001b[0;34m)\u001b[0m\u001b[0;34m\u001b[0m\u001b[0;34m\u001b[0m\u001b[0m\n\u001b[0m\u001b[1;32m   3459\u001b[0m             \u001b[0;32mif\u001b[0m \u001b[0mis_integer\u001b[0m\u001b[0;34m(\u001b[0m\u001b[0mindexer\u001b[0m\u001b[0;34m)\u001b[0m\u001b[0;34m:\u001b[0m\u001b[0;34m\u001b[0m\u001b[0;34m\u001b[0m\u001b[0m\n\u001b[1;32m   3460\u001b[0m                 \u001b[0mindexer\u001b[0m \u001b[0;34m=\u001b[0m \u001b[0;34m[\u001b[0m\u001b[0mindexer\u001b[0m\u001b[0;34m]\u001b[0m\u001b[0;34m\u001b[0m\u001b[0;34m\u001b[0m\u001b[0m\n",
            "\u001b[0;32m/usr/local/lib/python3.7/dist-packages/pandas/core/indexes/base.py\u001b[0m in \u001b[0;36mget_loc\u001b[0;34m(self, key, method, tolerance)\u001b[0m\n\u001b[1;32m   3361\u001b[0m                 \u001b[0;32mreturn\u001b[0m \u001b[0mself\u001b[0m\u001b[0;34m.\u001b[0m\u001b[0m_engine\u001b[0m\u001b[0;34m.\u001b[0m\u001b[0mget_loc\u001b[0m\u001b[0;34m(\u001b[0m\u001b[0mcasted_key\u001b[0m\u001b[0;34m)\u001b[0m\u001b[0;34m\u001b[0m\u001b[0;34m\u001b[0m\u001b[0m\n\u001b[1;32m   3362\u001b[0m             \u001b[0;32mexcept\u001b[0m \u001b[0mKeyError\u001b[0m \u001b[0;32mas\u001b[0m \u001b[0merr\u001b[0m\u001b[0;34m:\u001b[0m\u001b[0;34m\u001b[0m\u001b[0;34m\u001b[0m\u001b[0m\n\u001b[0;32m-> 3363\u001b[0;31m                 \u001b[0;32mraise\u001b[0m \u001b[0mKeyError\u001b[0m\u001b[0;34m(\u001b[0m\u001b[0mkey\u001b[0m\u001b[0;34m)\u001b[0m \u001b[0;32mfrom\u001b[0m \u001b[0merr\u001b[0m\u001b[0;34m\u001b[0m\u001b[0;34m\u001b[0m\u001b[0m\n\u001b[0m\u001b[1;32m   3364\u001b[0m \u001b[0;34m\u001b[0m\u001b[0m\n\u001b[1;32m   3365\u001b[0m         \u001b[0;32mif\u001b[0m \u001b[0mis_scalar\u001b[0m\u001b[0;34m(\u001b[0m\u001b[0mkey\u001b[0m\u001b[0;34m)\u001b[0m \u001b[0;32mand\u001b[0m \u001b[0misna\u001b[0m\u001b[0;34m(\u001b[0m\u001b[0mkey\u001b[0m\u001b[0;34m)\u001b[0m \u001b[0;32mand\u001b[0m \u001b[0;32mnot\u001b[0m \u001b[0mself\u001b[0m\u001b[0;34m.\u001b[0m\u001b[0mhasnans\u001b[0m\u001b[0;34m:\u001b[0m\u001b[0;34m\u001b[0m\u001b[0;34m\u001b[0m\u001b[0m\n",
            "\u001b[0;31mKeyError\u001b[0m: 'favoriteCount'"
          ]
        }
      ]
    },
    {
      "cell_type": "code",
      "source": [
        "df['favoriteCount'].astype(int).plot()"
      ],
      "metadata": {
        "colab": {
          "base_uri": "https://localhost:8080/",
          "height": 282
        },
        "id": "0V7p9ePxZbht",
        "outputId": "8f7b7e91-a6dc-42f1-9942-cbe803a03ced"
      },
      "execution_count": 14,
      "outputs": [
        {
          "output_type": "execute_result",
          "data": {
            "text/plain": [
              "<matplotlib.axes._subplots.AxesSubplot at 0x7fa169f383d0>"
            ]
          },
          "metadata": {},
          "execution_count": 14
        },
        {
          "output_type": "display_data",
          "data": {
            "image/png": "[encoded data removed]",
            "text/plain": [
              "<Figure size 432x288 with 1 Axes>"
            ]
          },
          "metadata": {
            "needs_background": "light"
          }
        }
      ]
    },
    {
      "cell_type": "code",
      "source": [
        "df=df.drop(columns=['favoriteCount'])"
      ],
      "metadata": {
        "id": "IbnmnOcfZkTb"
      },
      "execution_count": 15,
      "outputs": []
    },
    {
      "cell_type": "code",
      "source": [
        "df.isna().value_counts()"
      ],
      "metadata": {
        "colab": {
          "base_uri": "https://localhost:8080/"
        },
        "id": "UsP9qRdtb_1k",
        "outputId": "927aeb38-af18-4f80-ac71-878a488cf2c3"
      },
      "execution_count": 23,
      "outputs": [
        {
          "output_type": "execute_result",
          "data": {
            "text/plain": [
              "id     defaultAudioLanguage  title  publishedAt  commentCount  likeCount  viewCount  definition  duration\n",
              "False  True                  False  False        False         False      False      False       False       3955\n",
              "       False                 False  False        False         False      False      False       False       1764\n",
              "                                                 True          False      False      False       False          2\n",
              "       True                  False  False        False         True       False      False       False          2\n",
              "dtype: int64"
            ]
          },
          "metadata": {},
          "execution_count": 23
        }
      ]
    },
    {
      "cell_type": "code",
      "source": [
        "df=df.fillna(0)"
      ],
      "metadata": {
        "id": "NYkpoOBocNgI"
      },
      "execution_count": 24,
      "outputs": []
    },
    {
      "cell_type": "markdown",
      "source": [
        "<h5 align='right'>Change the data type</h5>\n",
        "<hr color='f47b0a'>"
      ],
      "metadata": {
        "id": "79gdzhllgiDG"
      }
    },
    {
      "cell_type": "code",
      "source": [
        "df['publishedAt'] = pd.to_datetime(df['publishedAt'], infer_datetime_format=True)\n",
        "df['publishedAt'] = df['publishedAt'].dt.tz_localize(None)\n",
        "df.info()"
      ],
      "metadata": {
        "colab": {
          "base_uri": "https://localhost:8080/"
        },
        "id": "Qj8NLOs7a3vH",
        "outputId": "d746720c-99b6-4c86-a487-67ed4a76df99"
      },
      "execution_count": 35,
      "outputs": [
        {
          "output_type": "stream",
          "name": "stdout",
          "text": [
            "<class 'pandas.core.frame.DataFrame'>\n",
            "RangeIndex: 5723 entries, 0 to 5722\n",
            "Data columns (total 9 columns):\n",
            " #   Column                Non-Null Count  Dtype         \n",
            "---  ------                --------------  -----         \n",
            " 0   id                    5723 non-null   object        \n",
            " 1   defaultAudioLanguage  5723 non-null   object        \n",
            " 2   title                 5723 non-null   object        \n",
            " 3   publishedAt           5723 non-null   datetime64[ns]\n",
            " 4   commentCount          5723 non-null   int64         \n",
            " 5   likeCount             5723 non-null   int64         \n",
            " 6   viewCount             5723 non-null   int64         \n",
            " 7   definition            5723 non-null   object        \n",
            " 8   duration              5723 non-null   object        \n",
            "dtypes: datetime64[ns](1), int64(3), object(5)\n",
            "memory usage: 402.5+ KB\n"
          ]
        }
      ]
    },
    {
      "cell_type": "code",
      "source": [
        "df['likeCount'] = df['likeCount'].astype(int)\n",
        "df['commentCount'] =df['commentCount'].astype(int)\n",
        "df['viewCount'] =df['viewCount'].astype(int)\n",
        "df.info() \n"
      ],
      "metadata": {
        "colab": {
          "base_uri": "https://localhost:8080/"
        },
        "id": "rb29UpuqbBnv",
        "outputId": "266f737c-0505-4931-cff3-f2ec4cb5e130"
      },
      "execution_count": 25,
      "outputs": [
        {
          "output_type": "stream",
          "name": "stdout",
          "text": [
            "<class 'pandas.core.frame.DataFrame'>\n",
            "RangeIndex: 5723 entries, 0 to 5722\n",
            "Data columns (total 9 columns):\n",
            " #   Column                Non-Null Count  Dtype              \n",
            "---  ------                --------------  -----              \n",
            " 0   id                    5723 non-null   object             \n",
            " 1   defaultAudioLanguage  5723 non-null   object             \n",
            " 2   title                 5723 non-null   object             \n",
            " 3   publishedAt           5723 non-null   datetime64[ns, UTC]\n",
            " 4   commentCount          5723 non-null   int64              \n",
            " 5   likeCount             5723 non-null   int64              \n",
            " 6   viewCount             5723 non-null   int64              \n",
            " 7   definition            5723 non-null   object             \n",
            " 8   duration              5723 non-null   object             \n",
            "dtypes: datetime64[ns, UTC](1), int64(3), object(5)\n",
            "memory usage: 402.5+ KB\n"
          ]
        }
      ]
    },
    {
      "cell_type": "markdown",
      "source": [
        "<h5 align='right'>Save the new dataset</h5>\n",
        "<hr color='f47b0a'>"
      ],
      "metadata": {
        "id": "rnDEeNEUgy-d"
      }
    },
    {
      "cell_type": "code",
      "source": [
        "df.to_excel(r'/content/drive/MyDrive/Colab Notebooks/video_data_clean.xlsx',\n",
        "            index = False, header=True)\n"
      ],
      "metadata": {
        "id": "S2kMpNYbbDin"
      },
      "execution_count": 36,
      "outputs": []
    }
  ]
}